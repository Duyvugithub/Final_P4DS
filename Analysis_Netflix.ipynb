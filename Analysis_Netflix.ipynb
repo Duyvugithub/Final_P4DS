{
 "cells": [
  {
   "cell_type": "markdown",
   "id": "f75770c4",
   "metadata": {
    "toc": true
   },
   "source": [
    "<h1>Table of Contents<span class=\"tocSkip\"></span></h1>\n",
    "<div class=\"toc\"><ul class=\"toc-item\"><li><ul class=\"toc-item\"><li><span><a href=\"#Import-các-thư-viện-cần-thiết\" data-toc-modified-id=\"Import-các-thư-viện-cần-thiết-0.1\">Import các thư viện cần thiết</a></span></li></ul></li><li><span><a href=\"#Thu-Thập-dữ-liệu\" data-toc-modified-id=\"Thu-Thập-dữ-liệu-1\">Thu Thập dữ liệu</a></span></li><li><span><a href=\"#Khám-phá-dữ-liệu\" data-toc-modified-id=\"Khám-phá-dữ-liệu-2\">Khám phá dữ liệu</a></span><ul class=\"toc-item\"><li><span><a href=\"#Đọc-dữ-liệu-từ-file-csv-vào-DataFrame\" data-toc-modified-id=\"Đọc-dữ-liệu-từ-file-csv-vào-DataFrame-2.1\">Đọc dữ liệu từ file csv vào DataFrame</a></span></li><li><span><a href=\"#Dữ-liệu-có-bao-nhiêu-dòng-bao-nhiêu-cột\" data-toc-modified-id=\"Dữ-liệu-có-bao-nhiêu-dòng-bao-nhiêu-cột-2.2\">Dữ liệu có bao nhiêu dòng bao nhiêu cột</a></span></li><li><span><a href=\"#Mỗi-dòng-có-ý-nghĩa-gì?-Có-vấn-đề-các-dòng-có-ý-nghĩa-khác-nhau-không?\" data-toc-modified-id=\"Mỗi-dòng-có-ý-nghĩa-gì?-Có-vấn-đề-các-dòng-có-ý-nghĩa-khác-nhau-không?-2.3\">Mỗi dòng có ý nghĩa gì? Có vấn đề các dòng có ý nghĩa khác nhau không?</a></span></li><li><span><a href=\"#Dữ-liệu-có-các-dòng-bị-lặp-không?\" data-toc-modified-id=\"Dữ-liệu-có-các-dòng-bị-lặp-không?-2.4\">Dữ liệu có các dòng bị lặp không?</a></span></li><li><span><a href=\"#Mỗi-cột-có-ý-nghĩa-gì\" data-toc-modified-id=\"Mỗi-cột-có-ý-nghĩa-gì-2.5\">Mỗi cột có ý nghĩa gì</a></span></li><li><span><a href=\"#Mỗi-cột-hiện-đang-có-kiểu-dữ-liệu-gì?-Có-cột-nào-có-kiểu-dữ-liệu-chưa-phù-hợp-để-có-thể-xử-lý-tiếp-không?\" data-toc-modified-id=\"Mỗi-cột-hiện-đang-có-kiểu-dữ-liệu-gì?-Có-cột-nào-có-kiểu-dữ-liệu-chưa-phù-hợp-để-có-thể-xử-lý-tiếp-không?-2.6\">Mỗi cột hiện đang có kiểu dữ liệu gì? Có cột nào có kiểu dữ liệu chưa phù hợp để có thể xử lý tiếp không?</a></span></li></ul></li><li><span><a href=\"#Tiền-xử-lý\" data-toc-modified-id=\"Tiền-xử-lý-3\">Tiền xử lý</a></span><ul class=\"toc-item\"><li><span><a href=\"#Chuyển-dtype-của-cột-&quot;date_added&quot;-sang-datetime\" data-toc-modified-id=\"Chuyển-dtype-của-cột-&quot;date_added&quot;-sang-datetime-3.1\">Chuyển dtype của cột \"date_added\" sang datetime</a></span></li></ul></li><li><span><a href=\"#Khám-phá-dữ-liệu-(tiếp-tục)\" data-toc-modified-id=\"Khám-phá-dữ-liệu-(tiếp-tục)-4\">Khám phá dữ liệu (tiếp tục)</a></span><ul class=\"toc-item\"><li><span><a href=\"#Với-mỗi-cột-có-kiểu-dữ-liệu-dạng-số-(numeric),-các-giá-trị-được-phân-bố-như-thế-nào?\" data-toc-modified-id=\"Với-mỗi-cột-có-kiểu-dữ-liệu-dạng-số-(numeric),-các-giá-trị-được-phân-bố-như-thế-nào?-4.1\">Với mỗi cột có kiểu dữ liệu dạng số (numeric), các giá trị được phân bố như thế nào?</a></span></li><li><span><a href=\"#Với-mỗi-cột-có-kiểu-dữ-liệu-dạng-phân-loại-(categorical),-các-giá-trị-được-phân-bố-như-thế-nào?\" data-toc-modified-id=\"Với-mỗi-cột-có-kiểu-dữ-liệu-dạng-phân-loại-(categorical),-các-giá-trị-được-phân-bố-như-thế-nào?-4.2\">Với mỗi cột có kiểu dữ liệu dạng phân loại (categorical), các giá trị được phân bố như thế nào?</a></span></li></ul></li><li><span><a href=\"#Đưa-ra-câu-hỏi-có-ý-nghĩa-cần-trả-lời\" data-toc-modified-id=\"Đưa-ra-câu-hỏi-có-ý-nghĩa-cần-trả-lời-5\">Đưa ra câu hỏi có ý nghĩa cần trả lời</a></span><ul class=\"toc-item\"><li><span><a href=\"#Câu-hỏi-1:-Đâu-là-thể-loại-phim-được-mọi-người-đón-nhận-và-đánh-giá-cao-?\" data-toc-modified-id=\"Câu-hỏi-1:-Đâu-là-thể-loại-phim-được-mọi-người-đón-nhận-và-đánh-giá-cao-?-5.1\">Câu hỏi 1: Đâu là thể loại phim được mọi người đón nhận và đánh giá cao ?</a></span></li><li><span><a href=\"#Câu-hỏi-2:-Các-quốc-gia-nào-sản-xuất-TV-Show/Movie-hàng-đầu-Netflix-?\" data-toc-modified-id=\"Câu-hỏi-2:-Các-quốc-gia-nào-sản-xuất-TV-Show/Movie-hàng-đầu-Netflix-?-5.2\">Câu hỏi 2: Các quốc gia nào sản xuất TV Show/Movie hàng đầu Netflix ?</a></span></li></ul></li><li><span><a href=\"#Nhìn-lại-quá-trình-làm-đồ-án\" data-toc-modified-id=\"Nhìn-lại-quá-trình-làm-đồ-án-6\">Nhìn lại quá trình làm đồ án</a></span></li><li><span><a href=\"#Tài-liệu-tham-khảo\" data-toc-modified-id=\"Tài-liệu-tham-khảo-7\">Tài liệu tham khảo</a></span></li></ul></div>"
   ]
  },
  {
   "cell_type": "markdown",
   "id": "337c3c9c",
   "metadata": {},
   "source": [
    "### Import các thư viện cần thiết"
   ]
  },
  {
   "cell_type": "code",
   "execution_count": 1,
   "id": "99d60d7e",
   "metadata": {},
   "outputs": [],
   "source": [
    "import pandas as pd\n",
    "import matplotlib.pyplot as plt"
   ]
  },
  {
   "cell_type": "markdown",
   "id": "b4e9cf38",
   "metadata": {},
   "source": [
    "## Thu Thập dữ liệu\n",
    "\n",
    "Đây là dữ liệu về TV Shows và Movies trên Netflix kể từ năm 2019. Được lấy từ dataset \"Netflix Movies and TV Shows\" trên Kaggle, dữ liệu gốc [ở đây](https://www.kaggle.com/shivamb/netflix-shows). Dữ liệu được được cấp phép sử dụng(License: CC0: Public Domain). Dữ liệu được thu thập thông qua công cụ tìm kiếm Netflix từ bên thứ ba"
   ]
  },
  {
   "cell_type": "markdown",
   "id": "01fb75b8",
   "metadata": {},
   "source": [
    "## Khám phá dữ liệu"
   ]
  },
  {
   "cell_type": "markdown",
   "id": "111373dc",
   "metadata": {},
   "source": [
    "### Đọc dữ liệu từ file csv vào DataFrame"
   ]
  },
  {
   "cell_type": "code",
   "execution_count": 2,
   "id": "8b2803dc",
   "metadata": {
    "scrolled": true
   },
   "outputs": [
    {
     "data": {
      "text/html": [
       "<div>\n",
       "<style scoped>\n",
       "    .dataframe tbody tr th:only-of-type {\n",
       "        vertical-align: middle;\n",
       "    }\n",
       "\n",
       "    .dataframe tbody tr th {\n",
       "        vertical-align: top;\n",
       "    }\n",
       "\n",
       "    .dataframe thead th {\n",
       "        text-align: right;\n",
       "    }\n",
       "</style>\n",
       "<table border=\"1\" class=\"dataframe\">\n",
       "  <thead>\n",
       "    <tr style=\"text-align: right;\">\n",
       "      <th></th>\n",
       "      <th>show_id</th>\n",
       "      <th>type</th>\n",
       "      <th>title</th>\n",
       "      <th>director</th>\n",
       "      <th>cast</th>\n",
       "      <th>country</th>\n",
       "      <th>date_added</th>\n",
       "      <th>release_year</th>\n",
       "      <th>rating</th>\n",
       "      <th>duration</th>\n",
       "      <th>listed_in</th>\n",
       "      <th>description</th>\n",
       "    </tr>\n",
       "  </thead>\n",
       "  <tbody>\n",
       "    <tr>\n",
       "      <th>2319</th>\n",
       "      <td>s2320</td>\n",
       "      <td>Movie</td>\n",
       "      <td>Furthest Witness</td>\n",
       "      <td>Adam Del Giudice</td>\n",
       "      <td>Aaron Stanford, Teri Reeves, Sean Patrick Flan...</td>\n",
       "      <td>United States, United Kingdom</td>\n",
       "      <td>April 24, 2019</td>\n",
       "      <td>2017</td>\n",
       "      <td>TV-MA</td>\n",
       "      <td>88 min</td>\n",
       "      <td>Dramas, Thrillers</td>\n",
       "      <td>Kyle helps people disappear, but when a crazed...</td>\n",
       "    </tr>\n",
       "    <tr>\n",
       "      <th>6731</th>\n",
       "      <td>s6732</td>\n",
       "      <td>Movie</td>\n",
       "      <td>The Other Side of the Wind</td>\n",
       "      <td>Orson Welles</td>\n",
       "      <td>John Huston, Oja Kodar, Peter Bogdanovich, Sus...</td>\n",
       "      <td>France, Iran, United States</td>\n",
       "      <td>November 2, 2018</td>\n",
       "      <td>2018</td>\n",
       "      <td>R</td>\n",
       "      <td>122 min</td>\n",
       "      <td>Classic Movies, Dramas, Independent Movies</td>\n",
       "      <td>On the last day of his life, a legendary direc...</td>\n",
       "    </tr>\n",
       "    <tr>\n",
       "      <th>5891</th>\n",
       "      <td>s5892</td>\n",
       "      <td>TV Show</td>\n",
       "      <td>Super Drags</td>\n",
       "      <td>NaN</td>\n",
       "      <td>Fernando Mendonça, Sérgio Cantú, Wagner Follar...</td>\n",
       "      <td>Brazil</td>\n",
       "      <td>November 9, 2018</td>\n",
       "      <td>2018</td>\n",
       "      <td>TV-MA</td>\n",
       "      <td>1 Season</td>\n",
       "      <td>International TV Shows, TV Comedies</td>\n",
       "      <td>In this adult animated series, three gay co-wo...</td>\n",
       "    </tr>\n",
       "    <tr>\n",
       "      <th>1103</th>\n",
       "      <td>s1104</td>\n",
       "      <td>TV Show</td>\n",
       "      <td>Bright: The Music Videos</td>\n",
       "      <td>David Ayer</td>\n",
       "      <td>Bastille, Machine Gun Kelly, Bebe Rexha, X Amb...</td>\n",
       "      <td>NaN</td>\n",
       "      <td>November 23, 2017</td>\n",
       "      <td>2017</td>\n",
       "      <td>TV-MA</td>\n",
       "      <td>1 Season</td>\n",
       "      <td>TV Shows</td>\n",
       "      <td>Explore the hit songs from the Will Smith film...</td>\n",
       "    </tr>\n",
       "    <tr>\n",
       "      <th>528</th>\n",
       "      <td>s529</td>\n",
       "      <td>Movie</td>\n",
       "      <td>Animal Crackers</td>\n",
       "      <td>Tony Bancroft, Scott Christian Sava</td>\n",
       "      <td>Emily Blunt, John Krasinski, Ian McKellen, Dan...</td>\n",
       "      <td>China, Spain, South Korea, United States</td>\n",
       "      <td>July 24, 2020</td>\n",
       "      <td>2020</td>\n",
       "      <td>TV-Y7</td>\n",
       "      <td>106 min</td>\n",
       "      <td>Children &amp; Family Movies, Comedies</td>\n",
       "      <td>Enchanted animal crackers turn Owen into whate...</td>\n",
       "    </tr>\n",
       "  </tbody>\n",
       "</table>\n",
       "</div>"
      ],
      "text/plain": [
       "     show_id     type                       title  \\\n",
       "2319   s2320    Movie            Furthest Witness   \n",
       "6731   s6732    Movie  The Other Side of the Wind   \n",
       "5891   s5892  TV Show                 Super Drags   \n",
       "1103   s1104  TV Show    Bright: The Music Videos   \n",
       "528     s529    Movie             Animal Crackers   \n",
       "\n",
       "                                 director  \\\n",
       "2319                     Adam Del Giudice   \n",
       "6731                         Orson Welles   \n",
       "5891                                  NaN   \n",
       "1103                           David Ayer   \n",
       "528   Tony Bancroft, Scott Christian Sava   \n",
       "\n",
       "                                                   cast  \\\n",
       "2319  Aaron Stanford, Teri Reeves, Sean Patrick Flan...   \n",
       "6731  John Huston, Oja Kodar, Peter Bogdanovich, Sus...   \n",
       "5891  Fernando Mendonça, Sérgio Cantú, Wagner Follar...   \n",
       "1103  Bastille, Machine Gun Kelly, Bebe Rexha, X Amb...   \n",
       "528   Emily Blunt, John Krasinski, Ian McKellen, Dan...   \n",
       "\n",
       "                                       country         date_added  \\\n",
       "2319             United States, United Kingdom     April 24, 2019   \n",
       "6731               France, Iran, United States   November 2, 2018   \n",
       "5891                                    Brazil   November 9, 2018   \n",
       "1103                                       NaN  November 23, 2017   \n",
       "528   China, Spain, South Korea, United States      July 24, 2020   \n",
       "\n",
       "      release_year rating  duration  \\\n",
       "2319          2017  TV-MA    88 min   \n",
       "6731          2018      R   122 min   \n",
       "5891          2018  TV-MA  1 Season   \n",
       "1103          2017  TV-MA  1 Season   \n",
       "528           2020  TV-Y7   106 min   \n",
       "\n",
       "                                       listed_in  \\\n",
       "2319                           Dramas, Thrillers   \n",
       "6731  Classic Movies, Dramas, Independent Movies   \n",
       "5891         International TV Shows, TV Comedies   \n",
       "1103                                    TV Shows   \n",
       "528           Children & Family Movies, Comedies   \n",
       "\n",
       "                                            description  \n",
       "2319  Kyle helps people disappear, but when a crazed...  \n",
       "6731  On the last day of his life, a legendary direc...  \n",
       "5891  In this adult animated series, three gay co-wo...  \n",
       "1103  Explore the hit songs from the Will Smith film...  \n",
       "528   Enchanted animal crackers turn Owen into whate...  "
      ]
     },
     "execution_count": 2,
     "metadata": {},
     "output_type": "execute_result"
    }
   ],
   "source": [
    "df = pd.read_csv('netflix_titles.csv')\n",
    "df.sample(5)"
   ]
  },
  {
   "cell_type": "markdown",
   "id": "f801c73f",
   "metadata": {},
   "source": [
    "### Dữ liệu có bao nhiêu dòng bao nhiêu cột"
   ]
  },
  {
   "cell_type": "code",
   "execution_count": 3,
   "id": "6ce2db3a",
   "metadata": {},
   "outputs": [
    {
     "data": {
      "text/plain": [
       "(7787, 12)"
      ]
     },
     "execution_count": 3,
     "metadata": {},
     "output_type": "execute_result"
    }
   ],
   "source": [
    "df.shape"
   ]
  },
  {
   "cell_type": "markdown",
   "id": "458b5714",
   "metadata": {},
   "source": [
    "### Mỗi dòng có ý nghĩa gì? Có vấn đề các dòng có ý nghĩa khác nhau không?"
   ]
  },
  {
   "cell_type": "markdown",
   "id": "866ee76f",
   "metadata": {},
   "source": [
    "Mỗi dòng cho biết thông tin về các TV Show và Movie trên Netflix. Không có vấn đề gì giữa các dòng có ý nghĩa khác nhau"
   ]
  },
  {
   "cell_type": "markdown",
   "id": "a3fc650c",
   "metadata": {},
   "source": [
    "### Dữ liệu có các dòng bị lặp không?"
   ]
  },
  {
   "cell_type": "code",
   "execution_count": 4,
   "id": "24db1567",
   "metadata": {},
   "outputs": [
    {
     "data": {
      "text/plain": [
       "0"
      ]
     },
     "execution_count": 4,
     "metadata": {},
     "output_type": "execute_result"
    }
   ],
   "source": [
    "df.duplicated().sum()"
   ]
  },
  {
   "cell_type": "markdown",
   "id": "f86b136d",
   "metadata": {},
   "source": [
    "### Mỗi cột có ý nghĩa gì"
   ]
  },
  {
   "cell_type": "markdown",
   "id": "2474abdb",
   "metadata": {},
   "source": [
    "Dưới đây là phần mô tả của các cột trong tập dữ liệu\n",
    "- **show_id**: Unique ID for every Movie / Tv Show\n",
    "- **type**: Identifier - A Movie or TV Show\n",
    "- **title**: Title of the Movie / Tv Show\n",
    "- **director**: Director of the Movie\n",
    "- **cast**: Actors involved in the movie / show\n",
    "- **country**: Country where the movie / show was produced\n",
    "- **date_added**: Date it was added on Netflix\n",
    "- **release_year**: Actual Release year of the move / show\n",
    "- **rating**: TV Rating of the movie / show\n",
    "- **duration**: Total Duration - in minutes or number of seasons\n",
    "- **listed_in**: Genre\n",
    "- **description**: The summary description"
   ]
  },
  {
   "cell_type": "markdown",
   "id": "d2f773d6",
   "metadata": {},
   "source": [
    "### Mỗi cột hiện đang có kiểu dữ liệu gì? Có cột nào có kiểu dữ liệu chưa phù hợp để có thể xử lý tiếp không?"
   ]
  },
  {
   "cell_type": "code",
   "execution_count": 5,
   "id": "1f779d30",
   "metadata": {
    "scrolled": true
   },
   "outputs": [
    {
     "data": {
      "text/plain": [
       "show_id         object\n",
       "type            object\n",
       "title           object\n",
       "director        object\n",
       "cast            object\n",
       "country         object\n",
       "date_added      object\n",
       "release_year     int64\n",
       "rating          object\n",
       "duration        object\n",
       "listed_in       object\n",
       "description     object\n",
       "dtype: object"
      ]
     },
     "execution_count": 5,
     "metadata": {},
     "output_type": "execute_result"
    }
   ],
   "source": [
    "df.dtypes"
   ]
  },
  {
   "cell_type": "markdown",
   "id": "3f694392",
   "metadata": {},
   "source": [
    "Cột \"date_added\" đang có kiểu dữ liệu là Object vì vậy ta cần chuyển sang kiểu dữ liệu datetime\n",
    "\n",
    "Cột \"duration\" cũng có kiểu dữ liệu Object nhưng mà do các giá trị trong cột này bao gồm 2 kiểu.\n",
    "- season tương ứng với TV Show\n",
    "- min tương ứng với Movie\n",
    "\n",
    "Vì vậy ta sẽ không cần chuyển cột này qua dạng datetime"
   ]
  },
  {
   "cell_type": "markdown",
   "id": "209bacfd",
   "metadata": {},
   "source": [
    "## Tiền xử lý"
   ]
  },
  {
   "cell_type": "markdown",
   "id": "5a141778",
   "metadata": {},
   "source": [
    "### Chuyển dtype của cột \"date_added\" sang datetime"
   ]
  },
  {
   "cell_type": "code",
   "execution_count": 6,
   "id": "8a0be736",
   "metadata": {},
   "outputs": [
    {
     "data": {
      "text/plain": [
       "dtype('<M8[ns]')"
      ]
     },
     "execution_count": 6,
     "metadata": {},
     "output_type": "execute_result"
    }
   ],
   "source": [
    "df['date_added'] = pd.to_datetime(df.date_added.str.strip(), format='%B %d, %Y')\n",
    "df.date_added.dtypes"
   ]
  },
  {
   "cell_type": "markdown",
   "id": "f02ff316",
   "metadata": {},
   "source": [
    "## Khám phá dữ liệu (tiếp tục)"
   ]
  },
  {
   "cell_type": "markdown",
   "id": "fe24e425",
   "metadata": {},
   "source": [
    "### Với mỗi cột có kiểu dữ liệu dạng số (numeric), các giá trị được phân bố như thế nào?"
   ]
  },
  {
   "cell_type": "markdown",
   "id": "2dfda365",
   "metadata": {},
   "source": [
    "Ta có các cột \"date_added\" và \"release_year\" là các cột thuộc nhóm numeric"
   ]
  },
  {
   "cell_type": "code",
   "execution_count": 7,
   "id": "31435e81",
   "metadata": {
    "scrolled": false
   },
   "outputs": [
    {
     "data": {
      "text/html": [
       "<div>\n",
       "<style scoped>\n",
       "    .dataframe tbody tr th:only-of-type {\n",
       "        vertical-align: middle;\n",
       "    }\n",
       "\n",
       "    .dataframe tbody tr th {\n",
       "        vertical-align: top;\n",
       "    }\n",
       "\n",
       "    .dataframe thead th {\n",
       "        text-align: right;\n",
       "    }\n",
       "</style>\n",
       "<table border=\"1\" class=\"dataframe\">\n",
       "  <thead>\n",
       "    <tr style=\"text-align: right;\">\n",
       "      <th></th>\n",
       "      <th>date_added</th>\n",
       "      <th>release_year</th>\n",
       "    </tr>\n",
       "  </thead>\n",
       "  <tbody>\n",
       "    <tr>\n",
       "      <th>missing_ratio</th>\n",
       "      <td>0.128419</td>\n",
       "      <td>0.0</td>\n",
       "    </tr>\n",
       "    <tr>\n",
       "      <th>min</th>\n",
       "      <td>2008-01-01 00:00:00</td>\n",
       "      <td>1925.0</td>\n",
       "    </tr>\n",
       "    <tr>\n",
       "      <th>max</th>\n",
       "      <td>2021-01-16 00:00:00</td>\n",
       "      <td>2021.0</td>\n",
       "    </tr>\n",
       "  </tbody>\n",
       "</table>\n",
       "</div>"
      ],
      "text/plain": [
       "                        date_added  release_year\n",
       "missing_ratio             0.128419           0.0\n",
       "min            2008-01-01 00:00:00        1925.0\n",
       "max            2021-01-16 00:00:00        2021.0"
      ]
     },
     "execution_count": 7,
     "metadata": {},
     "output_type": "execute_result"
    }
   ],
   "source": [
    "def missing_ratio(s):\n",
    "    return s.isna().mean()*100\n",
    "\n",
    "nume_col = df[['date_added', 'release_year']]\n",
    "nume_col_profile_df = nume_col.agg([missing_ratio, 'min', 'max'])\n",
    "nume_col_profile_df"
   ]
  },
  {
   "cell_type": "markdown",
   "id": "53214479",
   "metadata": {},
   "source": [
    "min và max của các cột không có gì bất thường"
   ]
  },
  {
   "cell_type": "markdown",
   "id": "f14ff3b7",
   "metadata": {},
   "source": [
    "### Với mỗi cột có kiểu dữ liệu dạng phân loại (categorical), các giá trị được phân bố như thế nào?"
   ]
  },
  {
   "cell_type": "markdown",
   "id": "4c5e77a2",
   "metadata": {},
   "source": [
    "Ta có 10 cột categorical là \"show_id\", \"type\", \"title\", \"director\", \"cast\", \"country\", \"rating\", \"duration\", \"listed_in\", \"description\""
   ]
  },
  {
   "cell_type": "code",
   "execution_count": 8,
   "id": "724b68cb",
   "metadata": {
    "scrolled": true
   },
   "outputs": [
    {
     "data": {
      "text/html": [
       "<div>\n",
       "<style scoped>\n",
       "    .dataframe tbody tr th:only-of-type {\n",
       "        vertical-align: middle;\n",
       "    }\n",
       "\n",
       "    .dataframe tbody tr th {\n",
       "        vertical-align: top;\n",
       "    }\n",
       "\n",
       "    .dataframe thead th {\n",
       "        text-align: right;\n",
       "    }\n",
       "</style>\n",
       "<table border=\"1\" class=\"dataframe\">\n",
       "  <thead>\n",
       "    <tr style=\"text-align: right;\">\n",
       "      <th></th>\n",
       "      <th>show_id</th>\n",
       "      <th>type</th>\n",
       "      <th>title</th>\n",
       "      <th>director</th>\n",
       "      <th>cast</th>\n",
       "      <th>country</th>\n",
       "      <th>rating</th>\n",
       "      <th>duration</th>\n",
       "      <th>listed_in</th>\n",
       "      <th>description</th>\n",
       "    </tr>\n",
       "  </thead>\n",
       "  <tbody>\n",
       "    <tr>\n",
       "      <th>missing_ratio</th>\n",
       "      <td>0.0</td>\n",
       "      <td>0.0</td>\n",
       "      <td>0.0</td>\n",
       "      <td>30.679337</td>\n",
       "      <td>9.220496</td>\n",
       "      <td>6.510851</td>\n",
       "      <td>0.089893</td>\n",
       "      <td>0.0</td>\n",
       "      <td>0.0</td>\n",
       "      <td>0.0</td>\n",
       "    </tr>\n",
       "    <tr>\n",
       "      <th>num_diff_vals</th>\n",
       "      <td>7787</td>\n",
       "      <td>2</td>\n",
       "      <td>7787</td>\n",
       "      <td>4049</td>\n",
       "      <td>6831</td>\n",
       "      <td>681</td>\n",
       "      <td>14</td>\n",
       "      <td>216</td>\n",
       "      <td>492</td>\n",
       "      <td>7769</td>\n",
       "    </tr>\n",
       "    <tr>\n",
       "      <th>diff_vals</th>\n",
       "      <td>[s1, s2, s3, s4, s5, s6, s7, s8, s9, s10, s11,...</td>\n",
       "      <td>[TV Show, Movie]</td>\n",
       "      <td>[3%, 7:19, 23:59, 9, 21, 46, 122, 187, 706, 19...</td>\n",
       "      <td>[nan, Jorge Michel Grau, Gilbert Chan, Shane A...</td>\n",
       "      <td>[João Miguel, Bianca Comparato, Michel Gomes, ...</td>\n",
       "      <td>[Brazil, Mexico, Singapore, United States, Tur...</td>\n",
       "      <td>[TV-MA, R, PG-13, TV-14, TV-PG, NR, TV-G, TV-Y...</td>\n",
       "      <td>[4 Seasons, 93 min, 78 min, 80 min, 123 min, 1...</td>\n",
       "      <td>[International TV Shows, TV Dramas, TV Sci-Fi ...</td>\n",
       "      <td>[In a future where the elite inhabit an island...</td>\n",
       "    </tr>\n",
       "  </tbody>\n",
       "</table>\n",
       "</div>"
      ],
      "text/plain": [
       "                                                         show_id  \\\n",
       "missing_ratio                                                0.0   \n",
       "num_diff_vals                                               7787   \n",
       "diff_vals      [s1, s2, s3, s4, s5, s6, s7, s8, s9, s10, s11,...   \n",
       "\n",
       "                           type  \\\n",
       "missing_ratio               0.0   \n",
       "num_diff_vals                 2   \n",
       "diff_vals      [TV Show, Movie]   \n",
       "\n",
       "                                                           title  \\\n",
       "missing_ratio                                                0.0   \n",
       "num_diff_vals                                               7787   \n",
       "diff_vals      [3%, 7:19, 23:59, 9, 21, 46, 122, 187, 706, 19...   \n",
       "\n",
       "                                                        director  \\\n",
       "missing_ratio                                          30.679337   \n",
       "num_diff_vals                                               4049   \n",
       "diff_vals      [nan, Jorge Michel Grau, Gilbert Chan, Shane A...   \n",
       "\n",
       "                                                            cast  \\\n",
       "missing_ratio                                           9.220496   \n",
       "num_diff_vals                                               6831   \n",
       "diff_vals      [João Miguel, Bianca Comparato, Michel Gomes, ...   \n",
       "\n",
       "                                                         country  \\\n",
       "missing_ratio                                           6.510851   \n",
       "num_diff_vals                                                681   \n",
       "diff_vals      [Brazil, Mexico, Singapore, United States, Tur...   \n",
       "\n",
       "                                                          rating  \\\n",
       "missing_ratio                                           0.089893   \n",
       "num_diff_vals                                                 14   \n",
       "diff_vals      [TV-MA, R, PG-13, TV-14, TV-PG, NR, TV-G, TV-Y...   \n",
       "\n",
       "                                                        duration  \\\n",
       "missing_ratio                                                0.0   \n",
       "num_diff_vals                                                216   \n",
       "diff_vals      [4 Seasons, 93 min, 78 min, 80 min, 123 min, 1...   \n",
       "\n",
       "                                                       listed_in  \\\n",
       "missing_ratio                                                0.0   \n",
       "num_diff_vals                                                492   \n",
       "diff_vals      [International TV Shows, TV Dramas, TV Sci-Fi ...   \n",
       "\n",
       "                                                     description  \n",
       "missing_ratio                                                0.0  \n",
       "num_diff_vals                                               7769  \n",
       "diff_vals      [In a future where the elite inhabit an island...  "
      ]
     },
     "execution_count": 8,
     "metadata": {},
     "output_type": "execute_result"
    }
   ],
   "source": [
    "def num_diff_vals(s):\n",
    "    return s.nunique()\n",
    "def diff_vals(s):\n",
    "    return s.unique()\n",
    "\n",
    "cate_col = df[[\"show_id\", \"type\", \"title\", \"director\",\n",
    "              \"cast\",\"country\", \"rating\", \"duration\",\n",
    "              \"listed_in\", \"description\"]]\n",
    "cate_col_profile_df = cate_col.agg([missing_ratio, num_diff_vals, diff_vals])\n",
    "cate_col_profile_df"
   ]
  },
  {
   "cell_type": "markdown",
   "id": "17b06141",
   "metadata": {},
   "source": [
    "## Đưa ra câu hỏi có ý nghĩa cần trả lời"
   ]
  },
  {
   "cell_type": "markdown",
   "id": "8db2f9ad",
   "metadata": {},
   "source": [
    "### Câu hỏi 1: Đâu là thể loại phim được mọi người đón nhận và đánh giá cao ?\n",
    "Việc trả lời câu hỏi này giúp cung cấp thông tin cho nhà sản xuất phim, ở đây là Netflix, có cái nhìn rõ nét về xu hướng xem phim của người dùng. Từ đó giúp Netflix có thể đưa ra chính sách phát triển các bộ phim có thể loại mà người dùng ưa thích. Thông qua đó mang lại trải nghiệm tốt cho người dùng cũng như là lợi nhuận cho công ty. Đồng thời việc biết được các thể loại phim được người dùng đón nhận và đánh giá cao giúp cho các chiến dịch quảng cáo đánh mạnh được vào thị hiếu của người dùng hơn, từ đó có thể thu hút được những người dùng mới sử dụng Netflix. Mặt khác việc này còn có thể giúp người dùng biết được đâu là các thể loại phim hot từ đó có thể chọn được các bộ phim mang đến trải nghiệm xem phim một cách tuyệt vời"
   ]
  },
  {
   "cell_type": "markdown",
   "id": "147bb6df",
   "metadata": {},
   "source": [
    "### Câu hỏi 2: Các quốc gia nào sản xuất TV Show/Movie hàng đầu Netflix ?\n",
    "Việc trả lời câu hỏi này giúp cho người dùng có thể biết được Netflix phát triển mạnh mẽ ở các khu vực nào, trên Netflix tập trung phim của quốc gia nào. Nó giúp cho người dùng có thể biết được là liệu Netflix có thích hợp với nhu cầu xem phim trực tuyến của bản thân mình hay không (bởi vì giả sử như người dùng thích phim Trung Quốc mà Netflix lại không có nhiều phim Trung Quốc vậy thì nên chọn ứng dụng xem phim trực tuyến khác như FPT, Vieon,...)"
   ]
  },
  {
   "cell_type": "markdown",
   "id": "5d68e61e",
   "metadata": {},
   "source": [
    "## Nhìn lại quá trình làm đồ án"
   ]
  },
  {
   "cell_type": "code",
   "execution_count": null,
   "id": "1fe7f5e3",
   "metadata": {},
   "outputs": [],
   "source": []
  },
  {
   "cell_type": "markdown",
   "id": "1ce8e4da",
   "metadata": {},
   "source": [
    "## Tài liệu tham khảo"
   ]
  },
  {
   "cell_type": "code",
   "execution_count": null,
   "id": "2d85bac9",
   "metadata": {},
   "outputs": [],
   "source": []
  }
 ],
 "metadata": {
  "kernelspec": {
   "display_name": "Python 3",
   "language": "python",
   "name": "python3"
  },
  "language_info": {
   "codemirror_mode": {
    "name": "ipython",
    "version": 3
   },
   "file_extension": ".py",
   "mimetype": "text/x-python",
   "name": "python",
   "nbconvert_exporter": "python",
   "pygments_lexer": "ipython3",
   "version": "3.8.8"
  },
  "toc": {
   "base_numbering": "1",
   "nav_menu": {},
   "number_sections": false,
   "sideBar": true,
   "skip_h1_title": false,
   "title_cell": "Table of Contents",
   "title_sidebar": "Contents",
   "toc_cell": true,
   "toc_position": {},
   "toc_section_display": true,
   "toc_window_display": true
  }
 },
 "nbformat": 4,
 "nbformat_minor": 5
}

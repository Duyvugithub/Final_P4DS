{
 "cells": [
  {
   "cell_type": "markdown",
   "id": "bfa97b92",
   "metadata": {
    "toc": true
   },
   "source": [
    "<h1>Table of Contents<span class=\"tocSkip\"></span></h1>\n",
    "<div class=\"toc\"><ul class=\"toc-item\"><li><span><a href=\"#Thu-thập-dữ-liệu\" data-toc-modified-id=\"Thu-thập-dữ-liệu-1\">Thu thập dữ liệu</a></span></li><li><span><a href=\"#Khám-phá-dữ-liệu\" data-toc-modified-id=\"Khám-phá-dữ-liệu-2\">Khám phá dữ liệu</a></span><ul class=\"toc-item\"><li><span><a href=\"#Đọc-dữ-liệu-từ-file-CSV-vào-DataFrame\" data-toc-modified-id=\"Đọc-dữ-liệu-từ-file-CSV-vào-DataFrame-2.1\">Đọc dữ liệu từ file CSV vào DataFrame</a></span></li><li><span><a href=\"#Dữ-liệu-có-bao-nhiêu-dòng-và-bao-nhiêu-cột\" data-toc-modified-id=\"Dữ-liệu-có-bao-nhiêu-dòng-và-bao-nhiêu-cột-2.2\">Dữ liệu có bao nhiêu dòng và bao nhiêu cột</a></span></li><li><span><a href=\"#Mỗi-dòng-có-ý-nghĩa-gì?-Có-vấn-đề-các-dòng-có-ý-nghĩa-khác-nhau-không?\" data-toc-modified-id=\"Mỗi-dòng-có-ý-nghĩa-gì?-Có-vấn-đề-các-dòng-có-ý-nghĩa-khác-nhau-không?-2.3\">Mỗi dòng có ý nghĩa gì? Có vấn đề các dòng có ý nghĩa khác nhau không?</a></span></li><li><span><a href=\"#Dữ-liệu-có-các-dòng-bị-lặp-không?\" data-toc-modified-id=\"Dữ-liệu-có-các-dòng-bị-lặp-không?-2.4\">Dữ liệu có các dòng bị lặp không?</a></span></li><li><span><a href=\"#Mỗi-cột-có-ý-nghĩa-gì?\" data-toc-modified-id=\"Mỗi-cột-có-ý-nghĩa-gì?-2.5\">Mỗi cột có ý nghĩa gì?</a></span></li><li><span><a href=\"#Mỗi-cột-hiện-đang-có-kiểu-dữ-liệu-gì?-Có-cột-nào-có-kiểu-dữ-liệu-chưa-phù-hợp-để-có-thể-xử-lý-tiếp-không?\" data-toc-modified-id=\"Mỗi-cột-hiện-đang-có-kiểu-dữ-liệu-gì?-Có-cột-nào-có-kiểu-dữ-liệu-chưa-phù-hợp-để-có-thể-xử-lý-tiếp-không?-2.6\">Mỗi cột hiện đang có kiểu dữ liệu gì? Có cột nào có kiểu dữ liệu chưa phù hợp để có thể xử lý tiếp không?</a></span></li></ul></li><li><span><a href=\"#Tiền-xử-lý\" data-toc-modified-id=\"Tiền-xử-lý-3\">Tiền xử lý</a></span><ul class=\"toc-item\"><li><span><a href=\"#Chuyển-dtype-của-cột-&quot;date_added&quot;-sang-datetime\" data-toc-modified-id=\"Chuyển-dtype-của-cột-&quot;date_added&quot;-sang-datetime-3.1\">Chuyển dtype của cột \"date_added\" sang datetime</a></span></li></ul></li><li><span><a href=\"#Khám-phá-dữ-liệu-(tiếp-tục)\" data-toc-modified-id=\"Khám-phá-dữ-liệu-(tiếp-tục)-4\">Khám phá dữ liệu (tiếp tục)</a></span><ul class=\"toc-item\"><li><span><a href=\"#Với-mỗi-cột-có-kiểu-dữ-liệu-numeric,-các-giá-trị-được-phân-bố-như-thế-nào?\" data-toc-modified-id=\"Với-mỗi-cột-có-kiểu-dữ-liệu-numeric,-các-giá-trị-được-phân-bố-như-thế-nào?-4.1\">Với mỗi cột có kiểu dữ liệu numeric, các giá trị được phân bố như thế nào?</a></span></li><li><span><a href=\"#Với-mỗi-cột-có-kiểu-dữ-liệu-categorical,-các-giá-trị-được-phân-bố-như-thế-nào?\" data-toc-modified-id=\"Với-mỗi-cột-có-kiểu-dữ-liệu-categorical,-các-giá-trị-được-phân-bố-như-thế-nào?-4.2\">Với mỗi cột có kiểu dữ liệu categorical, các giá trị được phân bố như thế nào?</a></span></li><li><span><a href=\"#Tìm-hiểu-sâu-hơn-ở-cột-&quot;rating&quot;\" data-toc-modified-id=\"Tìm-hiểu-sâu-hơn-ở-cột-&quot;rating&quot;-4.3\">Tìm hiểu sâu hơn ở cột \"rating\"</a></span></li><li><span><a href=\"#Tìm-hiểu-sâu-hơn-ở-cột-&quot;description&quot;\" data-toc-modified-id=\"Tìm-hiểu-sâu-hơn-ở-cột-&quot;description&quot;-4.4\">Tìm hiểu sâu hơn ở cột \"description\"</a></span></li></ul></li><li><span><a href=\"#Tiền-xử-lý-(tiếp-tục)\" data-toc-modified-id=\"Tiền-xử-lý-(tiếp-tục)-5\">Tiền xử lý (tiếp tục)</a></span><ul class=\"toc-item\"><li><span><a href=\"#Xóa-các-dòng-như-đã-phân-tích\" data-toc-modified-id=\"Xóa-các-dòng-như-đã-phân-tích-5.1\">Xóa các dòng như đã phân tích</a></span></li><li><span><a href=\"#Xử-lý-phim-vừa-thuộc-&quot;TV-Show&quot;-vừa-thuộc-&quot;Movie&quot;:-'Thackeray'\" data-toc-modified-id=\"Xử-lý-phim-vừa-thuộc-&quot;TV-Show&quot;-vừa-thuộc-&quot;Movie&quot;:-'Thackeray'-5.2\">Xử lý phim vừa thuộc \"TV Show\" vừa thuộc \"Movie\": 'Thackeray'</a></span></li><li><span><a href=\"#Xử-lý-phim-vừa-thuộc-&quot;TV-Show&quot;-vừa-thuộc-&quot;Movie&quot;:-'Seven'\" data-toc-modified-id=\"Xử-lý-phim-vừa-thuộc-&quot;TV-Show&quot;-vừa-thuộc-&quot;Movie&quot;:-'Seven'-5.3\">Xử lý phim vừa thuộc \"TV Show\" vừa thuộc \"Movie\": 'Seven'</a></span></li><li><span><a href=\"#Xử-lý-phim-'Consequences'\" data-toc-modified-id=\"Xử-lý-phim-'Consequences'-5.4\">Xử lý phim 'Consequences'</a></span></li></ul></li><li><span><a href=\"#Đưa-ra-câu-hỏi-cần-trả-lời\" data-toc-modified-id=\"Đưa-ra-câu-hỏi-cần-trả-lời-6\">Đưa ra câu hỏi cần trả lời</a></span><ul class=\"toc-item\"><li><span><a href=\"#Câu-hỏi-1:-Số-lượng-các-chương-trình-có-nội-dung-phù-hợp-cho-trẻ-em-qua-các-năm-như-thế-nào?\" data-toc-modified-id=\"Câu-hỏi-1:-Số-lượng-các-chương-trình-có-nội-dung-phù-hợp-cho-trẻ-em-qua-các-năm-như-thế-nào?-6.1\">Câu hỏi 1: Số lượng các chương trình có nội dung phù hợp cho trẻ em qua các năm như thế nào?</a></span><ul class=\"toc-item\"><li><span><a href=\"#Tiền-xử-lý:-thêm-cột-&quot;year_added&quot;-vào-nmts_df\" data-toc-modified-id=\"Tiền-xử-lý:-thêm-cột-&quot;year_added&quot;-vào-nmts_df-6.1.1\">Tiền xử lý: thêm cột \"year_added\" vào <code>nmts_df</code></a></span></li><li><span><a href=\"#Lọc-các-phim-phù-hợp-cho-trẻ-em-và-lưu-vào-kids_df\" data-toc-modified-id=\"Lọc-các-phim-phù-hợp-cho-trẻ-em-và-lưu-vào-kids_df-6.1.2\">Lọc các phim phù hợp cho trẻ em và lưu vào <code>kids_df</code></a></span></li><li><span><a href=\"#Tính-số-lượng-phim-theo-từng-năm\" data-toc-modified-id=\"Tính-số-lượng-phim-theo-từng-năm-6.1.3\">Tính số lượng phim theo từng năm</a></span></li><li><span><a href=\"#Tính-số-lượng-phim-dành-cho-trẻ-em-theo-từng-năm\" data-toc-modified-id=\"Tính-số-lượng-phim-dành-cho-trẻ-em-theo-từng-năm-6.1.4\">Tính số lượng phim dành cho trẻ em theo từng năm</a></span></li><li><span><a href=\"#Trực-quan-bằng-biểu-đồ-stacked-barchart\" data-toc-modified-id=\"Trực-quan-bằng-biểu-đồ-stacked-barchart-6.1.5\">Trực quan bằng biểu đồ stacked barchart</a></span></li><li><span><a href=\"#Tính-tỉ-lệ-chương-trình-phù-hợp-cho-trẻ-em\" data-toc-modified-id=\"Tính-tỉ-lệ-chương-trình-phù-hợp-cho-trẻ-em-6.1.6\">Tính tỉ lệ chương trình phù hợp cho trẻ em</a></span></li><li><span><a href=\"#Trực-quan-tỉ-lệ-phim-phù-hợp-cho-trẻ-em-bằng-biểu-đồ-đường\" data-toc-modified-id=\"Trực-quan-tỉ-lệ-phim-phù-hợp-cho-trẻ-em-bằng-biểu-đồ-đường-6.1.7\">Trực quan tỉ lệ phim phù hợp cho trẻ em bằng biểu đồ đường</a></span></li></ul></li><li><span><a href=\"#Câu-hỏi-2:-Đâu-là-quốc-gia-sản-xuất-TV-Show/Movie-hàng-đầu-Netflix-?\" data-toc-modified-id=\"Câu-hỏi-2:-Đâu-là-quốc-gia-sản-xuất-TV-Show/Movie-hàng-đầu-Netflix-?-6.2\">Câu hỏi 2: Đâu là quốc gia sản xuất TV Show/Movie hàng đầu Netflix ?</a></span><ul class=\"toc-item\"><li><span><a href=\"#Tiền-xử-lý-tách-riêng-các-quốc-gia\" data-toc-modified-id=\"Tiền-xử-lý-tách-riêng-các-quốc-gia-6.2.1\">Tiền xử lý tách riêng các quốc gia</a></span></li><li><span><a href=\"#Trả-lời-câu-hỏi\" data-toc-modified-id=\"Trả-lời-câu-hỏi-6.2.2\">Trả lời câu hỏi</a></span></li></ul></li><li><span><a href=\"#Câu-hỏi-3:-Số-lượng-chương-trình-kinh-dị-(Horror)-theo-từng-tháng-như-thế-nao?\" data-toc-modified-id=\"Câu-hỏi-3:-Số-lượng-chương-trình-kinh-dị-(Horror)-theo-từng-tháng-như-thế-nao?-6.3\">Câu hỏi 3: Số lượng chương trình kinh dị (Horror) theo từng tháng như thế nao?</a></span><ul class=\"toc-item\"><li><span><a href=\"#Tiền-xử-lý:-Thêm-cột-&quot;month_added&quot;-vào-dữ-liệu\" data-toc-modified-id=\"Tiền-xử-lý:-Thêm-cột-&quot;month_added&quot;-vào-dữ-liệu-6.3.1\">Tiền xử lý: Thêm cột \"month_added\" vào dữ liệu</a></span></li><li><span><a href=\"#Tiền-xử-lý:-thêm-cột-&quot;Horror_TV_Movie&quot;-vào-dữ-liệu\" data-toc-modified-id=\"Tiền-xử-lý:-thêm-cột-&quot;Horror_TV_Movie&quot;-vào-dữ-liệu-6.3.2\">Tiền xử lý: thêm cột \"Horror_TV_Movie\" vào dữ liệu</a></span></li><li><span><a href=\"#Quan-sát-thấy-chỉ-có-3-năm-2018,-2019,-2020-là-có-số-lượng-dữ-liệu-tương-đối-đủ-để-phân-tích.-Nên-ta-chỉ-lọc-ra-3-năm-này\" data-toc-modified-id=\"Quan-sát-thấy-chỉ-có-3-năm-2018,-2019,-2020-là-có-số-lượng-dữ-liệu-tương-đối-đủ-để-phân-tích.-Nên-ta-chỉ-lọc-ra-3-năm-này-6.3.3\">Quan sát thấy chỉ có 3 năm 2018, 2019, 2020 là có số lượng dữ liệu tương đối đủ để phân tích. Nên ta chỉ lọc ra 3 năm này</a></span></li><li><span><a href=\"#Vẽ-biểu-đồ-và-nhận-xét\" data-toc-modified-id=\"Vẽ-biểu-đồ-và-nhận-xét-6.3.4\">Vẽ biểu đồ và nhận xét</a></span></li></ul></li></ul></li><li><span><a href=\"#Nhìn-lại-quá-trình-làm-đồ-án\" data-toc-modified-id=\"Nhìn-lại-quá-trình-làm-đồ-án-7\">Nhìn lại quá trình làm đồ án</a></span></li><li><span><a href=\"#Tài-liệu-tham-khảo\" data-toc-modified-id=\"Tài-liệu-tham-khảo-8\">Tài liệu tham khảo</a></span></li></ul></div>"
   ]
  },
  {
   "cell_type": "markdown",
   "id": "72ca1496",
   "metadata": {},
   "source": [
    "**Import các thư viện cần thiết**"
   ]
  },
  {
   "cell_type": "code",
   "execution_count": 1,
   "id": "e4738f96",
   "metadata": {
    "jupyter": {
     "source_hidden": true
    }
   },
   "outputs": [],
   "source": [
    "import pandas as pd\n",
    "import matplotlib.pyplot as plt\n",
    "import numpy as np"
   ]
  },
  {
   "cell_type": "code",
   "execution_count": 2,
   "id": "252a7191",
   "metadata": {
    "jupyter": {
     "source_hidden": true
    }
   },
   "outputs": [],
   "source": [
    "plt.style.use('fivethirtyeight')"
   ]
  },
  {
   "cell_type": "markdown",
   "id": "1280b12a",
   "metadata": {},
   "source": [
    "# Thu thập dữ liệu"
   ]
  },
  {
   "cell_type": "markdown",
   "id": "835d33c1",
   "metadata": {},
   "source": [
    "Ở đồ án này, nhóm em dùng dữ liệu được public trên Kaggle là [Netflix Movies and TV Shows](https://www.kaggle.com/shivamb/netflix-shows); dữ liệu này bao gồm các chương trình truyền hình và phim có sẵn trên Netflix từ năm 2019. Dữ liệu được được cấp phép sử dụng(License: CC0: Public Domain). Tập dữ liệu được thu thập từ Flixable, một công cụ tìm kiếm Netflix của bên thứ ba"
   ]
  },
  {
   "cell_type": "markdown",
   "id": "6d8326cf",
   "metadata": {},
   "source": [
    "# Khám phá dữ liệu"
   ]
  },
  {
   "cell_type": "markdown",
   "id": "a58391f4",
   "metadata": {},
   "source": [
    "## Đọc dữ liệu từ file CSV vào DataFrame"
   ]
  },
  {
   "cell_type": "code",
   "execution_count": 3,
   "id": "7d5864de",
   "metadata": {
    "jupyter": {
     "source_hidden": true
    }
   },
   "outputs": [
    {
     "data": {
      "text/html": [
       "<div>\n",
       "<style scoped>\n",
       "    .dataframe tbody tr th:only-of-type {\n",
       "        vertical-align: middle;\n",
       "    }\n",
       "\n",
       "    .dataframe tbody tr th {\n",
       "        vertical-align: top;\n",
       "    }\n",
       "\n",
       "    .dataframe thead th {\n",
       "        text-align: right;\n",
       "    }\n",
       "</style>\n",
       "<table border=\"1\" class=\"dataframe\">\n",
       "  <thead>\n",
       "    <tr style=\"text-align: right;\">\n",
       "      <th></th>\n",
       "      <th>type</th>\n",
       "      <th>title</th>\n",
       "      <th>director</th>\n",
       "      <th>cast</th>\n",
       "      <th>country</th>\n",
       "      <th>date_added</th>\n",
       "      <th>release_year</th>\n",
       "      <th>rating</th>\n",
       "      <th>duration</th>\n",
       "      <th>listed_in</th>\n",
       "      <th>description</th>\n",
       "    </tr>\n",
       "    <tr>\n",
       "      <th>show_id</th>\n",
       "      <th></th>\n",
       "      <th></th>\n",
       "      <th></th>\n",
       "      <th></th>\n",
       "      <th></th>\n",
       "      <th></th>\n",
       "      <th></th>\n",
       "      <th></th>\n",
       "      <th></th>\n",
       "      <th></th>\n",
       "      <th></th>\n",
       "    </tr>\n",
       "  </thead>\n",
       "  <tbody>\n",
       "    <tr>\n",
       "      <th>s5135</th>\n",
       "      <td>Movie</td>\n",
       "      <td>Red Dawn</td>\n",
       "      <td>John Milius</td>\n",
       "      <td>Patrick Swayze, C. Thomas Howell, Lea Thompson...</td>\n",
       "      <td>United States</td>\n",
       "      <td>December 31, 2019</td>\n",
       "      <td>1984</td>\n",
       "      <td>PG-13</td>\n",
       "      <td>114 min</td>\n",
       "      <td>Action &amp; Adventure, Cult Movies</td>\n",
       "      <td>A group of teenagers witnesses Soviet and Cuba...</td>\n",
       "    </tr>\n",
       "    <tr>\n",
       "      <th>s1742</th>\n",
       "      <td>Movie</td>\n",
       "      <td>Di Renjie zhi Sidatianwang</td>\n",
       "      <td>Hark Tsui</td>\n",
       "      <td>Mark Chao, Feng Shaofeng, Kenny Lin, Carina La...</td>\n",
       "      <td>China, Hong Kong</td>\n",
       "      <td>February 6, 2019</td>\n",
       "      <td>2018</td>\n",
       "      <td>TV-14</td>\n",
       "      <td>132 min</td>\n",
       "      <td>Action &amp; Adventure, International Movies, Sci-...</td>\n",
       "      <td>Framed by an empress who plans to steal a drag...</td>\n",
       "    </tr>\n",
       "    <tr>\n",
       "      <th>s5262</th>\n",
       "      <td>Movie</td>\n",
       "      <td>ROMA</td>\n",
       "      <td>Alfonso Cuarón</td>\n",
       "      <td>Yalitza Aparicio, Marina de Tavira</td>\n",
       "      <td>Mexico, United States</td>\n",
       "      <td>December 14, 2018</td>\n",
       "      <td>2018</td>\n",
       "      <td>R</td>\n",
       "      <td>135 min</td>\n",
       "      <td>Dramas, Independent Movies, International Movies</td>\n",
       "      <td>Director Alfonso Cuarón delivers a vivid, emot...</td>\n",
       "    </tr>\n",
       "    <tr>\n",
       "      <th>s1534</th>\n",
       "      <td>TV Show</td>\n",
       "      <td>Cricket Fever: Mumbai Indians</td>\n",
       "      <td>NaN</td>\n",
       "      <td>NaN</td>\n",
       "      <td>India</td>\n",
       "      <td>March 1, 2019</td>\n",
       "      <td>2019</td>\n",
       "      <td>TV-MA</td>\n",
       "      <td>1 Season</td>\n",
       "      <td>Docuseries, International TV Shows</td>\n",
       "      <td>Follow Indian Premier League champions Mumbai ...</td>\n",
       "    </tr>\n",
       "    <tr>\n",
       "      <th>s3384</th>\n",
       "      <td>Movie</td>\n",
       "      <td>Kill the Messenger</td>\n",
       "      <td>Michael Cuesta</td>\n",
       "      <td>Jeremy Renner, Rosemarie DeWitt, Ray Liotta, T...</td>\n",
       "      <td>United States</td>\n",
       "      <td>December 16, 2018</td>\n",
       "      <td>2014</td>\n",
       "      <td>R</td>\n",
       "      <td>112 min</td>\n",
       "      <td>Dramas, Thrillers</td>\n",
       "      <td>In the 1980s, a crusading journalist uncovers ...</td>\n",
       "    </tr>\n",
       "  </tbody>\n",
       "</table>\n",
       "</div>"
      ],
      "text/plain": [
       "            type                          title        director  \\\n",
       "show_id                                                           \n",
       "s5135      Movie                       Red Dawn     John Milius   \n",
       "s1742      Movie     Di Renjie zhi Sidatianwang       Hark Tsui   \n",
       "s5262      Movie                           ROMA  Alfonso Cuarón   \n",
       "s1534    TV Show  Cricket Fever: Mumbai Indians             NaN   \n",
       "s3384      Movie             Kill the Messenger  Michael Cuesta   \n",
       "\n",
       "                                                      cast  \\\n",
       "show_id                                                      \n",
       "s5135    Patrick Swayze, C. Thomas Howell, Lea Thompson...   \n",
       "s1742    Mark Chao, Feng Shaofeng, Kenny Lin, Carina La...   \n",
       "s5262                   Yalitza Aparicio, Marina de Tavira   \n",
       "s1534                                                  NaN   \n",
       "s3384    Jeremy Renner, Rosemarie DeWitt, Ray Liotta, T...   \n",
       "\n",
       "                       country         date_added  release_year rating  \\\n",
       "show_id                                                                  \n",
       "s5135            United States  December 31, 2019          1984  PG-13   \n",
       "s1742         China, Hong Kong   February 6, 2019          2018  TV-14   \n",
       "s5262    Mexico, United States  December 14, 2018          2018      R   \n",
       "s1534                    India      March 1, 2019          2019  TV-MA   \n",
       "s3384            United States  December 16, 2018          2014      R   \n",
       "\n",
       "         duration                                          listed_in  \\\n",
       "show_id                                                                \n",
       "s5135     114 min                    Action & Adventure, Cult Movies   \n",
       "s1742     132 min  Action & Adventure, International Movies, Sci-...   \n",
       "s5262     135 min   Dramas, Independent Movies, International Movies   \n",
       "s1534    1 Season                 Docuseries, International TV Shows   \n",
       "s3384     112 min                                  Dramas, Thrillers   \n",
       "\n",
       "                                               description  \n",
       "show_id                                                     \n",
       "s5135    A group of teenagers witnesses Soviet and Cuba...  \n",
       "s1742    Framed by an empress who plans to steal a drag...  \n",
       "s5262    Director Alfonso Cuarón delivers a vivid, emot...  \n",
       "s1534    Follow Indian Premier League champions Mumbai ...  \n",
       "s3384    In the 1980s, a crusading journalist uncovers ...  "
      ]
     },
     "execution_count": 3,
     "metadata": {},
     "output_type": "execute_result"
    }
   ],
   "source": [
    "nmts_df = pd.read_csv('netflix_titles.csv', index_col='show_id')\n",
    "nmts_df.sample(5)"
   ]
  },
  {
   "cell_type": "markdown",
   "id": "ce31f1a6",
   "metadata": {},
   "source": [
    "## Dữ liệu có bao nhiêu dòng và bao nhiêu cột"
   ]
  },
  {
   "cell_type": "code",
   "execution_count": 4,
   "id": "6627bc1e",
   "metadata": {
    "jupyter": {
     "source_hidden": true
    }
   },
   "outputs": [
    {
     "name": "stdout",
     "output_type": "stream",
     "text": [
      "Dữ liệu có 7787 dòng và 11 cột\n"
     ]
    }
   ],
   "source": [
    "nrows, ncols = nmts_df.shape\n",
    "print(f\"Dữ liệu có {nrows} dòng và {ncols} cột\")"
   ]
  },
  {
   "cell_type": "markdown",
   "id": "2335f053",
   "metadata": {},
   "source": [
    "## Mỗi dòng có ý nghĩa gì? Có vấn đề các dòng có ý nghĩa khác nhau không?"
   ]
  },
  {
   "cell_type": "markdown",
   "id": "3c68382a",
   "metadata": {},
   "source": [
    "Theo quan sát, mỗi dòng cho biết thông tin của TV Show/Movie . Và không tìm thấy dòng nào có ý nghĩa khác"
   ]
  },
  {
   "cell_type": "markdown",
   "id": "8dba0b16",
   "metadata": {},
   "source": [
    "## Dữ liệu có các dòng bị lặp không?"
   ]
  },
  {
   "cell_type": "code",
   "execution_count": 5,
   "id": "bbd4fc06",
   "metadata": {
    "jupyter": {
     "source_hidden": true
    }
   },
   "outputs": [
    {
     "data": {
      "text/plain": [
       "0"
      ]
     },
     "execution_count": 5,
     "metadata": {},
     "output_type": "execute_result"
    }
   ],
   "source": [
    "nmts_df.duplicated().sum()"
   ]
  },
  {
   "cell_type": "markdown",
   "id": "a2d6a6e1",
   "metadata": {},
   "source": [
    "## Mỗi cột có ý nghĩa gì?"
   ]
  },
  {
   "cell_type": "markdown",
   "id": "d555ac44",
   "metadata": {},
   "source": [
    "Dưới đây là phần mô tả của các cột trong tập dữ liệu\n",
    "\n",
    "- **show_id**: Unique ID for every Movie / Tv Show\n",
    "- **type** : Identifier - A Movie or TV Show\n",
    "- **title**: Title of the Movie / Tv Show\n",
    "- **director**: Director of the Movie\n",
    "- **cast**: Actors involved in the movie / show\n",
    "- **country**: Country where the movie / show was produced\n",
    "- **date_added**: Date it was added on Netflix\n",
    "- **release_year**: Actual Release year of the move / show\n",
    "- **rating**: TV Rating of the movie / show\n",
    "- **duration**: Total Duration - in minutes or number of seasons\n",
    "- **listed_in**: Genre\n",
    "- **description**: The summary description"
   ]
  },
  {
   "cell_type": "markdown",
   "id": "31b0e0b6",
   "metadata": {},
   "source": [
    "## Mỗi cột hiện đang có kiểu dữ liệu gì? Có cột nào có kiểu dữ liệu chưa phù hợp để có thể xử lý tiếp không?"
   ]
  },
  {
   "cell_type": "code",
   "execution_count": 6,
   "id": "eaa51df7",
   "metadata": {
    "jupyter": {
     "source_hidden": true
    }
   },
   "outputs": [
    {
     "data": {
      "text/plain": [
       "type            object\n",
       "title           object\n",
       "director        object\n",
       "cast            object\n",
       "country         object\n",
       "date_added      object\n",
       "release_year     int64\n",
       "rating          object\n",
       "duration        object\n",
       "listed_in       object\n",
       "description     object\n",
       "dtype: object"
      ]
     },
     "execution_count": 6,
     "metadata": {},
     "output_type": "execute_result"
    }
   ],
   "source": [
    "nmts_df.dtypes"
   ]
  },
  {
   "cell_type": "markdown",
   "id": "dcbc60b9",
   "metadata": {},
   "source": [
    "**Vấn đề cần xử lý:**\n",
    "- Cột \"date_added\" đang có dạng là `str`. Ta chuyển về kiểu `datetime`\n",
    "- Cột \"duration\" cũng có kiểu dữ liệu Object nhưng mà do các giá trị trong cột này bao gồm 2 kiểu.\n",
    "\n",
    "    - season tương ứng với TV Show\n",
    "    - min tương ứng với Movie\n",
    "    - Vì vậy ta sẽ không cần chuyển cột này qua dạng datetime"
   ]
  },
  {
   "cell_type": "markdown",
   "id": "c29b32e8",
   "metadata": {},
   "source": [
    "# Tiền xử lý"
   ]
  },
  {
   "cell_type": "markdown",
   "id": "f66c7a0b",
   "metadata": {},
   "source": [
    "## Chuyển dtype của cột \"date_added\" sang datetime"
   ]
  },
  {
   "cell_type": "code",
   "execution_count": 7,
   "id": "4af627a3",
   "metadata": {
    "jupyter": {
     "source_hidden": true
    }
   },
   "outputs": [],
   "source": [
    "nmts_df.date_added = pd.to_datetime(nmts_df.date_added.str.strip(), format='%B %d, %Y')"
   ]
  },
  {
   "cell_type": "code",
   "execution_count": 8,
   "id": "53543613",
   "metadata": {
    "jupyter": {
     "source_hidden": true
    }
   },
   "outputs": [
    {
     "data": {
      "text/plain": [
       "type                    object\n",
       "title                   object\n",
       "director                object\n",
       "cast                    object\n",
       "country                 object\n",
       "date_added      datetime64[ns]\n",
       "release_year             int64\n",
       "rating                  object\n",
       "duration                object\n",
       "listed_in               object\n",
       "description             object\n",
       "dtype: object"
      ]
     },
     "execution_count": 8,
     "metadata": {},
     "output_type": "execute_result"
    }
   ],
   "source": [
    "nmts_df.dtypes"
   ]
  },
  {
   "cell_type": "markdown",
   "id": "4b6f5883",
   "metadata": {},
   "source": [
    "# Khám phá dữ liệu (tiếp tục)"
   ]
  },
  {
   "cell_type": "markdown",
   "id": "00027120",
   "metadata": {},
   "source": [
    "## Với mỗi cột có kiểu dữ liệu numeric, các giá trị được phân bố như thế nào?"
   ]
  },
  {
   "cell_type": "code",
   "execution_count": 9,
   "id": "a9457a76",
   "metadata": {
    "jupyter": {
     "source_hidden": true
    }
   },
   "outputs": [],
   "source": [
    "def missing_ratio(s):\n",
    "    return s.isna().mean()*100"
   ]
  },
  {
   "cell_type": "code",
   "execution_count": 10,
   "id": "d6968f5f",
   "metadata": {
    "jupyter": {
     "source_hidden": true
    }
   },
   "outputs": [
    {
     "data": {
      "text/html": [
       "<div>\n",
       "<style scoped>\n",
       "    .dataframe tbody tr th:only-of-type {\n",
       "        vertical-align: middle;\n",
       "    }\n",
       "\n",
       "    .dataframe tbody tr th {\n",
       "        vertical-align: top;\n",
       "    }\n",
       "\n",
       "    .dataframe thead th {\n",
       "        text-align: right;\n",
       "    }\n",
       "</style>\n",
       "<table border=\"1\" class=\"dataframe\">\n",
       "  <thead>\n",
       "    <tr style=\"text-align: right;\">\n",
       "      <th></th>\n",
       "      <th>date_added</th>\n",
       "      <th>release_year</th>\n",
       "    </tr>\n",
       "  </thead>\n",
       "  <tbody>\n",
       "    <tr>\n",
       "      <th>missing_ratio</th>\n",
       "      <td>0.128419</td>\n",
       "      <td>0.0</td>\n",
       "    </tr>\n",
       "    <tr>\n",
       "      <th>min</th>\n",
       "      <td>2008-01-01 00:00:00</td>\n",
       "      <td>1925.0</td>\n",
       "    </tr>\n",
       "    <tr>\n",
       "      <th>max</th>\n",
       "      <td>2021-01-16 00:00:00</td>\n",
       "      <td>2021.0</td>\n",
       "    </tr>\n",
       "  </tbody>\n",
       "</table>\n",
       "</div>"
      ],
      "text/plain": [
       "                        date_added  release_year\n",
       "missing_ratio             0.128419           0.0\n",
       "min            2008-01-01 00:00:00        1925.0\n",
       "max            2021-01-16 00:00:00        2021.0"
      ]
     },
     "execution_count": 10,
     "metadata": {},
     "output_type": "execute_result"
    }
   ],
   "source": [
    "nume_col_profiles_df = nmts_df[['date_added','release_year']].apply([missing_ratio, min, max])\n",
    "nume_col_profiles_df"
   ]
  },
  {
   "cell_type": "markdown",
   "id": "5dd96301",
   "metadata": {},
   "source": [
    "## Với mỗi cột có kiểu dữ liệu categorical, các giá trị được phân bố như thế nào?"
   ]
  },
  {
   "cell_type": "code",
   "execution_count": 11,
   "id": "7ac14fcd",
   "metadata": {
    "jupyter": {
     "source_hidden": true
    }
   },
   "outputs": [],
   "source": [
    "def diff_vals(s):\n",
    "    return s.unique()\n",
    "def num_diff_vals(s):\n",
    "    return s.nunique()"
   ]
  },
  {
   "cell_type": "code",
   "execution_count": 12,
   "id": "adafbe19",
   "metadata": {
    "jupyter": {
     "source_hidden": true
    }
   },
   "outputs": [
    {
     "data": {
      "text/html": [
       "<div>\n",
       "<style scoped>\n",
       "    .dataframe tbody tr th:only-of-type {\n",
       "        vertical-align: middle;\n",
       "    }\n",
       "\n",
       "    .dataframe tbody tr th {\n",
       "        vertical-align: top;\n",
       "    }\n",
       "\n",
       "    .dataframe thead th {\n",
       "        text-align: right;\n",
       "    }\n",
       "</style>\n",
       "<table border=\"1\" class=\"dataframe\">\n",
       "  <thead>\n",
       "    <tr style=\"text-align: right;\">\n",
       "      <th></th>\n",
       "      <th>type</th>\n",
       "      <th>title</th>\n",
       "      <th>director</th>\n",
       "      <th>cast</th>\n",
       "      <th>country</th>\n",
       "      <th>rating</th>\n",
       "      <th>listed_in</th>\n",
       "      <th>description</th>\n",
       "    </tr>\n",
       "  </thead>\n",
       "  <tbody>\n",
       "    <tr>\n",
       "      <th>missing_ratio</th>\n",
       "      <td>0.0</td>\n",
       "      <td>0.0</td>\n",
       "      <td>30.679337</td>\n",
       "      <td>9.220496</td>\n",
       "      <td>6.510851</td>\n",
       "      <td>0.089893</td>\n",
       "      <td>0.0</td>\n",
       "      <td>0.0</td>\n",
       "    </tr>\n",
       "    <tr>\n",
       "      <th>num_diff_vals</th>\n",
       "      <td>2</td>\n",
       "      <td>7787</td>\n",
       "      <td>4049</td>\n",
       "      <td>6831</td>\n",
       "      <td>681</td>\n",
       "      <td>14</td>\n",
       "      <td>492</td>\n",
       "      <td>7769</td>\n",
       "    </tr>\n",
       "    <tr>\n",
       "      <th>diff_vals</th>\n",
       "      <td>[TV Show, Movie]</td>\n",
       "      <td>[3%, 7:19, 23:59, 9, 21, 46, 122, 187, 706, 19...</td>\n",
       "      <td>[nan, Jorge Michel Grau, Gilbert Chan, Shane A...</td>\n",
       "      <td>[João Miguel, Bianca Comparato, Michel Gomes, ...</td>\n",
       "      <td>[Brazil, Mexico, Singapore, United States, Tur...</td>\n",
       "      <td>[TV-MA, R, PG-13, TV-14, TV-PG, NR, TV-G, TV-Y...</td>\n",
       "      <td>[International TV Shows, TV Dramas, TV Sci-Fi ...</td>\n",
       "      <td>[In a future where the elite inhabit an island...</td>\n",
       "    </tr>\n",
       "  </tbody>\n",
       "</table>\n",
       "</div>"
      ],
      "text/plain": [
       "                           type  \\\n",
       "missing_ratio               0.0   \n",
       "num_diff_vals                 2   \n",
       "diff_vals      [TV Show, Movie]   \n",
       "\n",
       "                                                           title  \\\n",
       "missing_ratio                                                0.0   \n",
       "num_diff_vals                                               7787   \n",
       "diff_vals      [3%, 7:19, 23:59, 9, 21, 46, 122, 187, 706, 19...   \n",
       "\n",
       "                                                        director  \\\n",
       "missing_ratio                                          30.679337   \n",
       "num_diff_vals                                               4049   \n",
       "diff_vals      [nan, Jorge Michel Grau, Gilbert Chan, Shane A...   \n",
       "\n",
       "                                                            cast  \\\n",
       "missing_ratio                                           9.220496   \n",
       "num_diff_vals                                               6831   \n",
       "diff_vals      [João Miguel, Bianca Comparato, Michel Gomes, ...   \n",
       "\n",
       "                                                         country  \\\n",
       "missing_ratio                                           6.510851   \n",
       "num_diff_vals                                                681   \n",
       "diff_vals      [Brazil, Mexico, Singapore, United States, Tur...   \n",
       "\n",
       "                                                          rating  \\\n",
       "missing_ratio                                           0.089893   \n",
       "num_diff_vals                                                 14   \n",
       "diff_vals      [TV-MA, R, PG-13, TV-14, TV-PG, NR, TV-G, TV-Y...   \n",
       "\n",
       "                                                       listed_in  \\\n",
       "missing_ratio                                                0.0   \n",
       "num_diff_vals                                                492   \n",
       "diff_vals      [International TV Shows, TV Dramas, TV Sci-Fi ...   \n",
       "\n",
       "                                                     description  \n",
       "missing_ratio                                                0.0  \n",
       "num_diff_vals                                               7769  \n",
       "diff_vals      [In a future where the elite inhabit an island...  "
      ]
     },
     "execution_count": 12,
     "metadata": {},
     "output_type": "execute_result"
    }
   ],
   "source": [
    "cate_col = ['type', 'title', 'director', 'cast', 'country', 'rating', 'listed_in', 'description']\n",
    "nmts_df[cate_col].apply([missing_ratio, num_diff_vals, diff_vals])"
   ]
  },
  {
   "cell_type": "markdown",
   "id": "77130e56",
   "metadata": {},
   "source": [
    "**Vấn đề cần xử lý:**\n",
    "- Số giá trị khác nhau của cột \"rating\" là 14, có khác biệt so với với [MÔ TẢ CỦA NETFLIX](https://help.netflix.com/en/node/2064/us). Ta cần tìm hiểu sâu hơn\n",
    "- Số giá trị khác nhau của cột \"description\" là 7769, tức là có một số phim hoặc chương trình truyền hình có mô tả giống nhau. Ta cần quan sát và xử lý các trường hợp này"
   ]
  },
  {
   "cell_type": "markdown",
   "id": "47d7f609",
   "metadata": {},
   "source": [
    "## Tìm hiểu sâu hơn ở cột \"rating\""
   ]
  },
  {
   "cell_type": "code",
   "execution_count": 13,
   "id": "0940d6f2",
   "metadata": {
    "jupyter": {
     "source_hidden": true
    }
   },
   "outputs": [
    {
     "data": {
      "text/plain": [
       "array(['TV-MA', 'R', 'PG-13', 'TV-14', 'TV-PG', 'NR', 'TV-G', 'TV-Y', nan,\n",
       "       'TV-Y7', 'PG', 'G', 'NC-17', 'TV-Y7-FV', 'UR'], dtype=object)"
      ]
     },
     "execution_count": 13,
     "metadata": {},
     "output_type": "execute_result"
    }
   ],
   "source": [
    "diff_vals(nmts_df.rating)"
   ]
  },
  {
   "cell_type": "markdown",
   "id": "7936b8b3",
   "metadata": {},
   "source": [
    "Theo [MÔ TẢ CỦA NETFLIX](https://help.netflix.com/en/node/2064/us)"
   ]
  },
  {
   "cell_type": "markdown",
   "id": "76830048",
   "metadata": {},
   "source": [
    "![netfix.png](data:image/png;base64,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)"
   ]
  },
  {
   "cell_type": "markdown",
   "id": "a6662857",
   "metadata": {},
   "source": [
    "- Ta thấy có các rating không nằm trong mô tả như \"NR\", \"UR\" và \"TV-Y7-FV\". \n",
    "- Sau khi tìm kiếm thì nhóm em nhận thấy \"NR\" là No rated cũng tương đương với \"UR\" là Unrated, và các dữ liệu bị thiếu cũng có ý nghĩa tương tự. Do đó nhóm chuyển tất cả bao gồm cả dữ liệu nan về \"NR\"\n",
    "- Ngoài ra, theo [TV Parental Guidelines](https://en.wikipedia.org/wiki/TV_Parental_Guidelines) thì \"FV – Fantasy violence (exclusive to the TV-Y7 rating)\" do đó ta thay \"TV-Y7-FV\" thành \"TV-Y7\""
   ]
  },
  {
   "cell_type": "code",
   "execution_count": 14,
   "id": "7550550d",
   "metadata": {
    "jupyter": {
     "source_hidden": true
    }
   },
   "outputs": [],
   "source": [
    "nmts_df.rating = nmts_df.rating.fillna('UR').replace('UR', 'NR')"
   ]
  },
  {
   "cell_type": "code",
   "execution_count": 15,
   "id": "68367295",
   "metadata": {
    "jupyter": {
     "source_hidden": true
    }
   },
   "outputs": [],
   "source": [
    "nmts_df.rating = nmts_df.rating.replace(\"TV-Y7-FV\", \"TV-Y7\")"
   ]
  },
  {
   "cell_type": "code",
   "execution_count": 16,
   "id": "28c3bcd6",
   "metadata": {
    "jupyter": {
     "source_hidden": true
    }
   },
   "outputs": [
    {
     "data": {
      "text/plain": [
       "array(['TV-MA', 'R', 'PG-13', 'TV-14', 'TV-PG', 'NR', 'TV-G', 'TV-Y',\n",
       "       'TV-Y7', 'PG', 'G', 'NC-17'], dtype=object)"
      ]
     },
     "execution_count": 16,
     "metadata": {},
     "output_type": "execute_result"
    }
   ],
   "source": [
    "nmts_df.rating.unique()"
   ]
  },
  {
   "cell_type": "markdown",
   "id": "d593b8e2",
   "metadata": {},
   "source": [
    "## Tìm hiểu sâu hơn ở cột \"description\""
   ]
  },
  {
   "cell_type": "code",
   "execution_count": 17,
   "id": "634ed87a",
   "metadata": {
    "jupyter": {
     "source_hidden": true
    }
   },
   "outputs": [
    {
     "data": {
      "text/html": [
       "<div>\n",
       "<style scoped>\n",
       "    .dataframe tbody tr th:only-of-type {\n",
       "        vertical-align: middle;\n",
       "    }\n",
       "\n",
       "    .dataframe tbody tr th {\n",
       "        vertical-align: top;\n",
       "    }\n",
       "\n",
       "    .dataframe thead th {\n",
       "        text-align: right;\n",
       "    }\n",
       "</style>\n",
       "<table border=\"1\" class=\"dataframe\">\n",
       "  <thead>\n",
       "    <tr style=\"text-align: right;\">\n",
       "      <th></th>\n",
       "      <th>type</th>\n",
       "      <th>title</th>\n",
       "      <th>director</th>\n",
       "      <th>cast</th>\n",
       "      <th>country</th>\n",
       "      <th>date_added</th>\n",
       "      <th>release_year</th>\n",
       "      <th>rating</th>\n",
       "      <th>duration</th>\n",
       "      <th>listed_in</th>\n",
       "      <th>description</th>\n",
       "    </tr>\n",
       "    <tr>\n",
       "      <th>show_id</th>\n",
       "      <th></th>\n",
       "      <th></th>\n",
       "      <th></th>\n",
       "      <th></th>\n",
       "      <th></th>\n",
       "      <th></th>\n",
       "      <th></th>\n",
       "      <th></th>\n",
       "      <th></th>\n",
       "      <th></th>\n",
       "      <th></th>\n",
       "    </tr>\n",
       "  </thead>\n",
       "  <tbody>\n",
       "    <tr>\n",
       "      <th>s2861</th>\n",
       "      <td>Movie</td>\n",
       "      <td>Hum Saath-Saath Hain</td>\n",
       "      <td>Sooraj R. Barjatya</td>\n",
       "      <td>Salman Khan, Karisma Kapoor, Saif Ali Khan, Ta...</td>\n",
       "      <td>India</td>\n",
       "      <td>2018-01-01</td>\n",
       "      <td>1999</td>\n",
       "      <td>TV-G</td>\n",
       "      <td>176 min</td>\n",
       "      <td>Dramas, International Movies, Music &amp; Musicals</td>\n",
       "      <td>A scheming matriarch plots to cut off her disa...</td>\n",
       "    </tr>\n",
       "    <tr>\n",
       "      <th>s7130</th>\n",
       "      <td>Movie</td>\n",
       "      <td>Together For Eternity</td>\n",
       "      <td>Sooraj R. Barjatya</td>\n",
       "      <td>Salman Khan, Karisma Kapoor, Saif Ali Khan, Ta...</td>\n",
       "      <td>India</td>\n",
       "      <td>2020-02-01</td>\n",
       "      <td>1999</td>\n",
       "      <td>TV-G</td>\n",
       "      <td>176 min</td>\n",
       "      <td>Dramas, International Movies, Music &amp; Musicals</td>\n",
       "      <td>A scheming matriarch plots to cut off her disa...</td>\n",
       "    </tr>\n",
       "  </tbody>\n",
       "</table>\n",
       "</div>"
      ],
      "text/plain": [
       "          type                  title            director  \\\n",
       "show_id                                                     \n",
       "s2861    Movie   Hum Saath-Saath Hain  Sooraj R. Barjatya   \n",
       "s7130    Movie  Together For Eternity  Sooraj R. Barjatya   \n",
       "\n",
       "                                                      cast country date_added  \\\n",
       "show_id                                                                         \n",
       "s2861    Salman Khan, Karisma Kapoor, Saif Ali Khan, Ta...   India 2018-01-01   \n",
       "s7130    Salman Khan, Karisma Kapoor, Saif Ali Khan, Ta...   India 2020-02-01   \n",
       "\n",
       "         release_year rating duration  \\\n",
       "show_id                                 \n",
       "s2861            1999   TV-G  176 min   \n",
       "s7130            1999   TV-G  176 min   \n",
       "\n",
       "                                              listed_in  \\\n",
       "show_id                                                   \n",
       "s2861    Dramas, International Movies, Music & Musicals   \n",
       "s7130    Dramas, International Movies, Music & Musicals   \n",
       "\n",
       "                                               description  \n",
       "show_id                                                     \n",
       "s2861    A scheming matriarch plots to cut off her disa...  \n",
       "s7130    A scheming matriarch plots to cut off her disa...  "
      ]
     },
     "metadata": {},
     "output_type": "display_data"
    },
    {
     "data": {
      "text/html": [
       "<div>\n",
       "<style scoped>\n",
       "    .dataframe tbody tr th:only-of-type {\n",
       "        vertical-align: middle;\n",
       "    }\n",
       "\n",
       "    .dataframe tbody tr th {\n",
       "        vertical-align: top;\n",
       "    }\n",
       "\n",
       "    .dataframe thead th {\n",
       "        text-align: right;\n",
       "    }\n",
       "</style>\n",
       "<table border=\"1\" class=\"dataframe\">\n",
       "  <thead>\n",
       "    <tr style=\"text-align: right;\">\n",
       "      <th></th>\n",
       "      <th>type</th>\n",
       "      <th>title</th>\n",
       "      <th>director</th>\n",
       "      <th>cast</th>\n",
       "      <th>country</th>\n",
       "      <th>date_added</th>\n",
       "      <th>release_year</th>\n",
       "      <th>rating</th>\n",
       "      <th>duration</th>\n",
       "      <th>listed_in</th>\n",
       "      <th>description</th>\n",
       "    </tr>\n",
       "    <tr>\n",
       "      <th>show_id</th>\n",
       "      <th></th>\n",
       "      <th></th>\n",
       "      <th></th>\n",
       "      <th></th>\n",
       "      <th></th>\n",
       "      <th></th>\n",
       "      <th></th>\n",
       "      <th></th>\n",
       "      <th></th>\n",
       "      <th></th>\n",
       "      <th></th>\n",
       "    </tr>\n",
       "  </thead>\n",
       "  <tbody>\n",
       "    <tr>\n",
       "      <th>s4594</th>\n",
       "      <td>Movie</td>\n",
       "      <td>Oh! Baby</td>\n",
       "      <td>B. V. Nandini Reddy</td>\n",
       "      <td>Samantha Ruth Prabhu, Lakshmi, Rajendraprasad,...</td>\n",
       "      <td>India</td>\n",
       "      <td>2019-09-14</td>\n",
       "      <td>2019</td>\n",
       "      <td>TV-14</td>\n",
       "      <td>157 min</td>\n",
       "      <td>Comedies, International Movies, Music &amp; Musicals</td>\n",
       "      <td>A surly septuagenarian gets another chance at ...</td>\n",
       "    </tr>\n",
       "    <tr>\n",
       "      <th>s4595</th>\n",
       "      <td>Movie</td>\n",
       "      <td>Oh! Baby (Malayalam)</td>\n",
       "      <td>B. V. Nandini Reddy</td>\n",
       "      <td>Samantha Ruth Prabhu, Lakshmi, Rajendraprasad,...</td>\n",
       "      <td>NaN</td>\n",
       "      <td>2019-09-25</td>\n",
       "      <td>2019</td>\n",
       "      <td>TV-14</td>\n",
       "      <td>146 min</td>\n",
       "      <td>Comedies, International Movies, Music &amp; Musicals</td>\n",
       "      <td>A surly septuagenarian gets another chance at ...</td>\n",
       "    </tr>\n",
       "    <tr>\n",
       "      <th>s4596</th>\n",
       "      <td>Movie</td>\n",
       "      <td>Oh! Baby (Tamil)</td>\n",
       "      <td>B. V. Nandini Reddy</td>\n",
       "      <td>Samantha Ruth Prabhu, Lakshmi, Rajendraprasad,...</td>\n",
       "      <td>NaN</td>\n",
       "      <td>2019-09-25</td>\n",
       "      <td>2019</td>\n",
       "      <td>TV-14</td>\n",
       "      <td>146 min</td>\n",
       "      <td>Comedies, International Movies, Music &amp; Musicals</td>\n",
       "      <td>A surly septuagenarian gets another chance at ...</td>\n",
       "    </tr>\n",
       "  </tbody>\n",
       "</table>\n",
       "</div>"
      ],
      "text/plain": [
       "          type                 title             director  \\\n",
       "show_id                                                     \n",
       "s4594    Movie              Oh! Baby  B. V. Nandini Reddy   \n",
       "s4595    Movie  Oh! Baby (Malayalam)  B. V. Nandini Reddy   \n",
       "s4596    Movie      Oh! Baby (Tamil)  B. V. Nandini Reddy   \n",
       "\n",
       "                                                      cast country date_added  \\\n",
       "show_id                                                                         \n",
       "s4594    Samantha Ruth Prabhu, Lakshmi, Rajendraprasad,...   India 2019-09-14   \n",
       "s4595    Samantha Ruth Prabhu, Lakshmi, Rajendraprasad,...     NaN 2019-09-25   \n",
       "s4596    Samantha Ruth Prabhu, Lakshmi, Rajendraprasad,...     NaN 2019-09-25   \n",
       "\n",
       "         release_year rating duration  \\\n",
       "show_id                                 \n",
       "s4594            2019  TV-14  157 min   \n",
       "s4595            2019  TV-14  146 min   \n",
       "s4596            2019  TV-14  146 min   \n",
       "\n",
       "                                                listed_in  \\\n",
       "show_id                                                     \n",
       "s4594    Comedies, International Movies, Music & Musicals   \n",
       "s4595    Comedies, International Movies, Music & Musicals   \n",
       "s4596    Comedies, International Movies, Music & Musicals   \n",
       "\n",
       "                                               description  \n",
       "show_id                                                     \n",
       "s4594    A surly septuagenarian gets another chance at ...  \n",
       "s4595    A surly septuagenarian gets another chance at ...  \n",
       "s4596    A surly septuagenarian gets another chance at ...  "
      ]
     },
     "metadata": {},
     "output_type": "display_data"
    },
    {
     "data": {
      "text/html": [
       "<div>\n",
       "<style scoped>\n",
       "    .dataframe tbody tr th:only-of-type {\n",
       "        vertical-align: middle;\n",
       "    }\n",
       "\n",
       "    .dataframe tbody tr th {\n",
       "        vertical-align: top;\n",
       "    }\n",
       "\n",
       "    .dataframe thead th {\n",
       "        text-align: right;\n",
       "    }\n",
       "</style>\n",
       "<table border=\"1\" class=\"dataframe\">\n",
       "  <thead>\n",
       "    <tr style=\"text-align: right;\">\n",
       "      <th></th>\n",
       "      <th>type</th>\n",
       "      <th>title</th>\n",
       "      <th>director</th>\n",
       "      <th>cast</th>\n",
       "      <th>country</th>\n",
       "      <th>date_added</th>\n",
       "      <th>release_year</th>\n",
       "      <th>rating</th>\n",
       "      <th>duration</th>\n",
       "      <th>listed_in</th>\n",
       "      <th>description</th>\n",
       "    </tr>\n",
       "    <tr>\n",
       "      <th>show_id</th>\n",
       "      <th></th>\n",
       "      <th></th>\n",
       "      <th></th>\n",
       "      <th></th>\n",
       "      <th></th>\n",
       "      <th></th>\n",
       "      <th></th>\n",
       "      <th></th>\n",
       "      <th></th>\n",
       "      <th></th>\n",
       "      <th></th>\n",
       "    </tr>\n",
       "  </thead>\n",
       "  <tbody>\n",
       "    <tr>\n",
       "      <th>s5699</th>\n",
       "      <td>Movie</td>\n",
       "      <td>Solo: A Star Wars Story</td>\n",
       "      <td>Ron Howard</td>\n",
       "      <td>Alden Ehrenreich, Woody Harrelson, Emilia Clar...</td>\n",
       "      <td>United States</td>\n",
       "      <td>2019-01-09</td>\n",
       "      <td>2018</td>\n",
       "      <td>PG-13</td>\n",
       "      <td>135 min</td>\n",
       "      <td>Action &amp; Adventure, Children &amp; Family Movies, ...</td>\n",
       "      <td>A young Han Solo tries to settle an old score ...</td>\n",
       "    </tr>\n",
       "    <tr>\n",
       "      <th>s5700</th>\n",
       "      <td>Movie</td>\n",
       "      <td>Solo: A Star Wars Story (Spanish Version)</td>\n",
       "      <td>Ron Howard</td>\n",
       "      <td>Alden Ehrenreich, Woody Harrelson, Emilia Clar...</td>\n",
       "      <td>United States</td>\n",
       "      <td>2019-01-09</td>\n",
       "      <td>2018</td>\n",
       "      <td>PG-13</td>\n",
       "      <td>135 min</td>\n",
       "      <td>Action &amp; Adventure, Children &amp; Family Movies, ...</td>\n",
       "      <td>A young Han Solo tries to settle an old score ...</td>\n",
       "    </tr>\n",
       "  </tbody>\n",
       "</table>\n",
       "</div>"
      ],
      "text/plain": [
       "          type                                      title    director  \\\n",
       "show_id                                                                 \n",
       "s5699    Movie                    Solo: A Star Wars Story  Ron Howard   \n",
       "s5700    Movie  Solo: A Star Wars Story (Spanish Version)  Ron Howard   \n",
       "\n",
       "                                                      cast        country  \\\n",
       "show_id                                                                     \n",
       "s5699    Alden Ehrenreich, Woody Harrelson, Emilia Clar...  United States   \n",
       "s5700    Alden Ehrenreich, Woody Harrelson, Emilia Clar...  United States   \n",
       "\n",
       "        date_added  release_year rating duration  \\\n",
       "show_id                                            \n",
       "s5699   2019-01-09          2018  PG-13  135 min   \n",
       "s5700   2019-01-09          2018  PG-13  135 min   \n",
       "\n",
       "                                                 listed_in  \\\n",
       "show_id                                                      \n",
       "s5699    Action & Adventure, Children & Family Movies, ...   \n",
       "s5700    Action & Adventure, Children & Family Movies, ...   \n",
       "\n",
       "                                               description  \n",
       "show_id                                                     \n",
       "s5699    A young Han Solo tries to settle an old score ...  \n",
       "s5700    A young Han Solo tries to settle an old score ...  "
      ]
     },
     "metadata": {},
     "output_type": "display_data"
    },
    {
     "data": {
      "text/html": [
       "<div>\n",
       "<style scoped>\n",
       "    .dataframe tbody tr th:only-of-type {\n",
       "        vertical-align: middle;\n",
       "    }\n",
       "\n",
       "    .dataframe tbody tr th {\n",
       "        vertical-align: top;\n",
       "    }\n",
       "\n",
       "    .dataframe thead th {\n",
       "        text-align: right;\n",
       "    }\n",
       "</style>\n",
       "<table border=\"1\" class=\"dataframe\">\n",
       "  <thead>\n",
       "    <tr style=\"text-align: right;\">\n",
       "      <th></th>\n",
       "      <th>type</th>\n",
       "      <th>title</th>\n",
       "      <th>director</th>\n",
       "      <th>cast</th>\n",
       "      <th>country</th>\n",
       "      <th>date_added</th>\n",
       "      <th>release_year</th>\n",
       "      <th>rating</th>\n",
       "      <th>duration</th>\n",
       "      <th>listed_in</th>\n",
       "      <th>description</th>\n",
       "    </tr>\n",
       "    <tr>\n",
       "      <th>show_id</th>\n",
       "      <th></th>\n",
       "      <th></th>\n",
       "      <th></th>\n",
       "      <th></th>\n",
       "      <th></th>\n",
       "      <th></th>\n",
       "      <th></th>\n",
       "      <th></th>\n",
       "      <th></th>\n",
       "      <th></th>\n",
       "      <th></th>\n",
       "    </tr>\n",
       "  </thead>\n",
       "  <tbody>\n",
       "    <tr>\n",
       "      <th>s369</th>\n",
       "      <td>Movie</td>\n",
       "      <td>Ala Vaikunthapurramuloo</td>\n",
       "      <td>Trivikram Srinivas</td>\n",
       "      <td>Allu Arjun, Pooja Hegde, Tabu, Sushanth, Nivet...</td>\n",
       "      <td>India</td>\n",
       "      <td>2020-02-27</td>\n",
       "      <td>2020</td>\n",
       "      <td>TV-14</td>\n",
       "      <td>162 min</td>\n",
       "      <td>Action &amp; Adventure, Comedies, Dramas</td>\n",
       "      <td>After growing up enduring criticism from his f...</td>\n",
       "    </tr>\n",
       "    <tr>\n",
       "      <th>s526</th>\n",
       "      <td>Movie</td>\n",
       "      <td>Angu Vaikuntapurathu (Malayalam)</td>\n",
       "      <td>Trivikram Srinivas</td>\n",
       "      <td>Allu Arjun, Pooja Hegde, Tabu, Sushanth, Nivet...</td>\n",
       "      <td>NaN</td>\n",
       "      <td>2020-03-05</td>\n",
       "      <td>2020</td>\n",
       "      <td>TV-14</td>\n",
       "      <td>162 min</td>\n",
       "      <td>Action &amp; Adventure, Comedies, Dramas</td>\n",
       "      <td>After growing up enduring criticism from his f...</td>\n",
       "    </tr>\n",
       "  </tbody>\n",
       "</table>\n",
       "</div>"
      ],
      "text/plain": [
       "          type                             title            director  \\\n",
       "show_id                                                                \n",
       "s369     Movie           Ala Vaikunthapurramuloo  Trivikram Srinivas   \n",
       "s526     Movie  Angu Vaikuntapurathu (Malayalam)  Trivikram Srinivas   \n",
       "\n",
       "                                                      cast country date_added  \\\n",
       "show_id                                                                         \n",
       "s369     Allu Arjun, Pooja Hegde, Tabu, Sushanth, Nivet...   India 2020-02-27   \n",
       "s526     Allu Arjun, Pooja Hegde, Tabu, Sushanth, Nivet...     NaN 2020-03-05   \n",
       "\n",
       "         release_year rating duration                             listed_in  \\\n",
       "show_id                                                                       \n",
       "s369             2020  TV-14  162 min  Action & Adventure, Comedies, Dramas   \n",
       "s526             2020  TV-14  162 min  Action & Adventure, Comedies, Dramas   \n",
       "\n",
       "                                               description  \n",
       "show_id                                                     \n",
       "s369     After growing up enduring criticism from his f...  \n",
       "s526     After growing up enduring criticism from his f...  "
      ]
     },
     "metadata": {},
     "output_type": "display_data"
    },
    {
     "data": {
      "text/html": [
       "<div>\n",
       "<style scoped>\n",
       "    .dataframe tbody tr th:only-of-type {\n",
       "        vertical-align: middle;\n",
       "    }\n",
       "\n",
       "    .dataframe tbody tr th {\n",
       "        vertical-align: top;\n",
       "    }\n",
       "\n",
       "    .dataframe thead th {\n",
       "        text-align: right;\n",
       "    }\n",
       "</style>\n",
       "<table border=\"1\" class=\"dataframe\">\n",
       "  <thead>\n",
       "    <tr style=\"text-align: right;\">\n",
       "      <th></th>\n",
       "      <th>type</th>\n",
       "      <th>title</th>\n",
       "      <th>director</th>\n",
       "      <th>cast</th>\n",
       "      <th>country</th>\n",
       "      <th>date_added</th>\n",
       "      <th>release_year</th>\n",
       "      <th>rating</th>\n",
       "      <th>duration</th>\n",
       "      <th>listed_in</th>\n",
       "      <th>description</th>\n",
       "    </tr>\n",
       "    <tr>\n",
       "      <th>show_id</th>\n",
       "      <th></th>\n",
       "      <th></th>\n",
       "      <th></th>\n",
       "      <th></th>\n",
       "      <th></th>\n",
       "      <th></th>\n",
       "      <th></th>\n",
       "      <th></th>\n",
       "      <th></th>\n",
       "      <th></th>\n",
       "      <th></th>\n",
       "    </tr>\n",
       "  </thead>\n",
       "  <tbody>\n",
       "    <tr>\n",
       "      <th>s4839</th>\n",
       "      <td>Movie</td>\n",
       "      <td>Petta</td>\n",
       "      <td>Karthik Subbaraj</td>\n",
       "      <td>Rajnikanth, Vijay Sethupathi, M. Sasikumar, Na...</td>\n",
       "      <td>India</td>\n",
       "      <td>2019-04-05</td>\n",
       "      <td>2019</td>\n",
       "      <td>TV-14</td>\n",
       "      <td>170 min</td>\n",
       "      <td>Action &amp; Adventure, Comedies, Dramas</td>\n",
       "      <td>An affable, newly appointed college warden pro...</td>\n",
       "    </tr>\n",
       "    <tr>\n",
       "      <th>s4840</th>\n",
       "      <td>Movie</td>\n",
       "      <td>Petta (Telugu Version)</td>\n",
       "      <td>Karthik Subbaraj</td>\n",
       "      <td>Rajnikanth, Vijay Sethupathi, M. Sasikumar, Na...</td>\n",
       "      <td>NaN</td>\n",
       "      <td>2019-04-07</td>\n",
       "      <td>2019</td>\n",
       "      <td>TV-14</td>\n",
       "      <td>170 min</td>\n",
       "      <td>Action &amp; Adventure, Comedies, Dramas</td>\n",
       "      <td>An affable, newly appointed college warden pro...</td>\n",
       "    </tr>\n",
       "  </tbody>\n",
       "</table>\n",
       "</div>"
      ],
      "text/plain": [
       "          type                   title          director  \\\n",
       "show_id                                                    \n",
       "s4839    Movie                   Petta  Karthik Subbaraj   \n",
       "s4840    Movie  Petta (Telugu Version)  Karthik Subbaraj   \n",
       "\n",
       "                                                      cast country date_added  \\\n",
       "show_id                                                                         \n",
       "s4839    Rajnikanth, Vijay Sethupathi, M. Sasikumar, Na...   India 2019-04-05   \n",
       "s4840    Rajnikanth, Vijay Sethupathi, M. Sasikumar, Na...     NaN 2019-04-07   \n",
       "\n",
       "         release_year rating duration                             listed_in  \\\n",
       "show_id                                                                       \n",
       "s4839            2019  TV-14  170 min  Action & Adventure, Comedies, Dramas   \n",
       "s4840            2019  TV-14  170 min  Action & Adventure, Comedies, Dramas   \n",
       "\n",
       "                                               description  \n",
       "show_id                                                     \n",
       "s4839    An affable, newly appointed college warden pro...  \n",
       "s4840    An affable, newly appointed college warden pro...  "
      ]
     },
     "metadata": {},
     "output_type": "display_data"
    },
    {
     "data": {
      "text/html": [
       "<div>\n",
       "<style scoped>\n",
       "    .dataframe tbody tr th:only-of-type {\n",
       "        vertical-align: middle;\n",
       "    }\n",
       "\n",
       "    .dataframe tbody tr th {\n",
       "        vertical-align: top;\n",
       "    }\n",
       "\n",
       "    .dataframe thead th {\n",
       "        text-align: right;\n",
       "    }\n",
       "</style>\n",
       "<table border=\"1\" class=\"dataframe\">\n",
       "  <thead>\n",
       "    <tr style=\"text-align: right;\">\n",
       "      <th></th>\n",
       "      <th>type</th>\n",
       "      <th>title</th>\n",
       "      <th>director</th>\n",
       "      <th>cast</th>\n",
       "      <th>country</th>\n",
       "      <th>date_added</th>\n",
       "      <th>release_year</th>\n",
       "      <th>rating</th>\n",
       "      <th>duration</th>\n",
       "      <th>listed_in</th>\n",
       "      <th>description</th>\n",
       "    </tr>\n",
       "    <tr>\n",
       "      <th>show_id</th>\n",
       "      <th></th>\n",
       "      <th></th>\n",
       "      <th></th>\n",
       "      <th></th>\n",
       "      <th></th>\n",
       "      <th></th>\n",
       "      <th></th>\n",
       "      <th></th>\n",
       "      <th></th>\n",
       "      <th></th>\n",
       "      <th></th>\n",
       "    </tr>\n",
       "  </thead>\n",
       "  <tbody>\n",
       "    <tr>\n",
       "      <th>s5397</th>\n",
       "      <td>Movie</td>\n",
       "      <td>Sarvam Thaala Mayam (Tamil Version)</td>\n",
       "      <td>Rajiv Menon</td>\n",
       "      <td>G.V. Prakash Kumar, Nedumudi Venu, Aparna Bala...</td>\n",
       "      <td>NaN</td>\n",
       "      <td>2019-03-01</td>\n",
       "      <td>2018</td>\n",
       "      <td>TV-14</td>\n",
       "      <td>131 min</td>\n",
       "      <td>Dramas, International Movies, Music &amp; Musicals</td>\n",
       "      <td>An aspiring musician battles age-old caste div...</td>\n",
       "    </tr>\n",
       "    <tr>\n",
       "      <th>s5398</th>\n",
       "      <td>Movie</td>\n",
       "      <td>Sarvam Thaala Mayam (Telugu Version)</td>\n",
       "      <td>Rajiv Menon</td>\n",
       "      <td>G.V. Prakash Kumar, Nedumudi Venu, Aparna Bala...</td>\n",
       "      <td>India</td>\n",
       "      <td>2019-04-08</td>\n",
       "      <td>2018</td>\n",
       "      <td>TV-14</td>\n",
       "      <td>131 min</td>\n",
       "      <td>Dramas, International Movies, Music &amp; Musicals</td>\n",
       "      <td>An aspiring musician battles age-old caste div...</td>\n",
       "    </tr>\n",
       "  </tbody>\n",
       "</table>\n",
       "</div>"
      ],
      "text/plain": [
       "          type                                 title     director  \\\n",
       "show_id                                                             \n",
       "s5397    Movie   Sarvam Thaala Mayam (Tamil Version)  Rajiv Menon   \n",
       "s5398    Movie  Sarvam Thaala Mayam (Telugu Version)  Rajiv Menon   \n",
       "\n",
       "                                                      cast country date_added  \\\n",
       "show_id                                                                         \n",
       "s5397    G.V. Prakash Kumar, Nedumudi Venu, Aparna Bala...     NaN 2019-03-01   \n",
       "s5398    G.V. Prakash Kumar, Nedumudi Venu, Aparna Bala...   India 2019-04-08   \n",
       "\n",
       "         release_year rating duration  \\\n",
       "show_id                                 \n",
       "s5397            2018  TV-14  131 min   \n",
       "s5398            2018  TV-14  131 min   \n",
       "\n",
       "                                              listed_in  \\\n",
       "show_id                                                   \n",
       "s5397    Dramas, International Movies, Music & Musicals   \n",
       "s5398    Dramas, International Movies, Music & Musicals   \n",
       "\n",
       "                                               description  \n",
       "show_id                                                     \n",
       "s5397    An aspiring musician battles age-old caste div...  \n",
       "s5398    An aspiring musician battles age-old caste div...  "
      ]
     },
     "metadata": {},
     "output_type": "display_data"
    },
    {
     "data": {
      "text/html": [
       "<div>\n",
       "<style scoped>\n",
       "    .dataframe tbody tr th:only-of-type {\n",
       "        vertical-align: middle;\n",
       "    }\n",
       "\n",
       "    .dataframe tbody tr th {\n",
       "        vertical-align: top;\n",
       "    }\n",
       "\n",
       "    .dataframe thead th {\n",
       "        text-align: right;\n",
       "    }\n",
       "</style>\n",
       "<table border=\"1\" class=\"dataframe\">\n",
       "  <thead>\n",
       "    <tr style=\"text-align: right;\">\n",
       "      <th></th>\n",
       "      <th>type</th>\n",
       "      <th>title</th>\n",
       "      <th>director</th>\n",
       "      <th>cast</th>\n",
       "      <th>country</th>\n",
       "      <th>date_added</th>\n",
       "      <th>release_year</th>\n",
       "      <th>rating</th>\n",
       "      <th>duration</th>\n",
       "      <th>listed_in</th>\n",
       "      <th>description</th>\n",
       "    </tr>\n",
       "    <tr>\n",
       "      <th>show_id</th>\n",
       "      <th></th>\n",
       "      <th></th>\n",
       "      <th></th>\n",
       "      <th></th>\n",
       "      <th></th>\n",
       "      <th></th>\n",
       "      <th></th>\n",
       "      <th></th>\n",
       "      <th></th>\n",
       "      <th></th>\n",
       "      <th></th>\n",
       "    </tr>\n",
       "  </thead>\n",
       "  <tbody>\n",
       "    <tr>\n",
       "      <th>s510</th>\n",
       "      <td>Movie</td>\n",
       "      <td>Andhaghaaram</td>\n",
       "      <td>V Vignarajan</td>\n",
       "      <td>Vinoth Kishan, Arjun Das, Pooja Ramachandran, ...</td>\n",
       "      <td>NaN</td>\n",
       "      <td>2020-11-24</td>\n",
       "      <td>2020</td>\n",
       "      <td>TV-14</td>\n",
       "      <td>171 min</td>\n",
       "      <td>Horror Movies, International Movies, Thrillers</td>\n",
       "      <td>As a blind librarian, dispirited cricketer and...</td>\n",
       "    </tr>\n",
       "    <tr>\n",
       "      <th>s511</th>\n",
       "      <td>Movie</td>\n",
       "      <td>Andhakaaram</td>\n",
       "      <td>V Vignarajan</td>\n",
       "      <td>Vinoth Kishan, Arjun Das, Pooja Ramachandran, ...</td>\n",
       "      <td>India</td>\n",
       "      <td>2020-11-24</td>\n",
       "      <td>2020</td>\n",
       "      <td>TV-14</td>\n",
       "      <td>171 min</td>\n",
       "      <td>Horror Movies, International Movies, Thrillers</td>\n",
       "      <td>As a blind librarian, dispirited cricketer and...</td>\n",
       "    </tr>\n",
       "  </tbody>\n",
       "</table>\n",
       "</div>"
      ],
      "text/plain": [
       "          type         title      director  \\\n",
       "show_id                                      \n",
       "s510     Movie  Andhaghaaram  V Vignarajan   \n",
       "s511     Movie   Andhakaaram  V Vignarajan   \n",
       "\n",
       "                                                      cast country date_added  \\\n",
       "show_id                                                                         \n",
       "s510     Vinoth Kishan, Arjun Das, Pooja Ramachandran, ...     NaN 2020-11-24   \n",
       "s511     Vinoth Kishan, Arjun Das, Pooja Ramachandran, ...   India 2020-11-24   \n",
       "\n",
       "         release_year rating duration  \\\n",
       "show_id                                 \n",
       "s510             2020  TV-14  171 min   \n",
       "s511             2020  TV-14  171 min   \n",
       "\n",
       "                                              listed_in  \\\n",
       "show_id                                                   \n",
       "s510     Horror Movies, International Movies, Thrillers   \n",
       "s511     Horror Movies, International Movies, Thrillers   \n",
       "\n",
       "                                               description  \n",
       "show_id                                                     \n",
       "s510     As a blind librarian, dispirited cricketer and...  \n",
       "s511     As a blind librarian, dispirited cricketer and...  "
      ]
     },
     "metadata": {},
     "output_type": "display_data"
    },
    {
     "data": {
      "text/html": [
       "<div>\n",
       "<style scoped>\n",
       "    .dataframe tbody tr th:only-of-type {\n",
       "        vertical-align: middle;\n",
       "    }\n",
       "\n",
       "    .dataframe tbody tr th {\n",
       "        vertical-align: top;\n",
       "    }\n",
       "\n",
       "    .dataframe thead th {\n",
       "        text-align: right;\n",
       "    }\n",
       "</style>\n",
       "<table border=\"1\" class=\"dataframe\">\n",
       "  <thead>\n",
       "    <tr style=\"text-align: right;\">\n",
       "      <th></th>\n",
       "      <th>type</th>\n",
       "      <th>title</th>\n",
       "      <th>director</th>\n",
       "      <th>cast</th>\n",
       "      <th>country</th>\n",
       "      <th>date_added</th>\n",
       "      <th>release_year</th>\n",
       "      <th>rating</th>\n",
       "      <th>duration</th>\n",
       "      <th>listed_in</th>\n",
       "      <th>description</th>\n",
       "    </tr>\n",
       "    <tr>\n",
       "      <th>show_id</th>\n",
       "      <th></th>\n",
       "      <th></th>\n",
       "      <th></th>\n",
       "      <th></th>\n",
       "      <th></th>\n",
       "      <th></th>\n",
       "      <th></th>\n",
       "      <th></th>\n",
       "      <th></th>\n",
       "      <th></th>\n",
       "      <th></th>\n",
       "    </tr>\n",
       "  </thead>\n",
       "  <tbody>\n",
       "    <tr>\n",
       "      <th>s2343</th>\n",
       "      <td>Movie</td>\n",
       "      <td>Game Over (Hindi Version)</td>\n",
       "      <td>Ashwin Saravanan</td>\n",
       "      <td>Taapsee Pannu, Vinodhini, Parvathi T, Ramya Su...</td>\n",
       "      <td>NaN</td>\n",
       "      <td>2019-08-21</td>\n",
       "      <td>2019</td>\n",
       "      <td>TV-MA</td>\n",
       "      <td>98 min</td>\n",
       "      <td>Horror Movies, International Movies, Thrillers</td>\n",
       "      <td>As a series of murders hit close to home, a vi...</td>\n",
       "    </tr>\n",
       "    <tr>\n",
       "      <th>s2344</th>\n",
       "      <td>Movie</td>\n",
       "      <td>Game Over (Tamil Version)</td>\n",
       "      <td>Ashwin Saravanan</td>\n",
       "      <td>Taapsee Pannu, Vinodhini, Parvathi T, Ramya Su...</td>\n",
       "      <td>India, Turkey</td>\n",
       "      <td>2019-08-21</td>\n",
       "      <td>2019</td>\n",
       "      <td>TV-MA</td>\n",
       "      <td>98 min</td>\n",
       "      <td>Horror Movies, International Movies, Thrillers</td>\n",
       "      <td>As a series of murders hit close to home, a vi...</td>\n",
       "    </tr>\n",
       "  </tbody>\n",
       "</table>\n",
       "</div>"
      ],
      "text/plain": [
       "          type                      title          director  \\\n",
       "show_id                                                       \n",
       "s2343    Movie  Game Over (Hindi Version)  Ashwin Saravanan   \n",
       "s2344    Movie  Game Over (Tamil Version)  Ashwin Saravanan   \n",
       "\n",
       "                                                      cast        country  \\\n",
       "show_id                                                                     \n",
       "s2343    Taapsee Pannu, Vinodhini, Parvathi T, Ramya Su...            NaN   \n",
       "s2344    Taapsee Pannu, Vinodhini, Parvathi T, Ramya Su...  India, Turkey   \n",
       "\n",
       "        date_added  release_year rating duration  \\\n",
       "show_id                                            \n",
       "s2343   2019-08-21          2019  TV-MA   98 min   \n",
       "s2344   2019-08-21          2019  TV-MA   98 min   \n",
       "\n",
       "                                              listed_in  \\\n",
       "show_id                                                   \n",
       "s2343    Horror Movies, International Movies, Thrillers   \n",
       "s2344    Horror Movies, International Movies, Thrillers   \n",
       "\n",
       "                                               description  \n",
       "show_id                                                     \n",
       "s2343    As a series of murders hit close to home, a vi...  \n",
       "s2344    As a series of murders hit close to home, a vi...  "
      ]
     },
     "metadata": {},
     "output_type": "display_data"
    },
    {
     "data": {
      "text/html": [
       "<div>\n",
       "<style scoped>\n",
       "    .dataframe tbody tr th:only-of-type {\n",
       "        vertical-align: middle;\n",
       "    }\n",
       "\n",
       "    .dataframe tbody tr th {\n",
       "        vertical-align: top;\n",
       "    }\n",
       "\n",
       "    .dataframe thead th {\n",
       "        text-align: right;\n",
       "    }\n",
       "</style>\n",
       "<table border=\"1\" class=\"dataframe\">\n",
       "  <thead>\n",
       "    <tr style=\"text-align: right;\">\n",
       "      <th></th>\n",
       "      <th>type</th>\n",
       "      <th>title</th>\n",
       "      <th>director</th>\n",
       "      <th>cast</th>\n",
       "      <th>country</th>\n",
       "      <th>date_added</th>\n",
       "      <th>release_year</th>\n",
       "      <th>rating</th>\n",
       "      <th>duration</th>\n",
       "      <th>listed_in</th>\n",
       "      <th>description</th>\n",
       "    </tr>\n",
       "    <tr>\n",
       "      <th>show_id</th>\n",
       "      <th></th>\n",
       "      <th></th>\n",
       "      <th></th>\n",
       "      <th></th>\n",
       "      <th></th>\n",
       "      <th></th>\n",
       "      <th></th>\n",
       "      <th></th>\n",
       "      <th></th>\n",
       "      <th></th>\n",
       "      <th></th>\n",
       "    </tr>\n",
       "  </thead>\n",
       "  <tbody>\n",
       "    <tr>\n",
       "      <th>s501</th>\n",
       "      <td>Movie</td>\n",
       "      <td>Anaamika</td>\n",
       "      <td>Sekhar Kammula</td>\n",
       "      <td>Nayantara, Vaibhav Reddy, Pasupathy, Harshvard...</td>\n",
       "      <td>India</td>\n",
       "      <td>2020-09-17</td>\n",
       "      <td>2014</td>\n",
       "      <td>TV-14</td>\n",
       "      <td>130 min</td>\n",
       "      <td>International Movies, Thrillers</td>\n",
       "      <td>As a woman scours Hyderabad for her missing hu...</td>\n",
       "    </tr>\n",
       "    <tr>\n",
       "      <th>s4442</th>\n",
       "      <td>Movie</td>\n",
       "      <td>Nee Enge En Anbe</td>\n",
       "      <td>Sekhar Kammula</td>\n",
       "      <td>Nayantara, Vaibhav Reddy, Pasupathy, Harshvard...</td>\n",
       "      <td>NaN</td>\n",
       "      <td>2020-09-17</td>\n",
       "      <td>2014</td>\n",
       "      <td>TV-14</td>\n",
       "      <td>137 min</td>\n",
       "      <td>International Movies, Thrillers</td>\n",
       "      <td>As a woman scours Hyderabad for her missing hu...</td>\n",
       "    </tr>\n",
       "  </tbody>\n",
       "</table>\n",
       "</div>"
      ],
      "text/plain": [
       "          type             title        director  \\\n",
       "show_id                                            \n",
       "s501     Movie          Anaamika  Sekhar Kammula   \n",
       "s4442    Movie  Nee Enge En Anbe  Sekhar Kammula   \n",
       "\n",
       "                                                      cast country date_added  \\\n",
       "show_id                                                                         \n",
       "s501     Nayantara, Vaibhav Reddy, Pasupathy, Harshvard...   India 2020-09-17   \n",
       "s4442    Nayantara, Vaibhav Reddy, Pasupathy, Harshvard...     NaN 2020-09-17   \n",
       "\n",
       "         release_year rating duration                        listed_in  \\\n",
       "show_id                                                                  \n",
       "s501             2014  TV-14  130 min  International Movies, Thrillers   \n",
       "s4442            2014  TV-14  137 min  International Movies, Thrillers   \n",
       "\n",
       "                                               description  \n",
       "show_id                                                     \n",
       "s501     As a woman scours Hyderabad for her missing hu...  \n",
       "s4442    As a woman scours Hyderabad for her missing hu...  "
      ]
     },
     "metadata": {},
     "output_type": "display_data"
    },
    {
     "data": {
      "text/html": [
       "<div>\n",
       "<style scoped>\n",
       "    .dataframe tbody tr th:only-of-type {\n",
       "        vertical-align: middle;\n",
       "    }\n",
       "\n",
       "    .dataframe tbody tr th {\n",
       "        vertical-align: top;\n",
       "    }\n",
       "\n",
       "    .dataframe thead th {\n",
       "        text-align: right;\n",
       "    }\n",
       "</style>\n",
       "<table border=\"1\" class=\"dataframe\">\n",
       "  <thead>\n",
       "    <tr style=\"text-align: right;\">\n",
       "      <th></th>\n",
       "      <th>type</th>\n",
       "      <th>title</th>\n",
       "      <th>director</th>\n",
       "      <th>cast</th>\n",
       "      <th>country</th>\n",
       "      <th>date_added</th>\n",
       "      <th>release_year</th>\n",
       "      <th>rating</th>\n",
       "      <th>duration</th>\n",
       "      <th>listed_in</th>\n",
       "      <th>description</th>\n",
       "    </tr>\n",
       "    <tr>\n",
       "      <th>show_id</th>\n",
       "      <th></th>\n",
       "      <th></th>\n",
       "      <th></th>\n",
       "      <th></th>\n",
       "      <th></th>\n",
       "      <th></th>\n",
       "      <th></th>\n",
       "      <th></th>\n",
       "      <th></th>\n",
       "      <th></th>\n",
       "      <th></th>\n",
       "    </tr>\n",
       "  </thead>\n",
       "  <tbody>\n",
       "    <tr>\n",
       "      <th>s6039</th>\n",
       "      <td>TV Show</td>\n",
       "      <td>Thackeray</td>\n",
       "      <td>NaN</td>\n",
       "      <td>NaN</td>\n",
       "      <td>India</td>\n",
       "      <td>2019-05-25</td>\n",
       "      <td>2019</td>\n",
       "      <td>TV-MA</td>\n",
       "      <td>1 Season</td>\n",
       "      <td>TV Shows</td>\n",
       "      <td>From controversial cartoonist to powerful Mumb...</td>\n",
       "    </tr>\n",
       "    <tr>\n",
       "      <th>s6040</th>\n",
       "      <td>Movie</td>\n",
       "      <td>Thackeray (Hindi)</td>\n",
       "      <td>Abhijit Panse</td>\n",
       "      <td>Nawazuddin Siddiqui, Amrita Rao, Rajeev Panday...</td>\n",
       "      <td>India</td>\n",
       "      <td>2020-06-26</td>\n",
       "      <td>2019</td>\n",
       "      <td>TV-14</td>\n",
       "      <td>135 min</td>\n",
       "      <td>Dramas, International Movies</td>\n",
       "      <td>From controversial cartoonist to powerful Mumb...</td>\n",
       "    </tr>\n",
       "  </tbody>\n",
       "</table>\n",
       "</div>"
      ],
      "text/plain": [
       "            type              title       director  \\\n",
       "show_id                                              \n",
       "s6039    TV Show          Thackeray            NaN   \n",
       "s6040      Movie  Thackeray (Hindi)  Abhijit Panse   \n",
       "\n",
       "                                                      cast country date_added  \\\n",
       "show_id                                                                         \n",
       "s6039                                                  NaN   India 2019-05-25   \n",
       "s6040    Nawazuddin Siddiqui, Amrita Rao, Rajeev Panday...   India 2020-06-26   \n",
       "\n",
       "         release_year rating  duration                     listed_in  \\\n",
       "show_id                                                                \n",
       "s6039            2019  TV-MA  1 Season                      TV Shows   \n",
       "s6040            2019  TV-14   135 min  Dramas, International Movies   \n",
       "\n",
       "                                               description  \n",
       "show_id                                                     \n",
       "s6039    From controversial cartoonist to powerful Mumb...  \n",
       "s6040    From controversial cartoonist to powerful Mumb...  "
      ]
     },
     "metadata": {},
     "output_type": "display_data"
    },
    {
     "data": {
      "text/html": [
       "<div>\n",
       "<style scoped>\n",
       "    .dataframe tbody tr th:only-of-type {\n",
       "        vertical-align: middle;\n",
       "    }\n",
       "\n",
       "    .dataframe tbody tr th {\n",
       "        vertical-align: top;\n",
       "    }\n",
       "\n",
       "    .dataframe thead th {\n",
       "        text-align: right;\n",
       "    }\n",
       "</style>\n",
       "<table border=\"1\" class=\"dataframe\">\n",
       "  <thead>\n",
       "    <tr style=\"text-align: right;\">\n",
       "      <th></th>\n",
       "      <th>type</th>\n",
       "      <th>title</th>\n",
       "      <th>director</th>\n",
       "      <th>cast</th>\n",
       "      <th>country</th>\n",
       "      <th>date_added</th>\n",
       "      <th>release_year</th>\n",
       "      <th>rating</th>\n",
       "      <th>duration</th>\n",
       "      <th>listed_in</th>\n",
       "      <th>description</th>\n",
       "    </tr>\n",
       "    <tr>\n",
       "      <th>show_id</th>\n",
       "      <th></th>\n",
       "      <th></th>\n",
       "      <th></th>\n",
       "      <th></th>\n",
       "      <th></th>\n",
       "      <th></th>\n",
       "      <th></th>\n",
       "      <th></th>\n",
       "      <th></th>\n",
       "      <th></th>\n",
       "      <th></th>\n",
       "    </tr>\n",
       "  </thead>\n",
       "  <tbody>\n",
       "    <tr>\n",
       "      <th>s133</th>\n",
       "      <td>TV Show</td>\n",
       "      <td>7 (Seven)</td>\n",
       "      <td>Nizar Shafi</td>\n",
       "      <td>Rahman, Havish, Regina Cassandra, Nandita Swet...</td>\n",
       "      <td>India</td>\n",
       "      <td>2019-07-30</td>\n",
       "      <td>2019</td>\n",
       "      <td>TV-14</td>\n",
       "      <td>1 Season</td>\n",
       "      <td>TV Shows</td>\n",
       "      <td>Multiple women report their husbands as missin...</td>\n",
       "    </tr>\n",
       "    <tr>\n",
       "      <th>s5511</th>\n",
       "      <td>Movie</td>\n",
       "      <td>Seven (Tamil)</td>\n",
       "      <td>NaN</td>\n",
       "      <td>NaN</td>\n",
       "      <td>India</td>\n",
       "      <td>2020-06-26</td>\n",
       "      <td>2019</td>\n",
       "      <td>TV-MA</td>\n",
       "      <td>111 min</td>\n",
       "      <td>Dramas, International Movies, Romantic Movies</td>\n",
       "      <td>Multiple women report their husbands as missin...</td>\n",
       "    </tr>\n",
       "    <tr>\n",
       "      <th>s5512</th>\n",
       "      <td>Movie</td>\n",
       "      <td>Seven (Telugu)</td>\n",
       "      <td>NaN</td>\n",
       "      <td>NaN</td>\n",
       "      <td>NaN</td>\n",
       "      <td>2020-06-26</td>\n",
       "      <td>2019</td>\n",
       "      <td>TV-14</td>\n",
       "      <td>116 min</td>\n",
       "      <td>Dramas, International Movies, Romantic Movies</td>\n",
       "      <td>Multiple women report their husbands as missin...</td>\n",
       "    </tr>\n",
       "  </tbody>\n",
       "</table>\n",
       "</div>"
      ],
      "text/plain": [
       "            type           title     director  \\\n",
       "show_id                                         \n",
       "s133     TV Show       7 (Seven)  Nizar Shafi   \n",
       "s5511      Movie   Seven (Tamil)          NaN   \n",
       "s5512      Movie  Seven (Telugu)          NaN   \n",
       "\n",
       "                                                      cast country date_added  \\\n",
       "show_id                                                                         \n",
       "s133     Rahman, Havish, Regina Cassandra, Nandita Swet...   India 2019-07-30   \n",
       "s5511                                                  NaN   India 2020-06-26   \n",
       "s5512                                                  NaN     NaN 2020-06-26   \n",
       "\n",
       "         release_year rating  duration  \\\n",
       "show_id                                  \n",
       "s133             2019  TV-14  1 Season   \n",
       "s5511            2019  TV-MA   111 min   \n",
       "s5512            2019  TV-14   116 min   \n",
       "\n",
       "                                             listed_in  \\\n",
       "show_id                                                  \n",
       "s133                                          TV Shows   \n",
       "s5511    Dramas, International Movies, Romantic Movies   \n",
       "s5512    Dramas, International Movies, Romantic Movies   \n",
       "\n",
       "                                               description  \n",
       "show_id                                                     \n",
       "s133     Multiple women report their husbands as missin...  \n",
       "s5511    Multiple women report their husbands as missin...  \n",
       "s5512    Multiple women report their husbands as missin...  "
      ]
     },
     "metadata": {},
     "output_type": "display_data"
    },
    {
     "data": {
      "text/html": [
       "<div>\n",
       "<style scoped>\n",
       "    .dataframe tbody tr th:only-of-type {\n",
       "        vertical-align: middle;\n",
       "    }\n",
       "\n",
       "    .dataframe tbody tr th {\n",
       "        vertical-align: top;\n",
       "    }\n",
       "\n",
       "    .dataframe thead th {\n",
       "        text-align: right;\n",
       "    }\n",
       "</style>\n",
       "<table border=\"1\" class=\"dataframe\">\n",
       "  <thead>\n",
       "    <tr style=\"text-align: right;\">\n",
       "      <th></th>\n",
       "      <th>type</th>\n",
       "      <th>title</th>\n",
       "      <th>director</th>\n",
       "      <th>cast</th>\n",
       "      <th>country</th>\n",
       "      <th>date_added</th>\n",
       "      <th>release_year</th>\n",
       "      <th>rating</th>\n",
       "      <th>duration</th>\n",
       "      <th>listed_in</th>\n",
       "      <th>description</th>\n",
       "    </tr>\n",
       "    <tr>\n",
       "      <th>show_id</th>\n",
       "      <th></th>\n",
       "      <th></th>\n",
       "      <th></th>\n",
       "      <th></th>\n",
       "      <th></th>\n",
       "      <th></th>\n",
       "      <th></th>\n",
       "      <th></th>\n",
       "      <th></th>\n",
       "      <th></th>\n",
       "      <th></th>\n",
       "    </tr>\n",
       "  </thead>\n",
       "  <tbody>\n",
       "    <tr>\n",
       "      <th>s1486</th>\n",
       "      <td>Movie</td>\n",
       "      <td>Consequences</td>\n",
       "      <td>Ozan Açıktan</td>\n",
       "      <td>Nehir Erdoğan, Tardu Flordun, İlker Kaleli, Se...</td>\n",
       "      <td>Turkey</td>\n",
       "      <td>2019-10-25</td>\n",
       "      <td>2014</td>\n",
       "      <td>TV-MA</td>\n",
       "      <td>106 min</td>\n",
       "      <td>Dramas, International Movies, Thrillers</td>\n",
       "      <td>Secrets bubble to the surface after a sensual ...</td>\n",
       "    </tr>\n",
       "    <tr>\n",
       "      <th>s1487</th>\n",
       "      <td>Movie</td>\n",
       "      <td>Consequences</td>\n",
       "      <td>Ozan Açıktan</td>\n",
       "      <td>Nehir Erdoğan, Tardu Flordun, İlker Kaleli, Se...</td>\n",
       "      <td>Turkey</td>\n",
       "      <td>2019-10-25</td>\n",
       "      <td>2014</td>\n",
       "      <td>TV-MA</td>\n",
       "      <td>106 min</td>\n",
       "      <td>Dramas, International Movies, Thrillers</td>\n",
       "      <td>Secrets bubble to the surface after a sensual ...</td>\n",
       "    </tr>\n",
       "  </tbody>\n",
       "</table>\n",
       "</div>"
      ],
      "text/plain": [
       "          type          title      director  \\\n",
       "show_id                                       \n",
       "s1486    Movie   Consequences  Ozan Açıktan   \n",
       "s1487    Movie  Consequences   Ozan Açıktan   \n",
       "\n",
       "                                                      cast country date_added  \\\n",
       "show_id                                                                         \n",
       "s1486    Nehir Erdoğan, Tardu Flordun, İlker Kaleli, Se...  Turkey 2019-10-25   \n",
       "s1487    Nehir Erdoğan, Tardu Flordun, İlker Kaleli, Se...  Turkey 2019-10-25   \n",
       "\n",
       "         release_year rating duration  \\\n",
       "show_id                                 \n",
       "s1486            2014  TV-MA  106 min   \n",
       "s1487            2014  TV-MA  106 min   \n",
       "\n",
       "                                       listed_in  \\\n",
       "show_id                                            \n",
       "s1486    Dramas, International Movies, Thrillers   \n",
       "s1487    Dramas, International Movies, Thrillers   \n",
       "\n",
       "                                               description  \n",
       "show_id                                                     \n",
       "s1486    Secrets bubble to the surface after a sensual ...  \n",
       "s1487    Secrets bubble to the surface after a sensual ...  "
      ]
     },
     "metadata": {},
     "output_type": "display_data"
    },
    {
     "data": {
      "text/html": [
       "<div>\n",
       "<style scoped>\n",
       "    .dataframe tbody tr th:only-of-type {\n",
       "        vertical-align: middle;\n",
       "    }\n",
       "\n",
       "    .dataframe tbody tr th {\n",
       "        vertical-align: top;\n",
       "    }\n",
       "\n",
       "    .dataframe thead th {\n",
       "        text-align: right;\n",
       "    }\n",
       "</style>\n",
       "<table border=\"1\" class=\"dataframe\">\n",
       "  <thead>\n",
       "    <tr style=\"text-align: right;\">\n",
       "      <th></th>\n",
       "      <th>type</th>\n",
       "      <th>title</th>\n",
       "      <th>director</th>\n",
       "      <th>cast</th>\n",
       "      <th>country</th>\n",
       "      <th>date_added</th>\n",
       "      <th>release_year</th>\n",
       "      <th>rating</th>\n",
       "      <th>duration</th>\n",
       "      <th>listed_in</th>\n",
       "      <th>description</th>\n",
       "    </tr>\n",
       "    <tr>\n",
       "      <th>show_id</th>\n",
       "      <th></th>\n",
       "      <th></th>\n",
       "      <th></th>\n",
       "      <th></th>\n",
       "      <th></th>\n",
       "      <th></th>\n",
       "      <th></th>\n",
       "      <th></th>\n",
       "      <th></th>\n",
       "      <th></th>\n",
       "      <th></th>\n",
       "    </tr>\n",
       "  </thead>\n",
       "  <tbody>\n",
       "    <tr>\n",
       "      <th>s1377</th>\n",
       "      <td>TV Show</td>\n",
       "      <td>ChuChu TV Kids Songs, Learning Videos &amp; Bedtim...</td>\n",
       "      <td>NaN</td>\n",
       "      <td>NaN</td>\n",
       "      <td>NaN</td>\n",
       "      <td>2019-10-18</td>\n",
       "      <td>2019</td>\n",
       "      <td>TV-Y</td>\n",
       "      <td>1 Season</td>\n",
       "      <td>Kids' TV</td>\n",
       "      <td>This educational series for tiny tots features...</td>\n",
       "    </tr>\n",
       "    <tr>\n",
       "      <th>s1378</th>\n",
       "      <td>TV Show</td>\n",
       "      <td>ChuChu TV Nursery Rhymes &amp; Kids Songs (Hindi)</td>\n",
       "      <td>NaN</td>\n",
       "      <td>NaN</td>\n",
       "      <td>India</td>\n",
       "      <td>2020-04-18</td>\n",
       "      <td>2019</td>\n",
       "      <td>TV-Y</td>\n",
       "      <td>1 Season</td>\n",
       "      <td>Kids' TV</td>\n",
       "      <td>This educational series for tiny tots features...</td>\n",
       "    </tr>\n",
       "  </tbody>\n",
       "</table>\n",
       "</div>"
      ],
      "text/plain": [
       "            type                                              title director  \\\n",
       "show_id                                                                        \n",
       "s1377    TV Show  ChuChu TV Kids Songs, Learning Videos & Bedtim...      NaN   \n",
       "s1378    TV Show      ChuChu TV Nursery Rhymes & Kids Songs (Hindi)      NaN   \n",
       "\n",
       "        cast country date_added  release_year rating  duration listed_in  \\\n",
       "show_id                                                                    \n",
       "s1377    NaN     NaN 2019-10-18          2019   TV-Y  1 Season  Kids' TV   \n",
       "s1378    NaN   India 2020-04-18          2019   TV-Y  1 Season  Kids' TV   \n",
       "\n",
       "                                               description  \n",
       "show_id                                                     \n",
       "s1377    This educational series for tiny tots features...  \n",
       "s1378    This educational series for tiny tots features...  "
      ]
     },
     "metadata": {},
     "output_type": "display_data"
    },
    {
     "data": {
      "text/html": [
       "<div>\n",
       "<style scoped>\n",
       "    .dataframe tbody tr th:only-of-type {\n",
       "        vertical-align: middle;\n",
       "    }\n",
       "\n",
       "    .dataframe tbody tr th {\n",
       "        vertical-align: top;\n",
       "    }\n",
       "\n",
       "    .dataframe thead th {\n",
       "        text-align: right;\n",
       "    }\n",
       "</style>\n",
       "<table border=\"1\" class=\"dataframe\">\n",
       "  <thead>\n",
       "    <tr style=\"text-align: right;\">\n",
       "      <th></th>\n",
       "      <th>type</th>\n",
       "      <th>title</th>\n",
       "      <th>director</th>\n",
       "      <th>cast</th>\n",
       "      <th>country</th>\n",
       "      <th>date_added</th>\n",
       "      <th>release_year</th>\n",
       "      <th>rating</th>\n",
       "      <th>duration</th>\n",
       "      <th>listed_in</th>\n",
       "      <th>description</th>\n",
       "    </tr>\n",
       "    <tr>\n",
       "      <th>show_id</th>\n",
       "      <th></th>\n",
       "      <th></th>\n",
       "      <th></th>\n",
       "      <th></th>\n",
       "      <th></th>\n",
       "      <th></th>\n",
       "      <th></th>\n",
       "      <th></th>\n",
       "      <th></th>\n",
       "      <th></th>\n",
       "      <th></th>\n",
       "    </tr>\n",
       "  </thead>\n",
       "  <tbody>\n",
       "    <tr>\n",
       "      <th>s4606</th>\n",
       "      <td>TV Show</td>\n",
       "      <td>Ollie &amp; Moon</td>\n",
       "      <td>NaN</td>\n",
       "      <td>Mattea Conforti, Kobi Frumer</td>\n",
       "      <td>France</td>\n",
       "      <td>2018-03-28</td>\n",
       "      <td>2018</td>\n",
       "      <td>TV-Y</td>\n",
       "      <td>1 Season</td>\n",
       "      <td>Kids' TV</td>\n",
       "      <td>Two quirky cats, Ollie and Moon, and their fri...</td>\n",
       "    </tr>\n",
       "    <tr>\n",
       "      <th>s6722</th>\n",
       "      <td>TV Show</td>\n",
       "      <td>The Ollie &amp; Moon Show</td>\n",
       "      <td>NaN</td>\n",
       "      <td>Mattea Conforti, Kobi Frumer</td>\n",
       "      <td>France</td>\n",
       "      <td>2020-01-14</td>\n",
       "      <td>2018</td>\n",
       "      <td>TV-Y</td>\n",
       "      <td>1 Season</td>\n",
       "      <td>Kids' TV</td>\n",
       "      <td>Two quirky cats, Ollie and Moon, and their fri...</td>\n",
       "    </tr>\n",
       "  </tbody>\n",
       "</table>\n",
       "</div>"
      ],
      "text/plain": [
       "            type                  title director  \\\n",
       "show_id                                            \n",
       "s4606    TV Show           Ollie & Moon      NaN   \n",
       "s6722    TV Show  The Ollie & Moon Show      NaN   \n",
       "\n",
       "                                 cast country date_added  release_year rating  \\\n",
       "show_id                                                                         \n",
       "s4606    Mattea Conforti, Kobi Frumer  France 2018-03-28          2018   TV-Y   \n",
       "s6722    Mattea Conforti, Kobi Frumer  France 2020-01-14          2018   TV-Y   \n",
       "\n",
       "         duration listed_in                                        description  \n",
       "show_id                                                                         \n",
       "s4606    1 Season  Kids' TV  Two quirky cats, Ollie and Moon, and their fri...  \n",
       "s6722    1 Season  Kids' TV  Two quirky cats, Ollie and Moon, and their fri...  "
      ]
     },
     "metadata": {},
     "output_type": "display_data"
    },
    {
     "data": {
      "text/html": [
       "<div>\n",
       "<style scoped>\n",
       "    .dataframe tbody tr th:only-of-type {\n",
       "        vertical-align: middle;\n",
       "    }\n",
       "\n",
       "    .dataframe tbody tr th {\n",
       "        vertical-align: top;\n",
       "    }\n",
       "\n",
       "    .dataframe thead th {\n",
       "        text-align: right;\n",
       "    }\n",
       "</style>\n",
       "<table border=\"1\" class=\"dataframe\">\n",
       "  <thead>\n",
       "    <tr style=\"text-align: right;\">\n",
       "      <th></th>\n",
       "      <th>type</th>\n",
       "      <th>title</th>\n",
       "      <th>director</th>\n",
       "      <th>cast</th>\n",
       "      <th>country</th>\n",
       "      <th>date_added</th>\n",
       "      <th>release_year</th>\n",
       "      <th>rating</th>\n",
       "      <th>duration</th>\n",
       "      <th>listed_in</th>\n",
       "      <th>description</th>\n",
       "    </tr>\n",
       "    <tr>\n",
       "      <th>show_id</th>\n",
       "      <th></th>\n",
       "      <th></th>\n",
       "      <th></th>\n",
       "      <th></th>\n",
       "      <th></th>\n",
       "      <th></th>\n",
       "      <th></th>\n",
       "      <th></th>\n",
       "      <th></th>\n",
       "      <th></th>\n",
       "      <th></th>\n",
       "    </tr>\n",
       "  </thead>\n",
       "  <tbody>\n",
       "    <tr>\n",
       "      <th>s2986</th>\n",
       "      <td>Movie</td>\n",
       "      <td>Incredibles 2 (Spanish Version)</td>\n",
       "      <td>Brad Bird</td>\n",
       "      <td>Víctor Trujillo, Consuelo Duval, Darío T. Pie,...</td>\n",
       "      <td>United States</td>\n",
       "      <td>2019-02-08</td>\n",
       "      <td>2018</td>\n",
       "      <td>PG</td>\n",
       "      <td>118 min</td>\n",
       "      <td>Children &amp; Family Movies, Comedies</td>\n",
       "      <td>When Elastigirl gets recruited for a high-prof...</td>\n",
       "    </tr>\n",
       "    <tr>\n",
       "      <th>s6488</th>\n",
       "      <td>Movie</td>\n",
       "      <td>The Incredibles 2</td>\n",
       "      <td>Brad Bird</td>\n",
       "      <td>Craig T. Nelson, Holly Hunter, Samuel L. Jacks...</td>\n",
       "      <td>United States</td>\n",
       "      <td>2019-01-30</td>\n",
       "      <td>2018</td>\n",
       "      <td>PG</td>\n",
       "      <td>118 min</td>\n",
       "      <td>Children &amp; Family Movies, Comedies</td>\n",
       "      <td>When Elastigirl gets recruited for a high-prof...</td>\n",
       "    </tr>\n",
       "  </tbody>\n",
       "</table>\n",
       "</div>"
      ],
      "text/plain": [
       "          type                            title   director  \\\n",
       "show_id                                                      \n",
       "s2986    Movie  Incredibles 2 (Spanish Version)  Brad Bird   \n",
       "s6488    Movie                The Incredibles 2  Brad Bird   \n",
       "\n",
       "                                                      cast        country  \\\n",
       "show_id                                                                     \n",
       "s2986    Víctor Trujillo, Consuelo Duval, Darío T. Pie,...  United States   \n",
       "s6488    Craig T. Nelson, Holly Hunter, Samuel L. Jacks...  United States   \n",
       "\n",
       "        date_added  release_year rating duration  \\\n",
       "show_id                                            \n",
       "s2986   2019-02-08          2018     PG  118 min   \n",
       "s6488   2019-01-30          2018     PG  118 min   \n",
       "\n",
       "                                  listed_in  \\\n",
       "show_id                                       \n",
       "s2986    Children & Family Movies, Comedies   \n",
       "s6488    Children & Family Movies, Comedies   \n",
       "\n",
       "                                               description  \n",
       "show_id                                                     \n",
       "s2986    When Elastigirl gets recruited for a high-prof...  \n",
       "s6488    When Elastigirl gets recruited for a high-prof...  "
      ]
     },
     "metadata": {},
     "output_type": "display_data"
    },
    {
     "data": {
      "text/html": [
       "<div>\n",
       "<style scoped>\n",
       "    .dataframe tbody tr th:only-of-type {\n",
       "        vertical-align: middle;\n",
       "    }\n",
       "\n",
       "    .dataframe tbody tr th {\n",
       "        vertical-align: top;\n",
       "    }\n",
       "\n",
       "    .dataframe thead th {\n",
       "        text-align: right;\n",
       "    }\n",
       "</style>\n",
       "<table border=\"1\" class=\"dataframe\">\n",
       "  <thead>\n",
       "    <tr style=\"text-align: right;\">\n",
       "      <th></th>\n",
       "      <th>type</th>\n",
       "      <th>title</th>\n",
       "      <th>director</th>\n",
       "      <th>cast</th>\n",
       "      <th>country</th>\n",
       "      <th>date_added</th>\n",
       "      <th>release_year</th>\n",
       "      <th>rating</th>\n",
       "      <th>duration</th>\n",
       "      <th>listed_in</th>\n",
       "      <th>description</th>\n",
       "    </tr>\n",
       "    <tr>\n",
       "      <th>show_id</th>\n",
       "      <th></th>\n",
       "      <th></th>\n",
       "      <th></th>\n",
       "      <th></th>\n",
       "      <th></th>\n",
       "      <th></th>\n",
       "      <th></th>\n",
       "      <th></th>\n",
       "      <th></th>\n",
       "      <th></th>\n",
       "      <th></th>\n",
       "    </tr>\n",
       "  </thead>\n",
       "  <tbody>\n",
       "    <tr>\n",
       "      <th>s1287</th>\n",
       "      <td>Movie</td>\n",
       "      <td>Chashme Baddoor</td>\n",
       "      <td>David Dhawan</td>\n",
       "      <td>Rishi Kapoor, Ali Zafar, Taapsee Pannu, Siddha...</td>\n",
       "      <td>India</td>\n",
       "      <td>2020-07-05</td>\n",
       "      <td>2013</td>\n",
       "      <td>TV-14</td>\n",
       "      <td>121 min</td>\n",
       "      <td>Comedies, International Movies, Music &amp; Musicals</td>\n",
       "      <td>When pretty new neighbor Seema falls for their...</td>\n",
       "    </tr>\n",
       "    <tr>\n",
       "      <th>s1288</th>\n",
       "      <td>Movie</td>\n",
       "      <td>Chashme Buddoor</td>\n",
       "      <td>David Dhawan</td>\n",
       "      <td>Ali Zafar, Siddharth, Divyendu Sharma, Tapsee ...</td>\n",
       "      <td>India</td>\n",
       "      <td>2017-05-01</td>\n",
       "      <td>2013</td>\n",
       "      <td>TV-PG</td>\n",
       "      <td>121 min</td>\n",
       "      <td>Comedies, International Movies, Music &amp; Musicals</td>\n",
       "      <td>When pretty new neighbor Seema falls for their...</td>\n",
       "    </tr>\n",
       "  </tbody>\n",
       "</table>\n",
       "</div>"
      ],
      "text/plain": [
       "          type            title      director  \\\n",
       "show_id                                         \n",
       "s1287    Movie  Chashme Baddoor  David Dhawan   \n",
       "s1288    Movie  Chashme Buddoor  David Dhawan   \n",
       "\n",
       "                                                      cast country date_added  \\\n",
       "show_id                                                                         \n",
       "s1287    Rishi Kapoor, Ali Zafar, Taapsee Pannu, Siddha...   India 2020-07-05   \n",
       "s1288    Ali Zafar, Siddharth, Divyendu Sharma, Tapsee ...   India 2017-05-01   \n",
       "\n",
       "         release_year rating duration  \\\n",
       "show_id                                 \n",
       "s1287            2013  TV-14  121 min   \n",
       "s1288            2013  TV-PG  121 min   \n",
       "\n",
       "                                                listed_in  \\\n",
       "show_id                                                     \n",
       "s1287    Comedies, International Movies, Music & Musicals   \n",
       "s1288    Comedies, International Movies, Music & Musicals   \n",
       "\n",
       "                                               description  \n",
       "show_id                                                     \n",
       "s1287    When pretty new neighbor Seema falls for their...  \n",
       "s1288    When pretty new neighbor Seema falls for their...  "
      ]
     },
     "metadata": {},
     "output_type": "display_data"
    },
    {
     "data": {
      "text/html": [
       "<div>\n",
       "<style scoped>\n",
       "    .dataframe tbody tr th:only-of-type {\n",
       "        vertical-align: middle;\n",
       "    }\n",
       "\n",
       "    .dataframe tbody tr th {\n",
       "        vertical-align: top;\n",
       "    }\n",
       "\n",
       "    .dataframe thead th {\n",
       "        text-align: right;\n",
       "    }\n",
       "</style>\n",
       "<table border=\"1\" class=\"dataframe\">\n",
       "  <thead>\n",
       "    <tr style=\"text-align: right;\">\n",
       "      <th></th>\n",
       "    </tr>\n",
       "  </thead>\n",
       "  <tbody>\n",
       "  </tbody>\n",
       "</table>\n",
       "</div>"
      ],
      "text/plain": [
       "Empty DataFrame\n",
       "Columns: []\n",
       "Index: []"
      ]
     },
     "execution_count": 17,
     "metadata": {},
     "output_type": "execute_result"
    }
   ],
   "source": [
    "#Gom nhóm các dòng có \"description\" giống nhau\n",
    "duplicated_description = nmts_df[nmts_df.description.duplicated(keep=False)].groupby('description')\n",
    "#quan sát kết quả\n",
    "duplicated_description.apply(display)"
   ]
  },
  {
   "cell_type": "markdown",
   "id": "2bfbedc0",
   "metadata": {},
   "source": [
    "Quan sát các nhóm phim và chương trình truyền hình có cùng mô tả, ta cần xử lý 4 vấn đề sau:\n",
    "1. Các Movie/TV Show có tên khác nhau nhưng thực tế là cùng một phim:\n",
    "    - Phim \"Hum Saath-Saath Hain\" và \"Together For Eternity\" là cùng một phim, tên \"Together For Eternity\" là tên khi được chiếu ở Úc. Tham khảo [ở đây](https://www.imdb.com/title/tt0216817/releaseinfo). Ta sẽ xóa phim có \"id_show\" là \"s7130\"\n",
    "    - Chương trình The Ollie & Moon Show có thể là tên mới của Ollie & Moon, do nhóm em không tìm ra chương trình Ollie & Moon trên Netflix. Vì vậy ta xóa chương trình có \"id_show\" là \"s4606\"\n",
    "    - Tương tự,phim 'Anaamika' và 'Nee Enge En Anbe' là cùng một phim. Tên 'Nee Enge En Anbe' là tên sau này của phim 'Anaamika'. Tham khảo [ở đây](https://en.wikipedia.org/wiki/Anaamika). Ta sẽ xóa phim có \"id_show\" là \"s4442\"\n",
    "    - Phim 'Andhaghaaram' và 'Andhakaaram' cũng là cùng một phim, do khác nhau về ngôn ngữ Tamil và Telugu. Ta sẽ xóa một trong hai phim, nhóm em chọn phim có \"id_show\" là \"s510\" vì nó bị thiếu giá trị ở cột \"country\"\n",
    "    \n",
    "    - Có các phim có nhiều version ngôn ngữ khác nhau, do đó ta chỉ nên tính là một phim. Vậy ta sẽ xóa các phim có \"id_show\" như sau: \"s526\", \"s4595\", \"s4596\", \"s5700\", \"s4840\", \"s1337\", \"s1377\", \"s2986\", \"s2343\", \"s5397\"\n",
    "\n",
    "2. Có một số phim vừa có type là 'Movie' vừa có type là 'TV Show'. Tìm kiếm trên Netflix thì các phim này có type là Movie vì vậy ta sẽ tiến hành xóa các dòng có type là TV Show của 2 phim Thackeray và Seven\n",
    "\n",
    "3. Hai phim 'Chashme Buddoor' và 'Chashme Baddoor' có vấn đề như sau: theo [Wikipeadia](https://en.wikipedia.org/wiki/Chashme_Baddoor_(2013_film)) thì 'Chashme Baddoor' (2013) được làm lại từ phim 'Chashme Buddoor' (1981). Tuy nhiên các thông tin director, cast, duration... về phim 'Chashme Buddoor' thì lại giống hệt phim 'Chashme Baddoor' và điều này là không đúng. Do đó nhóm em sẽ xóa phim 'Chashme Buddoor' khỏi DataFrame, \"id_show\" của phim này là \"s1288\"\n",
    "\n",
    "4. Phim 'Consequences' có hai dòng có tên giống nhau, ta sẽ tìm hiểu nguyên nhân ở phần sau"
   ]
  },
  {
   "cell_type": "markdown",
   "id": "8eef148d",
   "metadata": {},
   "source": [
    "# Tiền xử lý (tiếp tục)\n"
   ]
  },
  {
   "cell_type": "markdown",
   "id": "5395cf6d",
   "metadata": {},
   "source": [
    "## Xóa các dòng như đã phân tích"
   ]
  },
  {
   "cell_type": "markdown",
   "id": "b3b214af",
   "metadata": {},
   "source": [
    "Theo như phân tích ở trên, ta sẽ xóa các phim có \"id_show\" như sau: \"s7130\", \"s4442\",  \"s510\", \"s526\", \"s4595\", \"s4596\", \"s5700\", \"s4840\", \"s1337\", \"s1377\", \"s2986\", \"s2343\", \"s5397\", \"s4606\", \"s1288\""
   ]
  },
  {
   "cell_type": "code",
   "execution_count": 18,
   "id": "10ffc909",
   "metadata": {
    "jupyter": {
     "source_hidden": true
    }
   },
   "outputs": [],
   "source": [
    "nmts_df.drop([\"s7130\", \"s4442\", \"s510\", \"s526\", \"s4595\", \"s4596\", \"s5700\", \"s4840\", \"s1337\", \n",
    "              \"s1377\", \"s2986\", \"s2343\", \"s5397\", \"s4606\", \"s1288\"], inplace=True)"
   ]
  },
  {
   "cell_type": "markdown",
   "id": "d109937a",
   "metadata": {},
   "source": [
    "## Xử lý phim vừa thuộc \"TV Show\" vừa thuộc \"Movie\": 'Thackeray'"
   ]
  },
  {
   "cell_type": "markdown",
   "id": "acc02167",
   "metadata": {},
   "source": [
    "Do phim này có dòng \"type\" = \"Movie\" không bị thiếu dữ liệu nên ta chỉ cần xóa dòng có type = \"TV Show\". Dòng này có \"id_show\" là \"s6039\""
   ]
  },
  {
   "cell_type": "code",
   "execution_count": 19,
   "id": "f5e141a6",
   "metadata": {
    "jupyter": {
     "source_hidden": true
    }
   },
   "outputs": [],
   "source": [
    "nmts_df.drop([\"s6039\"], inplace=True)"
   ]
  },
  {
   "cell_type": "markdown",
   "id": "be3bc303",
   "metadata": {},
   "source": [
    "## Xử lý phim vừa thuộc \"TV Show\" vừa thuộc \"Movie\": 'Seven'"
   ]
  },
  {
   "cell_type": "markdown",
   "id": "84a3cc16",
   "metadata": {},
   "source": [
    "Do phim này có dòng \"type\" = \"Movie\" bị thiếu dữ liệu ở cột \"director\" và \"cast\" nên ta cần lấy dữ liệu từ dòng có type = \"TV Show\". Sau đó xóa các dòng thừa còn lại"
   ]
  },
  {
   "cell_type": "code",
   "execution_count": 20,
   "id": "eb8e9fc0",
   "metadata": {
    "jupyter": {
     "source_hidden": true
    },
    "tags": []
   },
   "outputs": [],
   "source": [
    "nmts_df.loc[\"s5511\", [\"director\", \"cast\"]]= nmts_df.loc[\"s133\", [\"director\", \"cast\"]]"
   ]
  },
  {
   "cell_type": "code",
   "execution_count": 21,
   "id": "b1dba074",
   "metadata": {
    "jupyter": {
     "source_hidden": true
    },
    "tags": []
   },
   "outputs": [],
   "source": [
    "# Xóa các dòng thừa\n",
    "nmts_df.drop([\"s133\", \"s5512\"], inplace=True)"
   ]
  },
  {
   "cell_type": "markdown",
   "id": "f18eaf82",
   "metadata": {},
   "source": [
    "## Xử lý phim 'Consequences'"
   ]
  },
  {
   "cell_type": "markdown",
   "id": "c7a33443",
   "metadata": {},
   "source": [
    "Trước tiên ta cần xem xét vấn đề là gì? Tại sao tên của các phim lại giống hệt nhau"
   ]
  },
  {
   "cell_type": "code",
   "execution_count": 22,
   "id": "744cba45",
   "metadata": {
    "jupyter": {
     "source_hidden": true
    }
   },
   "outputs": [
    {
     "data": {
      "text/plain": [
       "'Consequences'"
      ]
     },
     "execution_count": 22,
     "metadata": {},
     "output_type": "execute_result"
    }
   ],
   "source": [
    "nmts_df.loc['s1486','title']"
   ]
  },
  {
   "cell_type": "code",
   "execution_count": 23,
   "id": "bee8bcf0",
   "metadata": {
    "jupyter": {
     "source_hidden": true
    }
   },
   "outputs": [
    {
     "data": {
      "text/plain": [
       "'Consequences\\xa0'"
      ]
     },
     "execution_count": 23,
     "metadata": {},
     "output_type": "execute_result"
    }
   ],
   "source": [
    "nmts_df.loc['s1487','title']"
   ]
  },
  {
   "cell_type": "markdown",
   "id": "7e14dba1",
   "metadata": {},
   "source": [
    "Ta dễ thấy phim có \"id_show\" là \"s1487\" bị thừa kí tự \\xa0. Do đó ta sẽ xóa phim này"
   ]
  },
  {
   "cell_type": "code",
   "execution_count": 24,
   "id": "c08d15ed",
   "metadata": {
    "jupyter": {
     "source_hidden": true
    }
   },
   "outputs": [],
   "source": [
    "nmts_df.drop([\"s1487\"], inplace=True)"
   ]
  },
  {
   "cell_type": "markdown",
   "id": "0847a0ad",
   "metadata": {},
   "source": [
    "**Kiểm tra các TV Show/Movie có kí tự lạ này**"
   ]
  },
  {
   "cell_type": "markdown",
   "id": "d5c17538",
   "metadata": {},
   "source": [
    "Đây \\xa0 là kí tự khoảng trống trong Latin1 (ISO 8859-1) khi encode qua utf-8 nó gặp lỗi này"
   ]
  },
  {
   "cell_type": "code",
   "execution_count": 25,
   "id": "860495b1",
   "metadata": {
    "jupyter": {
     "source_hidden": true
    }
   },
   "outputs": [
    {
     "data": {
      "text/html": [
       "<div>\n",
       "<style scoped>\n",
       "    .dataframe tbody tr th:only-of-type {\n",
       "        vertical-align: middle;\n",
       "    }\n",
       "\n",
       "    .dataframe tbody tr th {\n",
       "        vertical-align: top;\n",
       "    }\n",
       "\n",
       "    .dataframe thead th {\n",
       "        text-align: right;\n",
       "    }\n",
       "</style>\n",
       "<table border=\"1\" class=\"dataframe\">\n",
       "  <thead>\n",
       "    <tr style=\"text-align: right;\">\n",
       "      <th></th>\n",
       "      <th>type</th>\n",
       "      <th>title</th>\n",
       "      <th>director</th>\n",
       "      <th>cast</th>\n",
       "      <th>country</th>\n",
       "      <th>date_added</th>\n",
       "      <th>release_year</th>\n",
       "      <th>rating</th>\n",
       "      <th>duration</th>\n",
       "      <th>listed_in</th>\n",
       "      <th>description</th>\n",
       "    </tr>\n",
       "    <tr>\n",
       "      <th>show_id</th>\n",
       "      <th></th>\n",
       "      <th></th>\n",
       "      <th></th>\n",
       "      <th></th>\n",
       "      <th></th>\n",
       "      <th></th>\n",
       "      <th></th>\n",
       "      <th></th>\n",
       "      <th></th>\n",
       "      <th></th>\n",
       "      <th></th>\n",
       "    </tr>\n",
       "  </thead>\n",
       "  <tbody>\n",
       "    <tr>\n",
       "      <th>s365</th>\n",
       "      <td>TV Show</td>\n",
       "      <td>Akbar Birbal</td>\n",
       "      <td>NaN</td>\n",
       "      <td>Kiku Sharda, Vishal Kotian, Delnaaz Irani</td>\n",
       "      <td>India</td>\n",
       "      <td>2020-03-31</td>\n",
       "      <td>2019</td>\n",
       "      <td>TV-G</td>\n",
       "      <td>1 Season</td>\n",
       "      <td>Kids' TV, TV Comedies, TV Dramas</td>\n",
       "      <td>From battles of wit to fights for justice, Emp...</td>\n",
       "    </tr>\n",
       "    <tr>\n",
       "      <th>s1259</th>\n",
       "      <td>Movie</td>\n",
       "      <td>Chaar Sahibzaade</td>\n",
       "      <td>Harry Baweja</td>\n",
       "      <td>Om Puri</td>\n",
       "      <td>India</td>\n",
       "      <td>2018-11-01</td>\n",
       "      <td>2014</td>\n",
       "      <td>TV-PG</td>\n",
       "      <td>126 min</td>\n",
       "      <td>Dramas, Faith &amp; Spirituality, International Mo...</td>\n",
       "      <td>With a horde of enemy invaders bearing down, f...</td>\n",
       "    </tr>\n",
       "  </tbody>\n",
       "</table>\n",
       "</div>"
      ],
      "text/plain": [
       "            type             title      director  \\\n",
       "show_id                                            \n",
       "s365     TV Show      Akbar Birbal           NaN   \n",
       "s1259      Movie  Chaar Sahibzaade  Harry Baweja   \n",
       "\n",
       "                                              cast country date_added  \\\n",
       "show_id                                                                 \n",
       "s365     Kiku Sharda, Vishal Kotian, Delnaaz Irani   India 2020-03-31   \n",
       "s1259                                      Om Puri   India 2018-11-01   \n",
       "\n",
       "         release_year rating  duration  \\\n",
       "show_id                                  \n",
       "s365             2019   TV-G  1 Season   \n",
       "s1259            2014  TV-PG   126 min   \n",
       "\n",
       "                                                 listed_in  \\\n",
       "show_id                                                      \n",
       "s365                      Kids' TV, TV Comedies, TV Dramas   \n",
       "s1259    Dramas, Faith & Spirituality, International Mo...   \n",
       "\n",
       "                                               description  \n",
       "show_id                                                     \n",
       "s365     From battles of wit to fights for justice, Emp...  \n",
       "s1259    With a horde of enemy invaders bearing down, f...  "
      ]
     },
     "execution_count": 25,
     "metadata": {},
     "output_type": "execute_result"
    }
   ],
   "source": [
    "nmts_df[nmts_df['title'].str.contains(\"\\xa0\")]"
   ]
  },
  {
   "cell_type": "markdown",
   "id": "2edc4ce1",
   "metadata": {},
   "source": [
    "**Loại bỏ các kí tự này**"
   ]
  },
  {
   "cell_type": "code",
   "execution_count": 26,
   "id": "3d8ad18b",
   "metadata": {
    "jupyter": {
     "source_hidden": true
    }
   },
   "outputs": [
    {
     "data": {
      "text/plain": [
       "'Chaar\\xa0Sahibzaade'"
      ]
     },
     "execution_count": 26,
     "metadata": {},
     "output_type": "execute_result"
    }
   ],
   "source": [
    "nmts_df.loc['s1259', 'title']"
   ]
  },
  {
   "cell_type": "code",
   "execution_count": 27,
   "id": "f5d5c9b6",
   "metadata": {
    "jupyter": {
     "source_hidden": true
    }
   },
   "outputs": [
    {
     "data": {
      "text/plain": [
       "'Chaar Sahibzaade'"
      ]
     },
     "execution_count": 27,
     "metadata": {},
     "output_type": "execute_result"
    }
   ],
   "source": [
    "nmts_df.loc[['s365', 's1259'], 'title'] = nmts_df.loc[['s365', 's1259'], 'title'].str.replace(u'\\xa0', u' ')\n",
    "nmts_df.loc['s1259', 'title']"
   ]
  },
  {
   "cell_type": "markdown",
   "id": "d3cb2c2f",
   "metadata": {},
   "source": [
    "# Đưa ra câu hỏi cần trả lời"
   ]
  },
  {
   "cell_type": "markdown",
   "id": "b8ba9032",
   "metadata": {},
   "source": [
    "## Câu hỏi 1: Số lượng các chương trình có nội dung phù hợp cho trẻ em qua các năm như thế nào?"
   ]
  },
  {
   "cell_type": "markdown",
   "id": "bd17329b",
   "metadata": {},
   "source": [
    "Giả sử gia đình bạn có trẻ nhỏ, bạn không có quá nhiều thời gian dành cho chúng và bạn muốn đăng kí Netflix để chúng có thể học tập, giải trí trong lúc bạn làm việc. Bạn muốn biết Netflix có sản xuất đều đặn các chương trình phù hợp cho trẻ em không? Hay những chương trình dành cho trẻ đã quá lỗi thời? Phân tích dưới đây sẽ giúp bạn giải đáp những thắc mắc đó.\n"
   ]
  },
  {
   "cell_type": "markdown",
   "id": "cc47d65a",
   "metadata": {},
   "source": [
    "**Đê trả lời câu hỏi này, nhóm em thực hiện các bước sau**:\n",
    "- Ta cần phân tích theo năm phát hành chương trình trên Netflix, do đó ta sẽ thêm cột \"year_added\" vào dữ liệu\n",
    "- Theo [MÔ TẢ CỦA NETFLIX](https://help.netflix.com/en/node/2064/us), các chương trình có nội dung phù hợp cho trẻ em có \"rating\" là: 'TV-Y','TV-Y7','G','TV-G','PG', 'TV-PG'. Ta lọc các dòng có rating thuộc danh sách trên. Lưu vào dataframe khác có tên `kids_df`\n",
    "- Tính số  lượng các tất cả phim và số lượng phim dành cho trẻ em theo từng năm\n",
    "- Vẽ biểu đồ và phân tích"
   ]
  },
  {
   "cell_type": "markdown",
   "id": "f449be22",
   "metadata": {},
   "source": [
    "### Tiền xử lý: thêm cột \"year_added\" vào `nmts_df`"
   ]
  },
  {
   "cell_type": "code",
   "execution_count": 28,
   "id": "ec1976e0",
   "metadata": {
    "jupyter": {
     "source_hidden": true
    },
    "tags": []
   },
   "outputs": [
    {
     "data": {
      "text/html": [
       "<div>\n",
       "<style scoped>\n",
       "    .dataframe tbody tr th:only-of-type {\n",
       "        vertical-align: middle;\n",
       "    }\n",
       "\n",
       "    .dataframe tbody tr th {\n",
       "        vertical-align: top;\n",
       "    }\n",
       "\n",
       "    .dataframe thead th {\n",
       "        text-align: right;\n",
       "    }\n",
       "</style>\n",
       "<table border=\"1\" class=\"dataframe\">\n",
       "  <thead>\n",
       "    <tr style=\"text-align: right;\">\n",
       "      <th></th>\n",
       "      <th>type</th>\n",
       "      <th>title</th>\n",
       "      <th>director</th>\n",
       "      <th>cast</th>\n",
       "      <th>country</th>\n",
       "      <th>date_added</th>\n",
       "      <th>release_year</th>\n",
       "      <th>rating</th>\n",
       "      <th>duration</th>\n",
       "      <th>listed_in</th>\n",
       "      <th>description</th>\n",
       "      <th>year_added</th>\n",
       "    </tr>\n",
       "    <tr>\n",
       "      <th>show_id</th>\n",
       "      <th></th>\n",
       "      <th></th>\n",
       "      <th></th>\n",
       "      <th></th>\n",
       "      <th></th>\n",
       "      <th></th>\n",
       "      <th></th>\n",
       "      <th></th>\n",
       "      <th></th>\n",
       "      <th></th>\n",
       "      <th></th>\n",
       "      <th></th>\n",
       "    </tr>\n",
       "  </thead>\n",
       "  <tbody>\n",
       "    <tr>\n",
       "      <th>s1</th>\n",
       "      <td>TV Show</td>\n",
       "      <td>3%</td>\n",
       "      <td>NaN</td>\n",
       "      <td>João Miguel, Bianca Comparato, Michel Gomes, R...</td>\n",
       "      <td>Brazil</td>\n",
       "      <td>2020-08-14</td>\n",
       "      <td>2020</td>\n",
       "      <td>TV-MA</td>\n",
       "      <td>4 Seasons</td>\n",
       "      <td>International TV Shows, TV Dramas, TV Sci-Fi &amp;...</td>\n",
       "      <td>In a future where the elite inhabit an island ...</td>\n",
       "      <td>2020</td>\n",
       "    </tr>\n",
       "    <tr>\n",
       "      <th>s2</th>\n",
       "      <td>Movie</td>\n",
       "      <td>7:19</td>\n",
       "      <td>Jorge Michel Grau</td>\n",
       "      <td>Demián Bichir, Héctor Bonilla, Oscar Serrano, ...</td>\n",
       "      <td>Mexico</td>\n",
       "      <td>2016-12-23</td>\n",
       "      <td>2016</td>\n",
       "      <td>TV-MA</td>\n",
       "      <td>93 min</td>\n",
       "      <td>Dramas, International Movies</td>\n",
       "      <td>After a devastating earthquake hits Mexico Cit...</td>\n",
       "      <td>2016</td>\n",
       "    </tr>\n",
       "    <tr>\n",
       "      <th>s3</th>\n",
       "      <td>Movie</td>\n",
       "      <td>23:59</td>\n",
       "      <td>Gilbert Chan</td>\n",
       "      <td>Tedd Chan, Stella Chung, Henley Hii, Lawrence ...</td>\n",
       "      <td>Singapore</td>\n",
       "      <td>2018-12-20</td>\n",
       "      <td>2011</td>\n",
       "      <td>R</td>\n",
       "      <td>78 min</td>\n",
       "      <td>Horror Movies, International Movies</td>\n",
       "      <td>When an army recruit is found dead, his fellow...</td>\n",
       "      <td>2018</td>\n",
       "    </tr>\n",
       "  </tbody>\n",
       "</table>\n",
       "</div>"
      ],
      "text/plain": [
       "            type  title           director  \\\n",
       "show_id                                      \n",
       "s1       TV Show     3%                NaN   \n",
       "s2         Movie   7:19  Jorge Michel Grau   \n",
       "s3         Movie  23:59       Gilbert Chan   \n",
       "\n",
       "                                                      cast    country  \\\n",
       "show_id                                                                 \n",
       "s1       João Miguel, Bianca Comparato, Michel Gomes, R...     Brazil   \n",
       "s2       Demián Bichir, Héctor Bonilla, Oscar Serrano, ...     Mexico   \n",
       "s3       Tedd Chan, Stella Chung, Henley Hii, Lawrence ...  Singapore   \n",
       "\n",
       "        date_added  release_year rating   duration  \\\n",
       "show_id                                              \n",
       "s1      2020-08-14          2020  TV-MA  4 Seasons   \n",
       "s2      2016-12-23          2016  TV-MA     93 min   \n",
       "s3      2018-12-20          2011      R     78 min   \n",
       "\n",
       "                                                 listed_in  \\\n",
       "show_id                                                      \n",
       "s1       International TV Shows, TV Dramas, TV Sci-Fi &...   \n",
       "s2                            Dramas, International Movies   \n",
       "s3                     Horror Movies, International Movies   \n",
       "\n",
       "                                               description  year_added  \n",
       "show_id                                                                 \n",
       "s1       In a future where the elite inhabit an island ...        2020  \n",
       "s2       After a devastating earthquake hits Mexico Cit...        2016  \n",
       "s3       When an army recruit is found dead, his fellow...        2018  "
      ]
     },
     "execution_count": 28,
     "metadata": {},
     "output_type": "execute_result"
    }
   ],
   "source": [
    "nmts_df['year_added'] = nmts_df.date_added.dt.year.fillna(0).astype('int')\n",
    "nmts_df.head(3)"
   ]
  },
  {
   "cell_type": "markdown",
   "id": "2ed92e0b",
   "metadata": {},
   "source": [
    "### Lọc các phim phù hợp cho trẻ em và lưu vào `kids_df`"
   ]
  },
  {
   "cell_type": "code",
   "execution_count": 29,
   "id": "867ef9a9",
   "metadata": {
    "jupyter": {
     "source_hidden": true
    },
    "tags": []
   },
   "outputs": [
    {
     "name": "stdout",
     "output_type": "stream",
     "text": [
      "Có 1837 chương trình phù hợp cho trẻ em, chiếm 23.59% tổng số chương trình\n"
     ]
    },
    {
     "data": {
      "text/html": [
       "<div>\n",
       "<style scoped>\n",
       "    .dataframe tbody tr th:only-of-type {\n",
       "        vertical-align: middle;\n",
       "    }\n",
       "\n",
       "    .dataframe tbody tr th {\n",
       "        vertical-align: top;\n",
       "    }\n",
       "\n",
       "    .dataframe thead th {\n",
       "        text-align: right;\n",
       "    }\n",
       "</style>\n",
       "<table border=\"1\" class=\"dataframe\">\n",
       "  <thead>\n",
       "    <tr style=\"text-align: right;\">\n",
       "      <th></th>\n",
       "      <th>type</th>\n",
       "      <th>title</th>\n",
       "      <th>director</th>\n",
       "      <th>cast</th>\n",
       "      <th>country</th>\n",
       "      <th>date_added</th>\n",
       "      <th>release_year</th>\n",
       "      <th>rating</th>\n",
       "      <th>duration</th>\n",
       "      <th>listed_in</th>\n",
       "      <th>description</th>\n",
       "      <th>year_added</th>\n",
       "    </tr>\n",
       "    <tr>\n",
       "      <th>show_id</th>\n",
       "      <th></th>\n",
       "      <th></th>\n",
       "      <th></th>\n",
       "      <th></th>\n",
       "      <th></th>\n",
       "      <th></th>\n",
       "      <th></th>\n",
       "      <th></th>\n",
       "      <th></th>\n",
       "      <th></th>\n",
       "      <th></th>\n",
       "      <th></th>\n",
       "    </tr>\n",
       "  </thead>\n",
       "  <tbody>\n",
       "    <tr>\n",
       "      <th>s20</th>\n",
       "      <td>Movie</td>\n",
       "      <td>'89</td>\n",
       "      <td>NaN</td>\n",
       "      <td>Lee Dixon, Ian Wright, Paul Merson</td>\n",
       "      <td>United Kingdom</td>\n",
       "      <td>2018-05-16</td>\n",
       "      <td>2017</td>\n",
       "      <td>TV-PG</td>\n",
       "      <td>87 min</td>\n",
       "      <td>Sports Movies</td>\n",
       "      <td>Mixing old footage with interviews, this is th...</td>\n",
       "      <td>2018</td>\n",
       "    </tr>\n",
       "    <tr>\n",
       "      <th>s32</th>\n",
       "      <td>Movie</td>\n",
       "      <td>#FriendButMarried</td>\n",
       "      <td>Rako Prijanto</td>\n",
       "      <td>Adipati Dolken, Vanesha Prescilla, Rendi Jhon,...</td>\n",
       "      <td>Indonesia</td>\n",
       "      <td>2020-05-21</td>\n",
       "      <td>2018</td>\n",
       "      <td>TV-G</td>\n",
       "      <td>102 min</td>\n",
       "      <td>Dramas, International Movies, Romantic Movies</td>\n",
       "      <td>Pining for his high school crush for years, a ...</td>\n",
       "      <td>2020</td>\n",
       "    </tr>\n",
       "    <tr>\n",
       "      <th>s33</th>\n",
       "      <td>Movie</td>\n",
       "      <td>#FriendButMarried 2</td>\n",
       "      <td>Rako Prijanto</td>\n",
       "      <td>Adipati Dolken, Mawar de Jongh, Sari Nila, Von...</td>\n",
       "      <td>Indonesia</td>\n",
       "      <td>2020-06-28</td>\n",
       "      <td>2020</td>\n",
       "      <td>TV-G</td>\n",
       "      <td>104 min</td>\n",
       "      <td>Dramas, International Movies, Romantic Movies</td>\n",
       "      <td>As Ayu and Ditto finally transition from best ...</td>\n",
       "      <td>2020</td>\n",
       "    </tr>\n",
       "  </tbody>\n",
       "</table>\n",
       "</div>"
      ],
      "text/plain": [
       "          type                title       director  \\\n",
       "show_id                                              \n",
       "s20      Movie                  '89            NaN   \n",
       "s32      Movie    #FriendButMarried  Rako Prijanto   \n",
       "s33      Movie  #FriendButMarried 2  Rako Prijanto   \n",
       "\n",
       "                                                      cast         country  \\\n",
       "show_id                                                                      \n",
       "s20                     Lee Dixon, Ian Wright, Paul Merson  United Kingdom   \n",
       "s32      Adipati Dolken, Vanesha Prescilla, Rendi Jhon,...       Indonesia   \n",
       "s33      Adipati Dolken, Mawar de Jongh, Sari Nila, Von...       Indonesia   \n",
       "\n",
       "        date_added  release_year rating duration  \\\n",
       "show_id                                            \n",
       "s20     2018-05-16          2017  TV-PG   87 min   \n",
       "s32     2020-05-21          2018   TV-G  102 min   \n",
       "s33     2020-06-28          2020   TV-G  104 min   \n",
       "\n",
       "                                             listed_in  \\\n",
       "show_id                                                  \n",
       "s20                                      Sports Movies   \n",
       "s32      Dramas, International Movies, Romantic Movies   \n",
       "s33      Dramas, International Movies, Romantic Movies   \n",
       "\n",
       "                                               description  year_added  \n",
       "show_id                                                                 \n",
       "s20      Mixing old footage with interviews, this is th...        2018  \n",
       "s32      Pining for his high school crush for years, a ...        2020  \n",
       "s33      As Ayu and Ditto finally transition from best ...        2020  "
      ]
     },
     "execution_count": 29,
     "metadata": {},
     "output_type": "execute_result"
    }
   ],
   "source": [
    "suit_kids = ['TV-Y','TV-Y7','G','TV-G','PG', 'TV-PG']\n",
    "kids_df = nmts_df[nmts_df.rating.isin(suit_kids)]\n",
    "#Quan sát kết quả ban đầu\n",
    "print(f\"Có {len(kids_df)} chương trình phù hợp cho trẻ em, chiếm {round(len(kids_df)*100/nrows,2)}% tổng số chương trình\")\n",
    "kids_df.head(3)"
   ]
  },
  {
   "cell_type": "markdown",
   "id": "410bda19",
   "metadata": {},
   "source": [
    "### Tính số lượng phim theo từng năm"
   ]
  },
  {
   "cell_type": "code",
   "execution_count": 30,
   "id": "750763af",
   "metadata": {
    "jupyter": {
     "source_hidden": true
    }
   },
   "outputs": [
    {
     "data": {
      "text/plain": [
       "year_added\n",
       "0         10\n",
       "2008       2\n",
       "2009       2\n",
       "2010       1\n",
       "2011      13\n",
       "2012       3\n",
       "2013      11\n",
       "2014      25\n",
       "2015      88\n",
       "2016     442\n",
       "2017    1224\n",
       "2018    1684\n",
       "2019    2142\n",
       "2020    2004\n",
       "2021     117\n",
       "dtype: int64"
      ]
     },
     "execution_count": 30,
     "metadata": {},
     "output_type": "execute_result"
    }
   ],
   "source": [
    "nmts_by_year = nmts_df.groupby('year_added').size()\n",
    "nmts_by_year"
   ]
  },
  {
   "cell_type": "markdown",
   "id": "51d7c7b9",
   "metadata": {},
   "source": [
    "Ta thấy có nhiều năm có số lượng quan sát rất nhỏ, làm cho kết quả thống kê không đáng tin cậy. Vì cậy, nhóm em chỉ phân tích những năm trên 30 mẫu và đồng thời do năm 2021 chỉ có dữ liệu đến ngày 16/1/2021 nên không thể đại diện cho một năm, vì vậy nhóm em sử dụng dữ liệu từ năm 2015-2020 để trả lời câu hỏi"
   ]
  },
  {
   "cell_type": "code",
   "execution_count": 31,
   "id": "a61c25f5",
   "metadata": {
    "jupyter": {
     "source_hidden": true
    },
    "tags": []
   },
   "outputs": [
    {
     "data": {
      "text/plain": [
       "year_added\n",
       "2015      88\n",
       "2016     442\n",
       "2017    1224\n",
       "2018    1684\n",
       "2019    2142\n",
       "2020    2004\n",
       "dtype: int64"
      ]
     },
     "execution_count": 31,
     "metadata": {},
     "output_type": "execute_result"
    }
   ],
   "source": [
    "nmts_by_year = nmts_by_year.loc[2015:2020]\n",
    "nmts_by_year"
   ]
  },
  {
   "cell_type": "markdown",
   "id": "f2703b81",
   "metadata": {},
   "source": [
    "### Tính số lượng phim dành cho trẻ em theo từng năm"
   ]
  },
  {
   "cell_type": "code",
   "execution_count": 32,
   "id": "dd02075d",
   "metadata": {
    "jupyter": {
     "source_hidden": true
    },
    "tags": []
   },
   "outputs": [
    {
     "data": {
      "text/plain": [
       "year_added\n",
       "0         4\n",
       "2011      5\n",
       "2012      2\n",
       "2013      2\n",
       "2014     11\n",
       "2015     34\n",
       "2016    124\n",
       "2017    307\n",
       "2018    364\n",
       "2019    457\n",
       "2020    501\n",
       "2021     26\n",
       "dtype: int64"
      ]
     },
     "execution_count": 32,
     "metadata": {},
     "output_type": "execute_result"
    }
   ],
   "source": [
    "kid_by_year = kids_df.groupby('year_added').size()\n",
    "kid_by_year"
   ]
  },
  {
   "cell_type": "markdown",
   "id": "28c1093d",
   "metadata": {},
   "source": [
    "Lọc những năm từ 2015 trở đi"
   ]
  },
  {
   "cell_type": "code",
   "execution_count": 33,
   "id": "7d09469f",
   "metadata": {
    "jupyter": {
     "source_hidden": true
    },
    "tags": []
   },
   "outputs": [
    {
     "data": {
      "text/plain": [
       "year_added\n",
       "2015     34\n",
       "2016    124\n",
       "2017    307\n",
       "2018    364\n",
       "2019    457\n",
       "2020    501\n",
       "dtype: int64"
      ]
     },
     "execution_count": 33,
     "metadata": {},
     "output_type": "execute_result"
    }
   ],
   "source": [
    "kid_by_year = kid_by_year.loc[2015:2020]\n",
    "kid_by_year"
   ]
  },
  {
   "cell_type": "markdown",
   "id": "89d96539",
   "metadata": {},
   "source": [
    "### Trực quan bằng biểu đồ stacked barchart"
   ]
  },
  {
   "cell_type": "code",
   "execution_count": 34,
   "id": "e861cc2e",
   "metadata": {
    "jupyter": {
     "source_hidden": true
    },
    "tags": []
   },
   "outputs": [
    {
     "data": {
      "text/html": [
       "<div>\n",
       "<style scoped>\n",
       "    .dataframe tbody tr th:only-of-type {\n",
       "        vertical-align: middle;\n",
       "    }\n",
       "\n",
       "    .dataframe tbody tr th {\n",
       "        vertical-align: top;\n",
       "    }\n",
       "\n",
       "    .dataframe thead th {\n",
       "        text-align: right;\n",
       "    }\n",
       "</style>\n",
       "<table border=\"1\" class=\"dataframe\">\n",
       "  <thead>\n",
       "    <tr style=\"text-align: right;\">\n",
       "      <th></th>\n",
       "      <th>Total</th>\n",
       "      <th>For_kids</th>\n",
       "      <th>Others</th>\n",
       "    </tr>\n",
       "    <tr>\n",
       "      <th>year_added</th>\n",
       "      <th></th>\n",
       "      <th></th>\n",
       "      <th></th>\n",
       "    </tr>\n",
       "  </thead>\n",
       "  <tbody>\n",
       "    <tr>\n",
       "      <th>2015</th>\n",
       "      <td>88</td>\n",
       "      <td>34</td>\n",
       "      <td>54</td>\n",
       "    </tr>\n",
       "    <tr>\n",
       "      <th>2016</th>\n",
       "      <td>442</td>\n",
       "      <td>124</td>\n",
       "      <td>318</td>\n",
       "    </tr>\n",
       "    <tr>\n",
       "      <th>2017</th>\n",
       "      <td>1224</td>\n",
       "      <td>307</td>\n",
       "      <td>917</td>\n",
       "    </tr>\n",
       "    <tr>\n",
       "      <th>2018</th>\n",
       "      <td>1684</td>\n",
       "      <td>364</td>\n",
       "      <td>1320</td>\n",
       "    </tr>\n",
       "    <tr>\n",
       "      <th>2019</th>\n",
       "      <td>2142</td>\n",
       "      <td>457</td>\n",
       "      <td>1685</td>\n",
       "    </tr>\n",
       "    <tr>\n",
       "      <th>2020</th>\n",
       "      <td>2004</td>\n",
       "      <td>501</td>\n",
       "      <td>1503</td>\n",
       "    </tr>\n",
       "  </tbody>\n",
       "</table>\n",
       "</div>"
      ],
      "text/plain": [
       "            Total  For_kids  Others\n",
       "year_added                         \n",
       "2015           88        34      54\n",
       "2016          442       124     318\n",
       "2017         1224       307     917\n",
       "2018         1684       364    1320\n",
       "2019         2142       457    1685\n",
       "2020         2004       501    1503"
      ]
     },
     "execution_count": 34,
     "metadata": {},
     "output_type": "execute_result"
    }
   ],
   "source": [
    "df_by_year = pd.concat([nmts_by_year, kid_by_year], axis=1)\n",
    "df_by_year.columns= ['Total', 'For_kids']\n",
    "df_by_year[\"Others\"] = nmts_by_year - kid_by_year\n",
    "df_by_year"
   ]
  },
  {
   "cell_type": "code",
   "execution_count": 35,
   "id": "73f9c9d2",
   "metadata": {
    "jupyter": {
     "source_hidden": true
    },
    "tags": []
   },
   "outputs": [
    {
     "data": {
      "image/png": "[encoded data removed]",
      "text/plain": [
       "<Figure size 720x504 with 1 Axes>"
      ]
     },
     "metadata": {},
     "output_type": "display_data"
    }
   ],
   "source": [
    "df_by_year[[\"For_kids\", \"Others\"]].plot.bar(stacked=True, figsize=(10,7), ylabel=\"Number of releases\");"
   ]
  },
  {
   "cell_type": "markdown",
   "id": "7b766dde",
   "metadata": {},
   "source": [
    "**Nhận xét**: Qua biểu đồ trên ta có một cái nhìn (view) tổng quát về số lượng chương trình qua các năm. \n",
    "   - Nhìn chung, số lượng chương trình phù hợp cho trẻ em qua các năm tăng khá ổn định. Nếu bạn muốn đăng kí Netflix cho con của mình thì bạn có thể hoàn toàn yên tâm vì Netflix luôn sản xuất các nội dung phù hợp cho trẻ qua từng năm và nội dung phim sẽ luôn được cập nhật. \n",
    "   - Bên cạnh đó, có thể thấy số lượng chương trình qua các năm cũng tăng lên rất nhiều. Vì vậy ta sẽ tính thêm tỉ lệ các chương phù hợp cho trẻ em trên tổng số chương trình qua từng năm."
   ]
  },
  {
   "cell_type": "markdown",
   "id": "170e0430",
   "metadata": {},
   "source": [
    "### Tính tỉ lệ chương trình phù hợp cho trẻ em"
   ]
  },
  {
   "cell_type": "code",
   "execution_count": 36,
   "id": "429b24f4",
   "metadata": {
    "jupyter": {
     "source_hidden": true
    }
   },
   "outputs": [],
   "source": [
    "df_by_year[\"Ratio\"] = kid_by_year/nmts_by_year"
   ]
  },
  {
   "cell_type": "code",
   "execution_count": 37,
   "id": "2dc2287b",
   "metadata": {
    "jupyter": {
     "source_hidden": true
    }
   },
   "outputs": [
    {
     "data": {
      "text/plain": [
       "year_added\n",
       "2015    0.386364\n",
       "2016    0.280543\n",
       "2017    0.250817\n",
       "2018    0.216152\n",
       "2019    0.213352\n",
       "2020    0.250000\n",
       "Name: Ratio, dtype: float64"
      ]
     },
     "execution_count": 37,
     "metadata": {},
     "output_type": "execute_result"
    }
   ],
   "source": [
    "df_by_year[\"Ratio\"]"
   ]
  },
  {
   "cell_type": "markdown",
   "id": "fcda516f",
   "metadata": {},
   "source": [
    "### Trực quan tỉ lệ phim phù hợp cho trẻ em bằng biểu đồ đường"
   ]
  },
  {
   "cell_type": "code",
   "execution_count": 38,
   "id": "45d98b41",
   "metadata": {
    "jupyter": {
     "source_hidden": true
    },
    "tags": []
   },
   "outputs": [
    {
     "data": {
      "image/png": "[encoded data removed]",
      "text/plain": [
       "<Figure size 720x360 with 1 Axes>"
      ]
     },
     "metadata": {},
     "output_type": "display_data"
    }
   ],
   "source": [
    "plt.figure(figsize=(10,5))\n",
    "plt.ylabel('Ratio show for kids')\n",
    "plt.ylim((0,1))\n",
    "plt.yticks(np.arange(0,1.1,0.1))\n",
    "df_by_year.Ratio.plot.line(marker='o', ms=8);"
   ]
  },
  {
   "cell_type": "markdown",
   "id": "2664056e",
   "metadata": {},
   "source": [
    "**Nhận xét**: Tỉ lệ các chương trình phù hợp cho trẻ theo từng năm cũng ổn định. Do vậy ta vẫn giữ nguyên kết luận bên trên."
   ]
  },
  {
   "cell_type": "markdown",
   "id": "5dfe41db",
   "metadata": {},
   "source": [
    "## Câu hỏi 2: Đâu là quốc gia sản xuất TV Show/Movie hàng đầu Netflix ?"
   ]
  },
  {
   "cell_type": "markdown",
   "id": "1bca7296",
   "metadata": {},
   "source": [
    "Việc trả lời câu hỏi này giúp cho người dùng có thể biết được Netflix phát triển mạnh mẽ ở các khu vực nào, trên Netflix tập trung phim của quốc gia nào. Nó giúp cho người dùng có thể biết được là liệu Netflix có thích hợp với nhu cầu xem phim trực tuyến của bản thân mình hay không (bởi vì giả sử như người dùng thích phim Trung Quốc mà Netflix lại không có nhiều phim Trung Quốc vậy thì nên chọn ứng dụng xem phim trực tuyến khác như FPT, Vieon,...)"
   ]
  },
  {
   "cell_type": "markdown",
   "id": "1bdda15c",
   "metadata": {},
   "source": [
    "**Các bước thực hiện**:\n",
    "- Tạo DataFrame bao gồm 2 cột \"country\" và \"movieid\"\n",
    "- Tách riêng các quốc gia trong cùng 1 bộ phim(Do có một số phim bộ phim được sản xuất ở nhiều quốc gia)\n",
    "- Đếm số lượng các quốc gia\n",
    "- Trực quan hóa"
   ]
  },
  {
   "cell_type": "markdown",
   "id": "057d3eba",
   "metadata": {},
   "source": [
    "### Tiền xử lý tách riêng các quốc gia"
   ]
  },
  {
   "cell_type": "code",
   "execution_count": 39,
   "id": "141cfb9b",
   "metadata": {
    "jupyter": {
     "source_hidden": true
    },
    "tags": []
   },
   "outputs": [
    {
     "data": {
      "text/html": [
       "<div>\n",
       "<style scoped>\n",
       "    .dataframe tbody tr th:only-of-type {\n",
       "        vertical-align: middle;\n",
       "    }\n",
       "\n",
       "    .dataframe tbody tr th {\n",
       "        vertical-align: top;\n",
       "    }\n",
       "\n",
       "    .dataframe thead th {\n",
       "        text-align: right;\n",
       "    }\n",
       "</style>\n",
       "<table border=\"1\" class=\"dataframe\">\n",
       "  <thead>\n",
       "    <tr style=\"text-align: right;\">\n",
       "      <th></th>\n",
       "      <th>show_id</th>\n",
       "      <th>country</th>\n",
       "    </tr>\n",
       "  </thead>\n",
       "  <tbody>\n",
       "    <tr>\n",
       "      <th>0</th>\n",
       "      <td>s1</td>\n",
       "      <td>Brazil</td>\n",
       "    </tr>\n",
       "    <tr>\n",
       "      <th>1</th>\n",
       "      <td>s2</td>\n",
       "      <td>Mexico</td>\n",
       "    </tr>\n",
       "    <tr>\n",
       "      <th>2</th>\n",
       "      <td>s3</td>\n",
       "      <td>Singapore</td>\n",
       "    </tr>\n",
       "    <tr>\n",
       "      <th>3</th>\n",
       "      <td>s4</td>\n",
       "      <td>United States</td>\n",
       "    </tr>\n",
       "    <tr>\n",
       "      <th>4</th>\n",
       "      <td>s5</td>\n",
       "      <td>United States</td>\n",
       "    </tr>\n",
       "    <tr>\n",
       "      <th>...</th>\n",
       "      <td>...</td>\n",
       "      <td>...</td>\n",
       "    </tr>\n",
       "    <tr>\n",
       "      <th>7765</th>\n",
       "      <td>s7785</td>\n",
       "      <td>NaN</td>\n",
       "    </tr>\n",
       "    <tr>\n",
       "      <th>7766</th>\n",
       "      <td>s7786</td>\n",
       "      <td>Australia</td>\n",
       "    </tr>\n",
       "    <tr>\n",
       "      <th>7767</th>\n",
       "      <td>s7787</td>\n",
       "      <td>United Kingdom</td>\n",
       "    </tr>\n",
       "    <tr>\n",
       "      <th>7767</th>\n",
       "      <td>s7787</td>\n",
       "      <td>Canada</td>\n",
       "    </tr>\n",
       "    <tr>\n",
       "      <th>7767</th>\n",
       "      <td>s7787</td>\n",
       "      <td>United States</td>\n",
       "    </tr>\n",
       "  </tbody>\n",
       "</table>\n",
       "<p>9551 rows × 2 columns</p>\n",
       "</div>"
      ],
      "text/plain": [
       "     show_id         country\n",
       "0         s1          Brazil\n",
       "1         s2          Mexico\n",
       "2         s3       Singapore\n",
       "3         s4   United States\n",
       "4         s5   United States\n",
       "...      ...             ...\n",
       "7765   s7785             NaN\n",
       "7766   s7786       Australia\n",
       "7767   s7787  United Kingdom\n",
       "7767   s7787          Canada\n",
       "7767   s7787   United States\n",
       "\n",
       "[9551 rows x 2 columns]"
      ]
     },
     "execution_count": 39,
     "metadata": {},
     "output_type": "execute_result"
    }
   ],
   "source": [
    "# Tạo DataFrame bao gồm 2 cột \"country\" và \"movieid\"\n",
    "country_df = nmts_df[['country']].reset_index()\n",
    "\n",
    "# Tách riêng các quốc gia trong cùng 1 bộ phim\n",
    "country_df['country'] = country_df['country'].str.split(', ')\n",
    "country_df = country_df.explode('country')\n",
    "country_df"
   ]
  },
  {
   "cell_type": "code",
   "execution_count": 40,
   "id": "ff69ce14",
   "metadata": {
    "jupyter": {
     "source_hidden": true
    },
    "tags": []
   },
   "outputs": [
    {
     "data": {
      "text/plain": [
       "array(['Brazil', 'Mexico', 'Singapore', 'United States', 'Turkey',\n",
       "       'Egypt', 'India', 'Poland', 'Thailand', 'Nigeria', nan, 'Norway',\n",
       "       'Iceland', 'United Kingdom', 'Japan', 'South Korea', 'Italy',\n",
       "       'Canada', 'Indonesia', 'Romania', 'Spain', 'South Africa',\n",
       "       'France', 'Portugal', 'Hong Kong', 'China', 'Germany', 'Argentina',\n",
       "       'Serbia', 'Denmark', 'Kenya', 'New Zealand', 'Pakistan',\n",
       "       'Australia', 'Taiwan', 'Netherlands', 'Philippines',\n",
       "       'United Arab Emirates', 'Iran', 'Belgium', 'Israel', 'Uruguay',\n",
       "       'Bulgaria', 'Chile', 'Russia', 'Mauritius', 'Lebanon', 'Colombia',\n",
       "       'Algeria', 'Soviet Union', 'Sweden', 'Malaysia', 'Ireland',\n",
       "       'Luxembourg', 'Finland', 'Austria', 'Peru', 'Senegal',\n",
       "       'Switzerland', 'Ghana', 'Saudi Arabia', 'Armenia', 'Jordan',\n",
       "       'Mongolia', 'Namibia', 'Qatar', 'Vietnam', 'Syria', 'Kuwait',\n",
       "       'Malta', 'Czech Republic', 'Bahamas', 'Sri Lanka',\n",
       "       'Cayman Islands', 'Bangladesh', 'United States,', 'Zimbabwe',\n",
       "       'Hungary', 'Latvia', 'Liechtenstein', 'Venezuela', 'Morocco',\n",
       "       'Cambodia', 'Albania', 'Cuba', 'Nicaragua', 'Greece', 'Cambodia,',\n",
       "       'Croatia', 'Guatemala', 'West Germany', 'Poland,', 'Slovenia',\n",
       "       'Dominican Republic', 'Nepal', 'Samoa', 'Azerbaijan', 'Bermuda',\n",
       "       'Ecuador', 'Georgia', 'Botswana', 'Puerto Rico', 'Iraq',\n",
       "       'Vatican City', 'Angola', 'Ukraine', 'Jamaica', 'Belarus',\n",
       "       'Cyprus', 'Kazakhstan', 'Malawi', 'Slovakia', 'Lithuania',\n",
       "       'Afghanistan', 'Paraguay', 'Somalia', 'Sudan', 'Panama',\n",
       "       'United Kingdom,', 'Uganda', 'East Germany', 'Montenegro'],\n",
       "      dtype=object)"
      ]
     },
     "execution_count": 40,
     "metadata": {},
     "output_type": "execute_result"
    }
   ],
   "source": [
    "country_df.country.unique()"
   ]
  },
  {
   "cell_type": "markdown",
   "id": "33e3201b",
   "metadata": {},
   "source": [
    "Ở đây nhóm em phát hiện một số quốc gia có dấu \",\" ở phía sau nên cần xử lý thêm nhưng quốc gia này"
   ]
  },
  {
   "cell_type": "code",
   "execution_count": 41,
   "id": "037b9627",
   "metadata": {
    "jupyter": {
     "source_hidden": true
    }
   },
   "outputs": [
    {
     "data": {
      "text/html": [
       "<div>\n",
       "<style scoped>\n",
       "    .dataframe tbody tr th:only-of-type {\n",
       "        vertical-align: middle;\n",
       "    }\n",
       "\n",
       "    .dataframe tbody tr th {\n",
       "        vertical-align: top;\n",
       "    }\n",
       "\n",
       "    .dataframe thead th {\n",
       "        text-align: right;\n",
       "    }\n",
       "</style>\n",
       "<table border=\"1\" class=\"dataframe\">\n",
       "  <thead>\n",
       "    <tr style=\"text-align: right;\">\n",
       "      <th></th>\n",
       "      <th>show_id</th>\n",
       "      <th>country</th>\n",
       "    </tr>\n",
       "  </thead>\n",
       "  <tbody>\n",
       "    <tr>\n",
       "      <th>1396</th>\n",
       "      <td>s1403</td>\n",
       "      <td>United States,</td>\n",
       "    </tr>\n",
       "    <tr>\n",
       "      <th>2308</th>\n",
       "      <td>s2316</td>\n",
       "      <td>Cambodia,</td>\n",
       "    </tr>\n",
       "    <tr>\n",
       "      <th>2819</th>\n",
       "      <td>s2828</td>\n",
       "      <td>Poland,</td>\n",
       "    </tr>\n",
       "    <tr>\n",
       "      <th>7414</th>\n",
       "      <td>s7434</td>\n",
       "      <td>United Kingdom,</td>\n",
       "    </tr>\n",
       "  </tbody>\n",
       "</table>\n",
       "</div>"
      ],
      "text/plain": [
       "     show_id          country\n",
       "1396   s1403   United States,\n",
       "2308   s2316        Cambodia,\n",
       "2819   s2828          Poland,\n",
       "7414   s7434  United Kingdom,"
      ]
     },
     "execution_count": 41,
     "metadata": {},
     "output_type": "execute_result"
    }
   ],
   "source": [
    "df = country_df.fillna('unknow')\n",
    "df[df['country'].str.contains(',')]"
   ]
  },
  {
   "cell_type": "markdown",
   "id": "511071e6",
   "metadata": {},
   "source": [
    "**Xử lý dấu \",\"**"
   ]
  },
  {
   "cell_type": "code",
   "execution_count": 42,
   "id": "77bb92c6",
   "metadata": {
    "jupyter": {
     "source_hidden": true
    }
   },
   "outputs": [
    {
     "data": {
      "text/plain": [
       "array(['Brazil', 'Mexico', 'Singapore', 'United States', 'Turkey',\n",
       "       'Egypt', 'India', 'Poland', 'Thailand', 'Nigeria', nan, 'Norway',\n",
       "       'Iceland', 'United Kingdom', 'Japan', 'South Korea', 'Italy',\n",
       "       'Canada', 'Indonesia', 'Romania', 'Spain', 'South Africa',\n",
       "       'France', 'Portugal', 'Hong Kong', 'China', 'Germany', 'Argentina',\n",
       "       'Serbia', 'Denmark', 'Kenya', 'New Zealand', 'Pakistan',\n",
       "       'Australia', 'Taiwan', 'Netherlands', 'Philippines',\n",
       "       'United Arab Emirates', 'Iran', 'Belgium', 'Israel', 'Uruguay',\n",
       "       'Bulgaria', 'Chile', 'Russia', 'Mauritius', 'Lebanon', 'Colombia',\n",
       "       'Algeria', 'Soviet Union', 'Sweden', 'Malaysia', 'Ireland',\n",
       "       'Luxembourg', 'Finland', 'Austria', 'Peru', 'Senegal',\n",
       "       'Switzerland', 'Ghana', 'Saudi Arabia', 'Armenia', 'Jordan',\n",
       "       'Mongolia', 'Namibia', 'Qatar', 'Vietnam', 'Syria', 'Kuwait',\n",
       "       'Malta', 'Czech Republic', 'Bahamas', 'Sri Lanka',\n",
       "       'Cayman Islands', 'Bangladesh', 'Zimbabwe', 'Hungary', 'Latvia',\n",
       "       'Liechtenstein', 'Venezuela', 'Morocco', 'Cambodia', 'Albania',\n",
       "       'Cuba', 'Nicaragua', 'Greece', 'Croatia', 'Guatemala',\n",
       "       'West Germany', 'Slovenia', 'Dominican Republic', 'Nepal', 'Samoa',\n",
       "       'Azerbaijan', 'Bermuda', 'Ecuador', 'Georgia', 'Botswana',\n",
       "       'Puerto Rico', 'Iraq', 'Vatican City', 'Angola', 'Ukraine',\n",
       "       'Jamaica', 'Belarus', 'Cyprus', 'Kazakhstan', 'Malawi', 'Slovakia',\n",
       "       'Lithuania', 'Afghanistan', 'Paraguay', 'Somalia', 'Sudan',\n",
       "       'Panama', 'Uganda', 'East Germany', 'Montenegro'], dtype=object)"
      ]
     },
     "execution_count": 42,
     "metadata": {},
     "output_type": "execute_result"
    }
   ],
   "source": [
    "country_df.country = country_df.country.str.replace(',', '')\n",
    "country_df.country.unique()"
   ]
  },
  {
   "cell_type": "markdown",
   "id": "e9ae51f6",
   "metadata": {},
   "source": [
    "### Trả lời câu hỏi"
   ]
  },
  {
   "cell_type": "code",
   "execution_count": 43,
   "id": "02781115",
   "metadata": {
    "jupyter": {
     "source_hidden": true
    },
    "tags": []
   },
   "outputs": [
    {
     "data": {
      "text/plain": [
       "United States     3295\n",
       "India              986\n",
       "United Kingdom     723\n",
       "Canada             412\n",
       "France             348\n",
       "Japan              287\n",
       "Spain              215\n",
       "South Korea        212\n",
       "Germany            199\n",
       "Mexico             154\n",
       "Name: country, dtype: int64"
      ]
     },
     "execution_count": 43,
     "metadata": {},
     "output_type": "execute_result"
    }
   ],
   "source": [
    "# Đếm số lượng các quốc gia\n",
    "count_country = country_df['country'].value_counts()\n",
    "\n",
    "# Lấy dữ liệu Top 10 quốc gia\n",
    "top10_country = count_country[:10]\n",
    "top10_country"
   ]
  },
  {
   "cell_type": "code",
   "execution_count": 44,
   "id": "b4488690",
   "metadata": {
    "jupyter": {
     "source_hidden": true
    }
   },
   "outputs": [
    {
     "data": {
      "image/png": "[encoded data removed]",
      "text/plain": [
       "<Figure size 720x360 with 1 Axes>"
      ]
     },
     "metadata": {},
     "output_type": "display_data"
    }
   ],
   "source": [
    "# Trực quan hóa\n",
    "top10_country.plot.barh(figsize=(10,5))\n",
    "plt.xlabel('Number of TV Show/ Movie')\n",
    "plt.ylabel('Country')\n",
    "plt.xticks(range(0,3500, 250))\n",
    "plt.show()"
   ]
  },
  {
   "cell_type": "markdown",
   "id": "6e8d981b",
   "metadata": {},
   "source": [
    "**Nhận xét**:\n",
    "- Mỹ là quốc gia sản xuất phim nhiều nhất Netflix, cao gấp 3 lần quốc gia đứng thứ 2 là Ấn Độ. Điều này cũng dễ hiểu bởi vì Mỹ là nơi mà Netflix thành lập, đồng thời thị trường ở Mỹ cũng rất là tiềm năng."
   ]
  },
  {
   "cell_type": "markdown",
   "id": "68367c64",
   "metadata": {},
   "source": [
    "**TV Show/Movies của các quốc gia được người dân Việt Nam ưa chuộng**"
   ]
  },
  {
   "cell_type": "markdown",
   "id": "fa50cfe0",
   "metadata": {},
   "source": [
    "Theo một số [bài báo](https://tuoitre.vn/khan-gia-che-phim-viet-vi-sao-435138.htm) thì ngoài phim Việt Nam người dân Việt Nam còn khá ưa chuộng các phim của Mỹ, Trung Quốc, Hàn Quốc vì vậy ở đây nhóm em sẽ tiến hành xem xét các nước này"
   ]
  },
  {
   "cell_type": "code",
   "execution_count": 45,
   "id": "c36e9599",
   "metadata": {
    "jupyter": {
     "source_hidden": true
    },
    "tags": []
   },
   "outputs": [
    {
     "data": {
      "text/plain": [
       "Vietnam             5\n",
       "China             147\n",
       "South Korea       212\n",
       "United States    3295\n",
       "Name: country, dtype: int64"
      ]
     },
     "execution_count": 45,
     "metadata": {},
     "output_type": "execute_result"
    }
   ],
   "source": [
    "# Lấy dữ liệu về các phim được người dân Việt Nam ưa chuộng\n",
    "country_trend = ['Vietnam', 'China', 'United States', 'South Korea']\n",
    "country_trend_sr = count_country[country_trend].sort_values()\n",
    "country_trend_sr"
   ]
  },
  {
   "cell_type": "code",
   "execution_count": 46,
   "id": "31163d8e",
   "metadata": {
    "jupyter": {
     "source_hidden": true
    },
    "tags": []
   },
   "outputs": [
    {
     "data": {
      "image/png": "[encoded data removed]",
      "text/plain": [
       "<Figure size 720x360 with 1 Axes>"
      ]
     },
     "metadata": {},
     "output_type": "display_data"
    }
   ],
   "source": [
    "# Trực quan hóa\n",
    "country_trend_sr.plot.barh(figsize=(10,5))\n",
    "plt.xlabel('Number of TV Show/ Movie')\n",
    "plt.ylabel('Country')\n",
    "plt.xscale('log')\n",
    "plt.show()"
   ]
  },
  {
   "cell_type": "markdown",
   "id": "a7ffc6b9",
   "metadata": {},
   "source": [
    "**Nhận xét**:\n",
    "- Có thể thấy Netflix hoàn toàn có khả năng thỏa mãn nhu cầu xem phim Mỹ của người dùng Việt bởi kho phim đồ sộ của mình. Đối với những người có sở thích xem phim Hàn, Trung Quốc thì Netflix cũng là một lựa chọn không tồi bởi vì có gần 250 đầu phim của quốc gia này và đồng thời Hàn Quốc cũng là quốc gia đang được Netflix đầu tư khá nhiều về mặt phát triển nội dung (Các tựa phim Hàn Quốc luôn xếp top 10 trending trên Netflix). Mặt khác đối với những người có sở thích xem phim Việt Nam thì Netflix hoàn toàn không phù hợp với họ do số lượng phim Việt trên Netflix còn khá hạn chế vì vậy có thể suy nghĩ đến các ứng dụng xem phim trực tuyến khác như FPT play, Vieon,..."
   ]
  },
  {
   "cell_type": "markdown",
   "id": "e75eada7",
   "metadata": {},
   "source": [
    "## Câu hỏi 3: Số lượng chương trình kinh dị (Horror) theo từng tháng như thế nao?"
   ]
  },
  {
   "cell_type": "markdown",
   "id": "e71073f9",
   "metadata": {},
   "source": [
    "Phân tích này dành cho những tín đồ của dòng phim kinh dị. Bạn sẽ biết được những tháng nào trong năm nào có số lượng phim kinh dị được phát hành nhiều nhất. Từ đó bạn có thể đón chờ và lựa chọn ra những siêu phẩm cho mình :>\n",
    "\n",
    "**Để thực hiện phân tích này, ta sẽ thực hiện các bước sau đây**:\n",
    "- Thêm cột \"month_added\" vào dữ liệu. Cột này chứa dữ liệu về tháng của \"date_added\"\n",
    "- Thêm cột \"Horror_TV_Movie\". Cột này nhận giá trị True/False. Nếu trường \"listed_in\" có chứa 'TV Horror' hoặc 'Horror Movies' thì cột này sẽ trả về True.\n",
    "- Đếm số lượng phim kinh dị theo từng tháng, từng năm\n",
    "- Vẽ biểu đồ và trả lời câu hỏi"
   ]
  },
  {
   "cell_type": "markdown",
   "id": "617c0211",
   "metadata": {},
   "source": [
    "### Tiền xử lý: Thêm cột \"month_added\" vào dữ liệu"
   ]
  },
  {
   "cell_type": "code",
   "execution_count": 47,
   "id": "cf1f33fa",
   "metadata": {
    "tags": []
   },
   "outputs": [
    {
     "data": {
      "text/html": [
       "<div>\n",
       "<style scoped>\n",
       "    .dataframe tbody tr th:only-of-type {\n",
       "        vertical-align: middle;\n",
       "    }\n",
       "\n",
       "    .dataframe tbody tr th {\n",
       "        vertical-align: top;\n",
       "    }\n",
       "\n",
       "    .dataframe thead th {\n",
       "        text-align: right;\n",
       "    }\n",
       "</style>\n",
       "<table border=\"1\" class=\"dataframe\">\n",
       "  <thead>\n",
       "    <tr style=\"text-align: right;\">\n",
       "      <th></th>\n",
       "      <th>type</th>\n",
       "      <th>title</th>\n",
       "      <th>director</th>\n",
       "      <th>cast</th>\n",
       "      <th>country</th>\n",
       "      <th>date_added</th>\n",
       "      <th>release_year</th>\n",
       "      <th>rating</th>\n",
       "      <th>duration</th>\n",
       "      <th>listed_in</th>\n",
       "      <th>description</th>\n",
       "      <th>year_added</th>\n",
       "      <th>month_added</th>\n",
       "    </tr>\n",
       "    <tr>\n",
       "      <th>show_id</th>\n",
       "      <th></th>\n",
       "      <th></th>\n",
       "      <th></th>\n",
       "      <th></th>\n",
       "      <th></th>\n",
       "      <th></th>\n",
       "      <th></th>\n",
       "      <th></th>\n",
       "      <th></th>\n",
       "      <th></th>\n",
       "      <th></th>\n",
       "      <th></th>\n",
       "      <th></th>\n",
       "    </tr>\n",
       "  </thead>\n",
       "  <tbody>\n",
       "    <tr>\n",
       "      <th>s1</th>\n",
       "      <td>TV Show</td>\n",
       "      <td>3%</td>\n",
       "      <td>NaN</td>\n",
       "      <td>João Miguel, Bianca Comparato, Michel Gomes, R...</td>\n",
       "      <td>Brazil</td>\n",
       "      <td>2020-08-14</td>\n",
       "      <td>2020</td>\n",
       "      <td>TV-MA</td>\n",
       "      <td>4 Seasons</td>\n",
       "      <td>International TV Shows, TV Dramas, TV Sci-Fi &amp;...</td>\n",
       "      <td>In a future where the elite inhabit an island ...</td>\n",
       "      <td>2020</td>\n",
       "      <td>8</td>\n",
       "    </tr>\n",
       "    <tr>\n",
       "      <th>s2</th>\n",
       "      <td>Movie</td>\n",
       "      <td>7:19</td>\n",
       "      <td>Jorge Michel Grau</td>\n",
       "      <td>Demián Bichir, Héctor Bonilla, Oscar Serrano, ...</td>\n",
       "      <td>Mexico</td>\n",
       "      <td>2016-12-23</td>\n",
       "      <td>2016</td>\n",
       "      <td>TV-MA</td>\n",
       "      <td>93 min</td>\n",
       "      <td>Dramas, International Movies</td>\n",
       "      <td>After a devastating earthquake hits Mexico Cit...</td>\n",
       "      <td>2016</td>\n",
       "      <td>12</td>\n",
       "    </tr>\n",
       "    <tr>\n",
       "      <th>s3</th>\n",
       "      <td>Movie</td>\n",
       "      <td>23:59</td>\n",
       "      <td>Gilbert Chan</td>\n",
       "      <td>Tedd Chan, Stella Chung, Henley Hii, Lawrence ...</td>\n",
       "      <td>Singapore</td>\n",
       "      <td>2018-12-20</td>\n",
       "      <td>2011</td>\n",
       "      <td>R</td>\n",
       "      <td>78 min</td>\n",
       "      <td>Horror Movies, International Movies</td>\n",
       "      <td>When an army recruit is found dead, his fellow...</td>\n",
       "      <td>2018</td>\n",
       "      <td>12</td>\n",
       "    </tr>\n",
       "  </tbody>\n",
       "</table>\n",
       "</div>"
      ],
      "text/plain": [
       "            type  title           director  \\\n",
       "show_id                                      \n",
       "s1       TV Show     3%                NaN   \n",
       "s2         Movie   7:19  Jorge Michel Grau   \n",
       "s3         Movie  23:59       Gilbert Chan   \n",
       "\n",
       "                                                      cast    country  \\\n",
       "show_id                                                                 \n",
       "s1       João Miguel, Bianca Comparato, Michel Gomes, R...     Brazil   \n",
       "s2       Demián Bichir, Héctor Bonilla, Oscar Serrano, ...     Mexico   \n",
       "s3       Tedd Chan, Stella Chung, Henley Hii, Lawrence ...  Singapore   \n",
       "\n",
       "        date_added  release_year rating   duration  \\\n",
       "show_id                                              \n",
       "s1      2020-08-14          2020  TV-MA  4 Seasons   \n",
       "s2      2016-12-23          2016  TV-MA     93 min   \n",
       "s3      2018-12-20          2011      R     78 min   \n",
       "\n",
       "                                                 listed_in  \\\n",
       "show_id                                                      \n",
       "s1       International TV Shows, TV Dramas, TV Sci-Fi &...   \n",
       "s2                            Dramas, International Movies   \n",
       "s3                     Horror Movies, International Movies   \n",
       "\n",
       "                                               description  year_added  \\\n",
       "show_id                                                                  \n",
       "s1       In a future where the elite inhabit an island ...        2020   \n",
       "s2       After a devastating earthquake hits Mexico Cit...        2016   \n",
       "s3       When an army recruit is found dead, his fellow...        2018   \n",
       "\n",
       "         month_added  \n",
       "show_id               \n",
       "s1                 8  \n",
       "s2                12  \n",
       "s3                12  "
      ]
     },
     "execution_count": 47,
     "metadata": {},
     "output_type": "execute_result"
    }
   ],
   "source": [
    "nmts_df[\"month_added\"] = nmts_df.date_added.dt.month.fillna(0).astype('int')\n",
    "nmts_df.head(3)"
   ]
  },
  {
   "cell_type": "markdown",
   "id": "32a7ddbb",
   "metadata": {},
   "source": [
    "### Tiền xử lý: thêm cột \"Horror_TV_Movie\" vào dữ liệu"
   ]
  },
  {
   "cell_type": "code",
   "execution_count": 48,
   "id": "85cbd9ec",
   "metadata": {
    "tags": []
   },
   "outputs": [
    {
     "data": {
      "text/html": [
       "<div>\n",
       "<style scoped>\n",
       "    .dataframe tbody tr th:only-of-type {\n",
       "        vertical-align: middle;\n",
       "    }\n",
       "\n",
       "    .dataframe tbody tr th {\n",
       "        vertical-align: top;\n",
       "    }\n",
       "\n",
       "    .dataframe thead th {\n",
       "        text-align: right;\n",
       "    }\n",
       "</style>\n",
       "<table border=\"1\" class=\"dataframe\">\n",
       "  <thead>\n",
       "    <tr style=\"text-align: right;\">\n",
       "      <th></th>\n",
       "      <th>type</th>\n",
       "      <th>title</th>\n",
       "      <th>director</th>\n",
       "      <th>cast</th>\n",
       "      <th>country</th>\n",
       "      <th>date_added</th>\n",
       "      <th>release_year</th>\n",
       "      <th>rating</th>\n",
       "      <th>duration</th>\n",
       "      <th>listed_in</th>\n",
       "      <th>description</th>\n",
       "      <th>year_added</th>\n",
       "      <th>month_added</th>\n",
       "      <th>Horror_TV_Movie</th>\n",
       "    </tr>\n",
       "    <tr>\n",
       "      <th>show_id</th>\n",
       "      <th></th>\n",
       "      <th></th>\n",
       "      <th></th>\n",
       "      <th></th>\n",
       "      <th></th>\n",
       "      <th></th>\n",
       "      <th></th>\n",
       "      <th></th>\n",
       "      <th></th>\n",
       "      <th></th>\n",
       "      <th></th>\n",
       "      <th></th>\n",
       "      <th></th>\n",
       "      <th></th>\n",
       "    </tr>\n",
       "  </thead>\n",
       "  <tbody>\n",
       "    <tr>\n",
       "      <th>s1</th>\n",
       "      <td>TV Show</td>\n",
       "      <td>3%</td>\n",
       "      <td>NaN</td>\n",
       "      <td>João Miguel, Bianca Comparato, Michel Gomes, R...</td>\n",
       "      <td>Brazil</td>\n",
       "      <td>2020-08-14</td>\n",
       "      <td>2020</td>\n",
       "      <td>TV-MA</td>\n",
       "      <td>4 Seasons</td>\n",
       "      <td>International TV Shows, TV Dramas, TV Sci-Fi &amp;...</td>\n",
       "      <td>In a future where the elite inhabit an island ...</td>\n",
       "      <td>2020</td>\n",
       "      <td>8</td>\n",
       "      <td>False</td>\n",
       "    </tr>\n",
       "    <tr>\n",
       "      <th>s2</th>\n",
       "      <td>Movie</td>\n",
       "      <td>7:19</td>\n",
       "      <td>Jorge Michel Grau</td>\n",
       "      <td>Demián Bichir, Héctor Bonilla, Oscar Serrano, ...</td>\n",
       "      <td>Mexico</td>\n",
       "      <td>2016-12-23</td>\n",
       "      <td>2016</td>\n",
       "      <td>TV-MA</td>\n",
       "      <td>93 min</td>\n",
       "      <td>Dramas, International Movies</td>\n",
       "      <td>After a devastating earthquake hits Mexico Cit...</td>\n",
       "      <td>2016</td>\n",
       "      <td>12</td>\n",
       "      <td>False</td>\n",
       "    </tr>\n",
       "    <tr>\n",
       "      <th>s3</th>\n",
       "      <td>Movie</td>\n",
       "      <td>23:59</td>\n",
       "      <td>Gilbert Chan</td>\n",
       "      <td>Tedd Chan, Stella Chung, Henley Hii, Lawrence ...</td>\n",
       "      <td>Singapore</td>\n",
       "      <td>2018-12-20</td>\n",
       "      <td>2011</td>\n",
       "      <td>R</td>\n",
       "      <td>78 min</td>\n",
       "      <td>Horror Movies, International Movies</td>\n",
       "      <td>When an army recruit is found dead, his fellow...</td>\n",
       "      <td>2018</td>\n",
       "      <td>12</td>\n",
       "      <td>True</td>\n",
       "    </tr>\n",
       "  </tbody>\n",
       "</table>\n",
       "</div>"
      ],
      "text/plain": [
       "            type  title           director  \\\n",
       "show_id                                      \n",
       "s1       TV Show     3%                NaN   \n",
       "s2         Movie   7:19  Jorge Michel Grau   \n",
       "s3         Movie  23:59       Gilbert Chan   \n",
       "\n",
       "                                                      cast    country  \\\n",
       "show_id                                                                 \n",
       "s1       João Miguel, Bianca Comparato, Michel Gomes, R...     Brazil   \n",
       "s2       Demián Bichir, Héctor Bonilla, Oscar Serrano, ...     Mexico   \n",
       "s3       Tedd Chan, Stella Chung, Henley Hii, Lawrence ...  Singapore   \n",
       "\n",
       "        date_added  release_year rating   duration  \\\n",
       "show_id                                              \n",
       "s1      2020-08-14          2020  TV-MA  4 Seasons   \n",
       "s2      2016-12-23          2016  TV-MA     93 min   \n",
       "s3      2018-12-20          2011      R     78 min   \n",
       "\n",
       "                                                 listed_in  \\\n",
       "show_id                                                      \n",
       "s1       International TV Shows, TV Dramas, TV Sci-Fi &...   \n",
       "s2                            Dramas, International Movies   \n",
       "s3                     Horror Movies, International Movies   \n",
       "\n",
       "                                               description  year_added  \\\n",
       "show_id                                                                  \n",
       "s1       In a future where the elite inhabit an island ...        2020   \n",
       "s2       After a devastating earthquake hits Mexico Cit...        2016   \n",
       "s3       When an army recruit is found dead, his fellow...        2018   \n",
       "\n",
       "         month_added  Horror_TV_Movie  \n",
       "show_id                                \n",
       "s1                 8            False  \n",
       "s2                12            False  \n",
       "s3                12             True  "
      ]
     },
     "execution_count": 48,
     "metadata": {},
     "output_type": "execute_result"
    }
   ],
   "source": [
    "horror = ['TV Horror', 'Horror Movies']\n",
    "nmts_df[\"Horror_TV_Movie\"] = nmts_df.listed_in.str.contains('|'.join(horror))\n",
    "nmts_df.head(3)"
   ]
  },
  {
   "cell_type": "markdown",
   "id": "f245aa7e-635f-4af0-9786-7a6fafdbf7d0",
   "metadata": {},
   "source": [
    "**Đếm số lượng phim kinh dị theo từng tháng từng năm**"
   ]
  },
  {
   "cell_type": "code",
   "execution_count": 49,
   "id": "83ac77cc",
   "metadata": {
    "jupyter": {
     "source_hidden": true
    }
   },
   "outputs": [
    {
     "data": {
      "text/html": [
       "<div>\n",
       "<style scoped>\n",
       "    .dataframe tbody tr th:only-of-type {\n",
       "        vertical-align: middle;\n",
       "    }\n",
       "\n",
       "    .dataframe tbody tr th {\n",
       "        vertical-align: top;\n",
       "    }\n",
       "\n",
       "    .dataframe thead th {\n",
       "        text-align: right;\n",
       "    }\n",
       "</style>\n",
       "<table border=\"1\" class=\"dataframe\">\n",
       "  <thead>\n",
       "    <tr style=\"text-align: right;\">\n",
       "      <th>year_added</th>\n",
       "      <th>0</th>\n",
       "      <th>2008</th>\n",
       "      <th>2009</th>\n",
       "      <th>2010</th>\n",
       "      <th>2011</th>\n",
       "      <th>2012</th>\n",
       "      <th>2013</th>\n",
       "      <th>2014</th>\n",
       "      <th>2015</th>\n",
       "      <th>2016</th>\n",
       "      <th>2017</th>\n",
       "      <th>2018</th>\n",
       "      <th>2019</th>\n",
       "      <th>2020</th>\n",
       "      <th>2021</th>\n",
       "    </tr>\n",
       "    <tr>\n",
       "      <th>month_added</th>\n",
       "      <th></th>\n",
       "      <th></th>\n",
       "      <th></th>\n",
       "      <th></th>\n",
       "      <th></th>\n",
       "      <th></th>\n",
       "      <th></th>\n",
       "      <th></th>\n",
       "      <th></th>\n",
       "      <th></th>\n",
       "      <th></th>\n",
       "      <th></th>\n",
       "      <th></th>\n",
       "      <th></th>\n",
       "      <th></th>\n",
       "    </tr>\n",
       "  </thead>\n",
       "  <tbody>\n",
       "    <tr>\n",
       "      <th>0</th>\n",
       "      <td>0.0</td>\n",
       "      <td>NaN</td>\n",
       "      <td>NaN</td>\n",
       "      <td>NaN</td>\n",
       "      <td>NaN</td>\n",
       "      <td>NaN</td>\n",
       "      <td>NaN</td>\n",
       "      <td>NaN</td>\n",
       "      <td>NaN</td>\n",
       "      <td>NaN</td>\n",
       "      <td>NaN</td>\n",
       "      <td>NaN</td>\n",
       "      <td>NaN</td>\n",
       "      <td>NaN</td>\n",
       "      <td>NaN</td>\n",
       "    </tr>\n",
       "    <tr>\n",
       "      <th>1</th>\n",
       "      <td>NaN</td>\n",
       "      <td>0.0</td>\n",
       "      <td>NaN</td>\n",
       "      <td>NaN</td>\n",
       "      <td>NaN</td>\n",
       "      <td>NaN</td>\n",
       "      <td>NaN</td>\n",
       "      <td>0.0</td>\n",
       "      <td>0.0</td>\n",
       "      <td>0.0</td>\n",
       "      <td>4.0</td>\n",
       "      <td>9.0</td>\n",
       "      <td>11.0</td>\n",
       "      <td>26.0</td>\n",
       "      <td>3.0</td>\n",
       "    </tr>\n",
       "    <tr>\n",
       "      <th>2</th>\n",
       "      <td>NaN</td>\n",
       "      <td>0.0</td>\n",
       "      <td>NaN</td>\n",
       "      <td>NaN</td>\n",
       "      <td>NaN</td>\n",
       "      <td>0.0</td>\n",
       "      <td>NaN</td>\n",
       "      <td>0.0</td>\n",
       "      <td>0.0</td>\n",
       "      <td>0.0</td>\n",
       "      <td>2.0</td>\n",
       "      <td>5.0</td>\n",
       "      <td>9.0</td>\n",
       "      <td>6.0</td>\n",
       "      <td>NaN</td>\n",
       "    </tr>\n",
       "    <tr>\n",
       "      <th>3</th>\n",
       "      <td>NaN</td>\n",
       "      <td>NaN</td>\n",
       "      <td>NaN</td>\n",
       "      <td>NaN</td>\n",
       "      <td>NaN</td>\n",
       "      <td>NaN</td>\n",
       "      <td>0.0</td>\n",
       "      <td>NaN</td>\n",
       "      <td>0.0</td>\n",
       "      <td>1.0</td>\n",
       "      <td>3.0</td>\n",
       "      <td>8.0</td>\n",
       "      <td>12.0</td>\n",
       "      <td>3.0</td>\n",
       "      <td>NaN</td>\n",
       "    </tr>\n",
       "    <tr>\n",
       "      <th>4</th>\n",
       "      <td>NaN</td>\n",
       "      <td>NaN</td>\n",
       "      <td>NaN</td>\n",
       "      <td>NaN</td>\n",
       "      <td>NaN</td>\n",
       "      <td>NaN</td>\n",
       "      <td>NaN</td>\n",
       "      <td>0.0</td>\n",
       "      <td>0.0</td>\n",
       "      <td>2.0</td>\n",
       "      <td>1.0</td>\n",
       "      <td>4.0</td>\n",
       "      <td>16.0</td>\n",
       "      <td>5.0</td>\n",
       "      <td>NaN</td>\n",
       "    </tr>\n",
       "    <tr>\n",
       "      <th>5</th>\n",
       "      <td>NaN</td>\n",
       "      <td>NaN</td>\n",
       "      <td>0.0</td>\n",
       "      <td>NaN</td>\n",
       "      <td>0.0</td>\n",
       "      <td>NaN</td>\n",
       "      <td>NaN</td>\n",
       "      <td>NaN</td>\n",
       "      <td>0.0</td>\n",
       "      <td>1.0</td>\n",
       "      <td>0.0</td>\n",
       "      <td>4.0</td>\n",
       "      <td>11.0</td>\n",
       "      <td>8.0</td>\n",
       "      <td>NaN</td>\n",
       "    </tr>\n",
       "    <tr>\n",
       "      <th>6</th>\n",
       "      <td>NaN</td>\n",
       "      <td>NaN</td>\n",
       "      <td>NaN</td>\n",
       "      <td>NaN</td>\n",
       "      <td>NaN</td>\n",
       "      <td>NaN</td>\n",
       "      <td>NaN</td>\n",
       "      <td>0.0</td>\n",
       "      <td>0.0</td>\n",
       "      <td>0.0</td>\n",
       "      <td>4.0</td>\n",
       "      <td>3.0</td>\n",
       "      <td>9.0</td>\n",
       "      <td>13.0</td>\n",
       "      <td>NaN</td>\n",
       "    </tr>\n",
       "    <tr>\n",
       "      <th>7</th>\n",
       "      <td>NaN</td>\n",
       "      <td>NaN</td>\n",
       "      <td>NaN</td>\n",
       "      <td>NaN</td>\n",
       "      <td>NaN</td>\n",
       "      <td>NaN</td>\n",
       "      <td>NaN</td>\n",
       "      <td>0.0</td>\n",
       "      <td>1.0</td>\n",
       "      <td>2.0</td>\n",
       "      <td>2.0</td>\n",
       "      <td>11.0</td>\n",
       "      <td>7.0</td>\n",
       "      <td>3.0</td>\n",
       "      <td>NaN</td>\n",
       "    </tr>\n",
       "    <tr>\n",
       "      <th>8</th>\n",
       "      <td>NaN</td>\n",
       "      <td>NaN</td>\n",
       "      <td>NaN</td>\n",
       "      <td>NaN</td>\n",
       "      <td>NaN</td>\n",
       "      <td>NaN</td>\n",
       "      <td>0.0</td>\n",
       "      <td>0.0</td>\n",
       "      <td>0.0</td>\n",
       "      <td>1.0</td>\n",
       "      <td>4.0</td>\n",
       "      <td>10.0</td>\n",
       "      <td>6.0</td>\n",
       "      <td>6.0</td>\n",
       "      <td>NaN</td>\n",
       "    </tr>\n",
       "    <tr>\n",
       "      <th>9</th>\n",
       "      <td>NaN</td>\n",
       "      <td>NaN</td>\n",
       "      <td>NaN</td>\n",
       "      <td>NaN</td>\n",
       "      <td>0.0</td>\n",
       "      <td>NaN</td>\n",
       "      <td>0.0</td>\n",
       "      <td>0.0</td>\n",
       "      <td>1.0</td>\n",
       "      <td>2.0</td>\n",
       "      <td>6.0</td>\n",
       "      <td>13.0</td>\n",
       "      <td>9.0</td>\n",
       "      <td>4.0</td>\n",
       "      <td>NaN</td>\n",
       "    </tr>\n",
       "    <tr>\n",
       "      <th>10</th>\n",
       "      <td>NaN</td>\n",
       "      <td>NaN</td>\n",
       "      <td>NaN</td>\n",
       "      <td>NaN</td>\n",
       "      <td>0.0</td>\n",
       "      <td>NaN</td>\n",
       "      <td>0.0</td>\n",
       "      <td>0.0</td>\n",
       "      <td>2.0</td>\n",
       "      <td>1.0</td>\n",
       "      <td>4.0</td>\n",
       "      <td>12.0</td>\n",
       "      <td>16.0</td>\n",
       "      <td>14.0</td>\n",
       "      <td>NaN</td>\n",
       "    </tr>\n",
       "    <tr>\n",
       "      <th>11</th>\n",
       "      <td>NaN</td>\n",
       "      <td>NaN</td>\n",
       "      <td>1.0</td>\n",
       "      <td>1.0</td>\n",
       "      <td>NaN</td>\n",
       "      <td>0.0</td>\n",
       "      <td>0.0</td>\n",
       "      <td>0.0</td>\n",
       "      <td>0.0</td>\n",
       "      <td>0.0</td>\n",
       "      <td>1.0</td>\n",
       "      <td>7.0</td>\n",
       "      <td>8.0</td>\n",
       "      <td>8.0</td>\n",
       "      <td>NaN</td>\n",
       "    </tr>\n",
       "    <tr>\n",
       "      <th>12</th>\n",
       "      <td>NaN</td>\n",
       "      <td>NaN</td>\n",
       "      <td>NaN</td>\n",
       "      <td>NaN</td>\n",
       "      <td>NaN</td>\n",
       "      <td>0.0</td>\n",
       "      <td>0.0</td>\n",
       "      <td>0.0</td>\n",
       "      <td>0.0</td>\n",
       "      <td>3.0</td>\n",
       "      <td>9.0</td>\n",
       "      <td>5.0</td>\n",
       "      <td>10.0</td>\n",
       "      <td>6.0</td>\n",
       "      <td>NaN</td>\n",
       "    </tr>\n",
       "  </tbody>\n",
       "</table>\n",
       "</div>"
      ],
      "text/plain": [
       "year_added   0     2008  2009  2010  2011  2012  2013  2014  2015  2016  2017  \\\n",
       "month_added                                                                     \n",
       "0             0.0   NaN   NaN   NaN   NaN   NaN   NaN   NaN   NaN   NaN   NaN   \n",
       "1             NaN   0.0   NaN   NaN   NaN   NaN   NaN   0.0   0.0   0.0   4.0   \n",
       "2             NaN   0.0   NaN   NaN   NaN   0.0   NaN   0.0   0.0   0.0   2.0   \n",
       "3             NaN   NaN   NaN   NaN   NaN   NaN   0.0   NaN   0.0   1.0   3.0   \n",
       "4             NaN   NaN   NaN   NaN   NaN   NaN   NaN   0.0   0.0   2.0   1.0   \n",
       "5             NaN   NaN   0.0   NaN   0.0   NaN   NaN   NaN   0.0   1.0   0.0   \n",
       "6             NaN   NaN   NaN   NaN   NaN   NaN   NaN   0.0   0.0   0.0   4.0   \n",
       "7             NaN   NaN   NaN   NaN   NaN   NaN   NaN   0.0   1.0   2.0   2.0   \n",
       "8             NaN   NaN   NaN   NaN   NaN   NaN   0.0   0.0   0.0   1.0   4.0   \n",
       "9             NaN   NaN   NaN   NaN   0.0   NaN   0.0   0.0   1.0   2.0   6.0   \n",
       "10            NaN   NaN   NaN   NaN   0.0   NaN   0.0   0.0   2.0   1.0   4.0   \n",
       "11            NaN   NaN   1.0   1.0   NaN   0.0   0.0   0.0   0.0   0.0   1.0   \n",
       "12            NaN   NaN   NaN   NaN   NaN   0.0   0.0   0.0   0.0   3.0   9.0   \n",
       "\n",
       "year_added   2018  2019  2020  2021  \n",
       "month_added                          \n",
       "0             NaN   NaN   NaN   NaN  \n",
       "1             9.0  11.0  26.0   3.0  \n",
       "2             5.0   9.0   6.0   NaN  \n",
       "3             8.0  12.0   3.0   NaN  \n",
       "4             4.0  16.0   5.0   NaN  \n",
       "5             4.0  11.0   8.0   NaN  \n",
       "6             3.0   9.0  13.0   NaN  \n",
       "7            11.0   7.0   3.0   NaN  \n",
       "8            10.0   6.0   6.0   NaN  \n",
       "9            13.0   9.0   4.0   NaN  \n",
       "10           12.0  16.0  14.0   NaN  \n",
       "11            7.0   8.0   8.0   NaN  \n",
       "12            5.0  10.0   6.0   NaN  "
      ]
     },
     "execution_count": 49,
     "metadata": {},
     "output_type": "execute_result"
    }
   ],
   "source": [
    "horror_df = nmts_df.groupby([\"month_added\", \"year_added\"])[\"Horror_TV_Movie\"].agg(sum)\n",
    "horror_df = horror_df.unstack()\n",
    "horror_df"
   ]
  },
  {
   "cell_type": "markdown",
   "id": "14689629",
   "metadata": {},
   "source": [
    "### Quan sát thấy chỉ có 3 năm 2018, 2019, 2020 là có số lượng dữ liệu tương đối đủ để phân tích. Nên ta chỉ lọc ra 3 năm này"
   ]
  },
  {
   "cell_type": "code",
   "execution_count": 50,
   "id": "06c3b979",
   "metadata": {
    "jupyter": {
     "source_hidden": true
    }
   },
   "outputs": [
    {
     "data": {
      "text/html": [
       "<div>\n",
       "<style scoped>\n",
       "    .dataframe tbody tr th:only-of-type {\n",
       "        vertical-align: middle;\n",
       "    }\n",
       "\n",
       "    .dataframe tbody tr th {\n",
       "        vertical-align: top;\n",
       "    }\n",
       "\n",
       "    .dataframe thead th {\n",
       "        text-align: right;\n",
       "    }\n",
       "</style>\n",
       "<table border=\"1\" class=\"dataframe\">\n",
       "  <thead>\n",
       "    <tr style=\"text-align: right;\">\n",
       "      <th>year_added</th>\n",
       "      <th>2018</th>\n",
       "      <th>2019</th>\n",
       "      <th>2020</th>\n",
       "    </tr>\n",
       "    <tr>\n",
       "      <th>month_added</th>\n",
       "      <th></th>\n",
       "      <th></th>\n",
       "      <th></th>\n",
       "    </tr>\n",
       "  </thead>\n",
       "  <tbody>\n",
       "    <tr>\n",
       "      <th>1</th>\n",
       "      <td>9.0</td>\n",
       "      <td>11.0</td>\n",
       "      <td>26.0</td>\n",
       "    </tr>\n",
       "    <tr>\n",
       "      <th>2</th>\n",
       "      <td>5.0</td>\n",
       "      <td>9.0</td>\n",
       "      <td>6.0</td>\n",
       "    </tr>\n",
       "    <tr>\n",
       "      <th>3</th>\n",
       "      <td>8.0</td>\n",
       "      <td>12.0</td>\n",
       "      <td>3.0</td>\n",
       "    </tr>\n",
       "    <tr>\n",
       "      <th>4</th>\n",
       "      <td>4.0</td>\n",
       "      <td>16.0</td>\n",
       "      <td>5.0</td>\n",
       "    </tr>\n",
       "    <tr>\n",
       "      <th>5</th>\n",
       "      <td>4.0</td>\n",
       "      <td>11.0</td>\n",
       "      <td>8.0</td>\n",
       "    </tr>\n",
       "    <tr>\n",
       "      <th>6</th>\n",
       "      <td>3.0</td>\n",
       "      <td>9.0</td>\n",
       "      <td>13.0</td>\n",
       "    </tr>\n",
       "    <tr>\n",
       "      <th>7</th>\n",
       "      <td>11.0</td>\n",
       "      <td>7.0</td>\n",
       "      <td>3.0</td>\n",
       "    </tr>\n",
       "    <tr>\n",
       "      <th>8</th>\n",
       "      <td>10.0</td>\n",
       "      <td>6.0</td>\n",
       "      <td>6.0</td>\n",
       "    </tr>\n",
       "    <tr>\n",
       "      <th>9</th>\n",
       "      <td>13.0</td>\n",
       "      <td>9.0</td>\n",
       "      <td>4.0</td>\n",
       "    </tr>\n",
       "    <tr>\n",
       "      <th>10</th>\n",
       "      <td>12.0</td>\n",
       "      <td>16.0</td>\n",
       "      <td>14.0</td>\n",
       "    </tr>\n",
       "    <tr>\n",
       "      <th>11</th>\n",
       "      <td>7.0</td>\n",
       "      <td>8.0</td>\n",
       "      <td>8.0</td>\n",
       "    </tr>\n",
       "    <tr>\n",
       "      <th>12</th>\n",
       "      <td>5.0</td>\n",
       "      <td>10.0</td>\n",
       "      <td>6.0</td>\n",
       "    </tr>\n",
       "  </tbody>\n",
       "</table>\n",
       "</div>"
      ],
      "text/plain": [
       "year_added   2018  2019  2020\n",
       "month_added                  \n",
       "1             9.0  11.0  26.0\n",
       "2             5.0   9.0   6.0\n",
       "3             8.0  12.0   3.0\n",
       "4             4.0  16.0   5.0\n",
       "5             4.0  11.0   8.0\n",
       "6             3.0   9.0  13.0\n",
       "7            11.0   7.0   3.0\n",
       "8            10.0   6.0   6.0\n",
       "9            13.0   9.0   4.0\n",
       "10           12.0  16.0  14.0\n",
       "11            7.0   8.0   8.0\n",
       "12            5.0  10.0   6.0"
      ]
     },
     "execution_count": 50,
     "metadata": {},
     "output_type": "execute_result"
    }
   ],
   "source": [
    "horror_df = horror_df.loc[1:, 2018:2020]\n",
    "horror_df"
   ]
  },
  {
   "cell_type": "markdown",
   "id": "3d7b4659",
   "metadata": {},
   "source": [
    "### Vẽ biểu đồ và nhận xét"
   ]
  },
  {
   "cell_type": "code",
   "execution_count": 51,
   "id": "97501d57",
   "metadata": {
    "jupyter": {
     "source_hidden": true
    }
   },
   "outputs": [
    {
     "data": {
      "image/png": "[encoded data removed]",
      "text/plain": [
       "<Figure size 720x576 with 1 Axes>"
      ]
     },
     "metadata": {},
     "output_type": "display_data"
    }
   ],
   "source": [
    "horror_df.plot.bar(stacked = True, figsize=(10,8), ylabel='Number of releases');"
   ]
  },
  {
   "cell_type": "markdown",
   "id": "c6e7fc59",
   "metadata": {},
   "source": [
    "**Nhận xét**: Ta thấy tháng 1 và tháng 10 có số lượng phim kinh dị nhiều hơn đáng kể so với các tháng còn lại. Tháng 10 ổn định hơn với số lượng phim kinh dị của các năm đều nhau. Còn tháng 1 thì số lượng phim kinh dị của năm 2020 đặc biệt nhiều hơn các năm còn lại làm tháng này có nhiều phim kinh dị hơn, nên chưa thể kết luận ở tháng này. Vì vậy, đối với những tín đồ phim kinh dị có thể đón xem các tựa phim kinh dị vào tháng 10, đây cũng là tháng có ngày lễ Halloween rất thích hợp để xem thể loại phim này. Còn đối với nhà sản xuất, có thể công chiếu phim kinh dị vào các 2, 7 và 12 để giảm cạnh tranh bởi các tựa phim kinh cùng thể loại."
   ]
  },
  {
   "cell_type": "markdown",
   "id": "80bd3405",
   "metadata": {},
   "source": [
    "# Nhìn lại quá trình làm đồ án"
   ]
  },
  {
   "cell_type": "markdown",
   "id": "0bbf7be1",
   "metadata": {},
   "source": [
    "Đã gặp những khó khăn gì?\n",
    "- Bản: Việc xử lý các dòng có description bị lặp khá là khó khắn, phải tìm kiếm nhiều nguồn khác nhau trên Internet (có thể không chính xác)\n",
    "- Vũ: Dữ liệu còn khá hạn chế nên không đặt được nhiều câu hỏi có ý nghĩa hơn.\n",
    "\n",
    "Có học được gì hữu ích?\n",
    "- Bản: Được làm việc nhóm và sử dụng git nhiều hơn, đưa ra quyết định dựa trên dữ liệu. Qua góp ý của các bạn khác nhóm cũng biết được nhiều hướng xử lý khác nhau\n",
    "- Vũ: Học cách sử dụng github để làm việc nhóm hiệu quả hơn, học được cách xử lý chuỗi trong DataFrame\n",
    "\n",
    "Nếu có thêm thời gian sẽ làm gì?\n",
    "- Nhóm: Sẽ làm thêm hệ thống recommend"
   ]
  },
  {
   "cell_type": "markdown",
   "id": "bb1510a8",
   "metadata": {},
   "source": [
    "# Tài liệu tham khảo"
   ]
  },
  {
   "cell_type": "markdown",
   "id": "7e2ad118",
   "metadata": {},
   "source": [
    "1. https://www.kaggle.com/shivamb/netflix-shows\n",
    "2. https://help.netflix.com/vi/node/2064/us\n",
    "3. https://en.wikipedia.org/wiki/TV_Parental_Guidelines\n",
    "4. https://en.wikipedia.org/wiki/Chashme_Baddoor_(2013_film)\n",
    "5. https://tuoitre.vn/khan-gia-che-phim-viet-vi-sao-435138.htm"
   ]
  }
 ],
 "metadata": {
  "kernelspec": {
   "display_name": "Python 3",
   "language": "python",
   "name": "python3"
  },
  "language_info": {
   "codemirror_mode": {
    "name": "ipython",
    "version": 3
   },
   "file_extension": ".py",
   "mimetype": "text/x-python",
   "name": "python",
   "nbconvert_exporter": "python",
   "pygments_lexer": "ipython3",
   "version": "3.8.8"
  },
  "toc": {
   "base_numbering": 1,
   "nav_menu": {},
   "number_sections": false,
   "sideBar": true,
   "skip_h1_title": false,
   "title_cell": "Table of Contents",
   "title_sidebar": "Contents",
   "toc_cell": true,
   "toc_position": {
    "height": "calc(100% - 180px)",
    "left": "10px",
    "top": "150px",
    "width": "273.188px"
   },
   "toc_section_display": true,
   "toc_window_display": true
  }
 },
 "nbformat": 4,
 "nbformat_minor": 5
}
